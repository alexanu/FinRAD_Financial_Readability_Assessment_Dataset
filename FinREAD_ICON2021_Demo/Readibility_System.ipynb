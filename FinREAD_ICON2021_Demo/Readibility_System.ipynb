{
  "nbformat": 4,
  "nbformat_minor": 0,
  "metadata": {
    "colab": {
      "name": "Readibility_System.ipynb",
      "provenance": []
    },
    "kernelspec": {
      "name": "python3",
      "display_name": "Python 3"
    },
    "language_info": {
      "name": "python"
    },
    "accelerator": "TPU"
  },
  "cells": [
    {
      "cell_type": "code",
      "metadata": {
        "id": "OwvDQ1pExjnX",
        "cellView": "form"
      },
      "source": [
        "#@title Load Artifacts\n",
        "!pip install sentence_transformers\n",
        "import warnings\n",
        "warnings.filterwarnings('ignore')\n",
        "\n",
        "#Upload the file lr_clf_finbert.pickle\n",
        "\n",
        "import pickle\n",
        "lr_clf_finbert = pickle.load(open(\"clf_lgbm_finbert.pickle\", 'rb')) # Present in Readability-Project -> model [FOLDER]\n",
        "\n",
        "from sentence_transformers import SentenceTransformer\n",
        "model = SentenceTransformer('ProsusAI/finbert')\n",
        "\n",
        "def get_readability(text):\n",
        "  emd = model.encode([text])\n",
        "  ans = 'not readable'\n",
        "  if lr_clf_finbert.predict(emd)==1:\n",
        "    ans = 'readable'\n",
        "\n",
        "  print(\"Predicted Type:\", ans)\n",
        "  print(\"Preidcted Score:\", lr_clf_finbert.predict_proba(emd)[0,1])"
      ],
      "execution_count": null,
      "outputs": []
    },
    {
      "cell_type": "markdown",
      "metadata": {
        "id": "rao4-q7r0qKU"
      },
      "source": [
        "Input Examples\n",
        "----------------\n",
        "\n",
        "**Readable**: Inflation is the rate of increase in prices over a given period of time. Inflation is typically a broad measure, such as the overall increase in prices or the increase in the cost of living in a country.\n",
        "\n",
        "**Not Readable**: Legally assured line of credit with a bank"
      ]
    },
    {
      "cell_type": "code",
      "metadata": {
        "colab": {
          "base_uri": "https://localhost:8080/"
        },
        "id": "jZIOBZPStraN",
        "cellView": "form",
        "outputId": "9f28d676-1ac6-4bca-bac4-71e6afbf0b7d"
      },
      "source": [
        "#@title Financial Readability : Enter your text\n",
        "text_inp = \"A mutual fund is a type of financial vehicle made up of a pool of money collected from many investors to invest in securities like stocks, bonds, money market instruments\" #@param {type:\"string\"}\n",
        "get_readability(text_inp)"
      ],
      "execution_count": null,
      "outputs": [
        {
          "output_type": "stream",
          "name": "stdout",
          "text": [
            "Predicted Type: readable\n",
            "Preidcted Score: 0.836585059065953\n"
          ]
        }
      ]
    },
    {
      "cell_type": "markdown",
      "source": [
        "Examples:<br>\n",
        "\n",
        "\n",
        "1.   **Inflation:** Inflation is the rate of increase in prices over a given period of time. Inflation is typically a broad measure, such as the overall increase in prices or the increase in the cost of living in a country.\n",
        "2.   **Revolving credit:** Legally assured line of credit with a bank\n",
        "\n"
      ],
      "metadata": {
        "id": "Ivnfw7OWr0_Z"
      }
    },
    {
      "cell_type": "code",
      "source": [
        ""
      ],
      "metadata": {
        "id": "jM_zBGHbsyS9"
      },
      "execution_count": null,
      "outputs": []
    }
  ]
}