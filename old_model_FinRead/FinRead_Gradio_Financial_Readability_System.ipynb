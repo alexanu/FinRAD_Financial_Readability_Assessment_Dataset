{
  "nbformat": 4,
  "nbformat_minor": 0,
  "metadata": {
    "colab": {
      "name": "FinRead Gradio Financial Readability_System.ipynb",
      "provenance": [],
      "collapsed_sections": [],
      "authorship_tag": "ABX9TyMoWn5dIZFo0WpO4SSBkFYR",
      "include_colab_link": true
    },
    "kernelspec": {
      "name": "python3",
      "display_name": "Python 3"
    },
    "language_info": {
      "name": "python"
    },
    "accelerator": "TPU"
  },
  "cells": [
    {
      "cell_type": "markdown",
      "metadata": {
        "id": "view-in-github",
        "colab_type": "text"
      },
      "source": [
        "<a href=\"https://colab.research.google.com/github/sohomghosh/FinRAD_Financial_Readability_Assessment_Dataset/blob/main/old_model_FinRead/FinRead_Gradio_Financial_Readability_System.ipynb\" target=\"_parent\"><img src=\"https://colab.research.google.com/assets/colab-badge.svg\" alt=\"Open In Colab\"/></a>"
      ]
    },
    {
      "cell_type": "code",
      "source": [
        "!pip install sentence_transformers\n",
        "!pip install gradio"
      ],
      "metadata": {
        "id": "XfQltmQD0J-p"
      },
      "execution_count": null,
      "outputs": []
    },
    {
      "cell_type": "code",
      "source": [
        "!wget https://raw.githubusercontent.com/sohomghosh/FinRAD_Financial_Readability_Assessment_Dataset/main/old_model_FinRead/FinRead_ICON2021_Demo/clf_lgbm_finbert.pickle"
      ],
      "metadata": {
        "id": "slMGPTxI9A00"
      },
      "execution_count": null,
      "outputs": []
    },
    {
      "cell_type": "code",
      "source": [
        "import pickle\n",
        "import gradio as gr\n",
        "from sentence_transformers import SentenceTransformer\n",
        "lr_clf_finbert = pickle.load(open(\"clf_lgbm_finbert.pickle\", 'rb'))\n",
        "model = SentenceTransformer('ProsusAI/finbert')"
      ],
      "metadata": {
        "id": "jM_zBGHbsyS9"
      },
      "execution_count": null,
      "outputs": []
    },
    {
      "cell_type": "code",
      "source": [
        "def get_readability(text):\n",
        "  emd = model.encode([text])\n",
        "  ans = 'not readable'\n",
        "  if lr_clf_finbert.predict(emd)==1:\n",
        "    ans = 'readable'\n",
        "  score = str(round(lr_clf_finbert.predict_proba(emd)[0,1],4))\n",
        "  return \"Prediction: \"+ans +\"\\nPredicted probability: \"+ score"
      ],
      "metadata": {
        "id": "1fElBvmf1PIm"
      },
      "execution_count": 5,
      "outputs": []
    },
    {
      "cell_type": "code",
      "source": [
        "iface = gr.Interface(fn=get_readability, inputs=\"textbox\", title=\"FinRead\",description=\"Financial Readability Assessment Tool\", outputs=\"textbox\", allow_flagging=\"never\", examples=[['Inflation is the rate of increase in prices over a given period of time. Inflation is typically a broad measure, such as the overall increase in prices or the increase in the cost of living in a country.'], ['Legally assured line of credit with a bank'], ['A mutual fund is a type of financial vehicle made up of a pool of money collected from many investors to invest in securities like stocks, bonds, money market instruments']])\n",
        "iface.launch()"
      ],
      "metadata": {
        "colab": {
          "base_uri": "https://localhost:8080/",
          "height": 643
        },
        "id": "A4lAWs_N1Epn",
        "outputId": "eb63f3b2-c906-4dc8-a08b-a6419ba5080a"
      },
      "execution_count": 6,
      "outputs": [
        {
          "output_type": "stream",
          "name": "stdout",
          "text": [
            "Colab notebook detected. To show errors in colab notebook, set `debug=True` in `launch()`\n",
            "Running on public URL: https://55899.gradio.app\n",
            "\n",
            "This share link expires in 72 hours. For free permanent hosting, check out Spaces (https://huggingface.co/spaces)\n"
          ]
        },
        {
          "output_type": "display_data",
          "data": {
            "text/html": [
              "\n",
              "        <iframe\n",
              "            width=\"900\"\n",
              "            height=\"500\"\n",
              "            src=\"https://55899.gradio.app\"\n",
              "            frameborder=\"0\"\n",
              "            allowfullscreen\n",
              "        ></iframe>\n",
              "        "
            ],
            "text/plain": [
              "<IPython.lib.display.IFrame at 0x7fb0f5785210>"
            ]
          },
          "metadata": {}
        },
        {
          "output_type": "execute_result",
          "data": {
            "text/plain": [
              "(<fastapi.applications.FastAPI at 0x7fb27189bad0>,\n",
              " 'http://127.0.0.1:7860/',\n",
              " 'https://55899.gradio.app')"
            ]
          },
          "metadata": {},
          "execution_count": 6
        }
      ]
    }
  ]
}