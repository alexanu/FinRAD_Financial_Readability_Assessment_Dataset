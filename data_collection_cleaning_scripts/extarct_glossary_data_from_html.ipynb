{
  "nbformat": 4,
  "nbformat_minor": 0,
  "metadata": {
    "colab": {
      "name": "extarct_glossary_data_from_html.ipynb",
      "provenance": [],
      "collapsed_sections": []
    },
    "kernelspec": {
      "name": "python3",
      "display_name": "Python 3"
    },
    "language_info": {
      "name": "python"
    }
  },
  "cells": [
    {
      "cell_type": "code",
      "metadata": {
        "id": "JAwae-C6CEjR"
      },
      "source": [
        "from bs4 import BeautifulSoup"
      ],
      "execution_count": null,
      "outputs": []
    },
    {
      "cell_type": "code",
      "metadata": {
        "id": "Y70qhhPG_aZs"
      },
      "source": [
        "import pandas as pd"
      ],
      "execution_count": null,
      "outputs": []
    },
    {
      "cell_type": "code",
      "metadata": {
        "id": "Ypr6FF0Ye9TA"
      },
      "source": [
        "import re"
      ],
      "execution_count": null,
      "outputs": []
    },
    {
      "cell_type": "code",
      "metadata": {
        "id": "wGl4T5ABTC57"
      },
      "source": [
        "pd.set_option('display.max_rows', 500)\n",
        "pd.set_option('display.max_columns', 500)\n",
        "pd.set_option('display.width', 1000)"
      ],
      "execution_count": null,
      "outputs": []
    },
    {
      "cell_type": "code",
      "metadata": {
        "id": "ynOvS7FxE_je"
      },
      "source": [
        "from collections import Counter"
      ],
      "execution_count": null,
      "outputs": []
    },
    {
      "cell_type": "markdown",
      "metadata": {
        "id": "BZri7d1n_h8-"
      },
      "source": [
        "# NCERT DATA"
      ]
    },
    {
      "cell_type": "code",
      "metadata": {
        "id": "-CuUE2Pt5B0x"
      },
      "source": [
        "soup = BeautifulSoup(open(\"Glossary_ncert.html\"), 'html.parser')"
      ],
      "execution_count": null,
      "outputs": []
    },
    {
      "cell_type": "code",
      "metadata": {
        "id": "8Eqm1vrm9bKP"
      },
      "source": [
        "all_terms = [i.text.strip() for i in soup.find_all('span', {\"class\": [\"ft1\", \"ft4\"]})]"
      ],
      "execution_count": null,
      "outputs": []
    },
    {
      "cell_type": "code",
      "metadata": {
        "colab": {
          "base_uri": "https://localhost:8080/"
        },
        "id": "3nCXZYYsFPmq",
        "outputId": "53548d4e-529b-42a8-b34d-3b5f8031dad4"
      },
      "source": [
        "Counter(all_terms).most_common(10)"
      ],
      "execution_count": null,
      "outputs": [
        {
          "output_type": "execute_result",
          "data": {
            "text/plain": [
              "[('Depreciation', 2),\n",
              " ('Adam Smith', 1),\n",
              " ('Aggregate monetary resources', 1),\n",
              " ('Automatic stabilisers', 1),\n",
              " ('Autonomous change', 1),\n",
              " ('Autonomous expenditure multiplier', 1),\n",
              " ('Balance of payments', 1),\n",
              " ('Balanced budget', 1),\n",
              " ('Balanced budget multiplier', 1),\n",
              " ('Bank rate', 1)]"
            ]
          },
          "metadata": {},
          "execution_count": 57
        }
      ]
    },
    {
      "cell_type": "code",
      "metadata": {
        "id": "HITPwgen-CYG"
      },
      "source": [
        "all_texts = [i.text.strip() for i in soup.find_all('p')]"
      ],
      "execution_count": null,
      "outputs": []
    },
    {
      "cell_type": "code",
      "metadata": {
        "id": "AYv1TNzY-xVn"
      },
      "source": [
        "terms_li=[]\n",
        "texts_li = []\n",
        "for term in all_terms:\n",
        "  for text in all_texts:\n",
        "    if term in text:\n",
        "      terms_li.append(term)\n",
        "      texts_li.append(text.replace(term,'').strip())\n"
      ],
      "execution_count": null,
      "outputs": []
    },
    {
      "cell_type": "code",
      "metadata": {
        "id": "3KchsDR1_dbd"
      },
      "source": [
        "ncert_data = pd.DataFrame({'terms':terms_li,'definitions':texts_li})\n",
        "ncert_data['source'] = 'ncert'\n",
        "ncert_data['assigned_readibility']=1.0\n",
        "ncert_data"
      ],
      "execution_count": null,
      "outputs": []
    },
    {
      "cell_type": "code",
      "metadata": {
        "id": "V9tAGwJ1AMk_"
      },
      "source": [
        "ncert_data.to_csv('ncert_data.csv', index = False)"
      ],
      "execution_count": null,
      "outputs": []
    },
    {
      "cell_type": "code",
      "metadata": {
        "colab": {
          "base_uri": "https://localhost:8080/"
        },
        "id": "M2fhpzHTWHAM",
        "outputId": "55820b4a-11f2-4b4c-d341-8f92afc37c78"
      },
      "source": [
        "ncert_data.shape"
      ],
      "execution_count": null,
      "outputs": [
        {
          "output_type": "execute_result",
          "data": {
            "text/plain": [
              "(149, 4)"
            ]
          },
          "metadata": {},
          "execution_count": 102
        }
      ]
    },
    {
      "cell_type": "markdown",
      "metadata": {
        "id": "BeOjGxXYAhu3"
      },
      "source": [
        "# Options, Futures, and Other Derivatives"
      ]
    },
    {
      "cell_type": "code",
      "metadata": {
        "id": "_Da1qJYXAgeU"
      },
      "source": [
        "soup = BeautifulSoup(open(\"Glossary Options, Futures, and Other Derivatives.html\"), 'html.parser')"
      ],
      "execution_count": null,
      "outputs": []
    },
    {
      "cell_type": "code",
      "metadata": {
        "id": "_RrkZ35NBauH"
      },
      "source": [
        "terms = [i.text.strip() for i in soup.find_all('span', {\"class\": [\"cls_003\"]})]\n",
        "junk_terms_manual = ['Glossary of Terms', 'X%','X','¼', ':','%', 'K', '> K','ðK', 'þ K', 'Þ','N', 'ð','XÞ%','N', 'x', 't','t þ  t', 'i','<','n']\n",
        "all_terms = [i for i in terms if i not in junk_terms_manual]"
      ],
      "execution_count": null,
      "outputs": []
    },
    {
      "cell_type": "code",
      "metadata": {
        "colab": {
          "base_uri": "https://localhost:8080/"
        },
        "id": "mvfD-CmCEE0M",
        "outputId": "388258fd-8bc5-45d0-9d8e-531030444140"
      },
      "source": [
        "Counter(all_terms).most_common(10)"
      ],
      "execution_count": null,
      "outputs": [
        {
          "output_type": "execute_result",
          "data": {
            "text/plain": [
              "[('ABS', 1),\n",
              " ('ABS CDO', 1),\n",
              " ('Accrual Swap', 1),\n",
              " ('Accrued Interest', 1),\n",
              " ('Adaptive Mesh Model', 1),\n",
              " ('Agency Costs', 1),\n",
              " ('American Option', 1),\n",
              " ('Amortizing Swap', 1),\n",
              " ('Analytic Result', 1),\n",
              " ('Arbitrage', 1)]"
            ]
          },
          "metadata": {},
          "execution_count": 60
        }
      ]
    },
    {
      "cell_type": "code",
      "metadata": {
        "id": "fEhzAOT4FiqT"
      },
      "source": [
        "terms_li = []\n",
        "texts_li = []\n",
        "text_str = ''\n",
        "flag = 0\n",
        "for i in soup.find_all('span', {\"class\" : [\"cls_003\", \"cls_004\"]}):\n",
        "  if i['class']==['cls_003'] and  i.text.strip() in all_terms:\n",
        "    if flag == 1:\n",
        "      texts_li.append(text_str)\n",
        "    terms_li.append(i.text.strip())\n",
        "    text_str = ''\n",
        "  elif i['class']==['cls_004']:\n",
        "    text_str = text_str + i.text.strip() + ' '\n",
        "    flag = 1\n",
        "\n",
        "texts_li.append(text_str)"
      ],
      "execution_count": null,
      "outputs": []
    },
    {
      "cell_type": "code",
      "metadata": {
        "colab": {
          "base_uri": "https://localhost:8080/",
          "height": 419
        },
        "id": "MMYiZQmoP0hk",
        "outputId": "33976a86-da05-4aa1-8cb7-8878816d2b9c"
      },
      "source": [
        "ofod_data = pd.DataFrame({'terms':terms_li,'definitions':texts_li})\n",
        "ofod_data"
      ],
      "execution_count": null,
      "outputs": [
        {
          "output_type": "execute_result",
          "data": {
            "text/html": [
              "<div>\n",
              "<style scoped>\n",
              "    .dataframe tbody tr th:only-of-type {\n",
              "        vertical-align: middle;\n",
              "    }\n",
              "\n",
              "    .dataframe tbody tr th {\n",
              "        vertical-align: top;\n",
              "    }\n",
              "\n",
              "    .dataframe thead th {\n",
              "        text-align: right;\n",
              "    }\n",
              "</style>\n",
              "<table border=\"1\" class=\"dataframe\">\n",
              "  <thead>\n",
              "    <tr style=\"text-align: right;\">\n",
              "      <th></th>\n",
              "      <th>terms</th>\n",
              "      <th>definitions</th>\n",
              "    </tr>\n",
              "  </thead>\n",
              "  <tbody>\n",
              "    <tr>\n",
              "      <th>0</th>\n",
              "      <td>ABS</td>\n",
              "      <td>See Asset-Backed Security.</td>\n",
              "    </tr>\n",
              "    <tr>\n",
              "      <th>1</th>\n",
              "      <td>ABS CDO</td>\n",
              "      <td>Instrument where tranches are created from the...</td>\n",
              "    </tr>\n",
              "    <tr>\n",
              "      <th>2</th>\n",
              "      <td>Accrual Swap</td>\n",
              "      <td>An interest rate swap where interest on one si...</td>\n",
              "    </tr>\n",
              "    <tr>\n",
              "      <th>3</th>\n",
              "      <td>Accrued Interest</td>\n",
              "      <td>The interest earned on a bond since the last c...</td>\n",
              "    </tr>\n",
              "    <tr>\n",
              "      <th>4</th>\n",
              "      <td>Adaptive Mesh Model</td>\n",
              "      <td>A model developed by Figlewski and Gao that gr...</td>\n",
              "    </tr>\n",
              "    <tr>\n",
              "      <th>...</th>\n",
              "      <td>...</td>\n",
              "      <td>...</td>\n",
              "    </tr>\n",
              "    <tr>\n",
              "      <th>526</th>\n",
              "      <td>Zero-Coupon Bond</td>\n",
              "      <td>A bond that provides no coupons.</td>\n",
              "    </tr>\n",
              "    <tr>\n",
              "      <th>527</th>\n",
              "      <td>Zero-Coupon Interest Rate</td>\n",
              "      <td>The interest rate that would be earned on a bo...</td>\n",
              "    </tr>\n",
              "    <tr>\n",
              "      <th>528</th>\n",
              "      <td>Zero-Coupon Yield Curve</td>\n",
              "      <td>A plot of the zero-coupon interest rate agains...</td>\n",
              "    </tr>\n",
              "    <tr>\n",
              "      <th>529</th>\n",
              "      <td>Zero Curve</td>\n",
              "      <td>See Zero-Coupon Yield Curve.</td>\n",
              "    </tr>\n",
              "    <tr>\n",
              "      <th>530</th>\n",
              "      <td>Zero Rate</td>\n",
              "      <td>See Zero-Coupon Interest Rate.</td>\n",
              "    </tr>\n",
              "  </tbody>\n",
              "</table>\n",
              "<p>531 rows × 2 columns</p>\n",
              "</div>"
            ],
            "text/plain": [
              "                         terms                                        definitions\n",
              "0                          ABS                        See Asset-Backed Security. \n",
              "1                      ABS CDO  Instrument where tranches are created from the...\n",
              "2                 Accrual Swap  An interest rate swap where interest on one si...\n",
              "3             Accrued Interest  The interest earned on a bond since the last c...\n",
              "4          Adaptive Mesh Model  A model developed by Figlewski and Gao that gr...\n",
              "..                         ...                                                ...\n",
              "526           Zero-Coupon Bond                  A bond that provides no coupons. \n",
              "527  Zero-Coupon Interest Rate  The interest rate that would be earned on a bo...\n",
              "528    Zero-Coupon Yield Curve  A plot of the zero-coupon interest rate agains...\n",
              "529                 Zero Curve                      See Zero-Coupon Yield Curve. \n",
              "530                  Zero Rate                    See Zero-Coupon Interest Rate. \n",
              "\n",
              "[531 rows x 2 columns]"
            ]
          },
          "metadata": {},
          "execution_count": 98
        }
      ]
    },
    {
      "cell_type": "code",
      "metadata": {
        "id": "97GccqkTTc0F"
      },
      "source": [
        "ofod_data['source'] = 'opod'\n",
        "ofod_data['assigned_readibility']=0.0"
      ],
      "execution_count": null,
      "outputs": []
    },
    {
      "cell_type": "code",
      "metadata": {
        "id": "bCt89e-ASN8b"
      },
      "source": [
        "ofod_data.to_csv('ofod_data.csv', index = False)"
      ],
      "execution_count": null,
      "outputs": []
    },
    {
      "cell_type": "code",
      "metadata": {
        "colab": {
          "base_uri": "https://localhost:8080/"
        },
        "id": "zxkhNb6nV7oj",
        "outputId": "43672b77-cb30-453a-bf16-f3f2cea9dbb2"
      },
      "source": [
        "ofod_data.shape"
      ],
      "execution_count": null,
      "outputs": [
        {
          "output_type": "execute_result",
          "data": {
            "text/plain": [
              "(531, 4)"
            ]
          },
          "metadata": {},
          "execution_count": 101
        }
      ]
    },
    {
      "cell_type": "markdown",
      "metadata": {
        "id": "nR3NCjmyV-yx"
      },
      "source": [
        "# Investopedia Data"
      ]
    },
    {
      "cell_type": "code",
      "metadata": {
        "colab": {
          "base_uri": "https://localhost:8080/",
          "height": 419
        },
        "id": "dWM9jCoVWBA2",
        "outputId": "06cd458f-c5f7-4f6b-b904-a89539766417"
      },
      "source": [
        "inv_data = pd.read_csv('investopedia_crwaled_only_defn.csv')[['terms', 'only_defn']].dropna().rename(columns={'only_defn':'definitions'})\n",
        "inv_data['definitions'] = inv_data['definitions'].apply(lambda x : str(x).strip())\n",
        "inv_data"
      ],
      "execution_count": null,
      "outputs": [
        {
          "output_type": "execute_result",
          "data": {
            "text/html": [
              "<div>\n",
              "<style scoped>\n",
              "    .dataframe tbody tr th:only-of-type {\n",
              "        vertical-align: middle;\n",
              "    }\n",
              "\n",
              "    .dataframe tbody tr th {\n",
              "        vertical-align: top;\n",
              "    }\n",
              "\n",
              "    .dataframe thead th {\n",
              "        text-align: right;\n",
              "    }\n",
              "</style>\n",
              "<table border=\"1\" class=\"dataframe\">\n",
              "  <thead>\n",
              "    <tr style=\"text-align: right;\">\n",
              "      <th></th>\n",
              "      <th>terms</th>\n",
              "      <th>definitions</th>\n",
              "    </tr>\n",
              "  </thead>\n",
              "  <tbody>\n",
              "    <tr>\n",
              "      <th>0</th>\n",
              "      <td>0x Protocol</td>\n",
              "      <td>The 0x protocol is an open protocol that enabl...</td>\n",
              "    </tr>\n",
              "    <tr>\n",
              "      <th>1</th>\n",
              "      <td>1%/10 Net 30</td>\n",
              "      <td>The 1%/10 net 30 calculation is a way of provi...</td>\n",
              "    </tr>\n",
              "    <tr>\n",
              "      <th>2</th>\n",
              "      <td>10-K</td>\n",
              "      <td>A 10-K is a comprehensive report filed annuall...</td>\n",
              "    </tr>\n",
              "    <tr>\n",
              "      <th>3</th>\n",
              "      <td>10-K Wrap</td>\n",
              "      <td>A 10-K wrap is a summary report of a company's...</td>\n",
              "    </tr>\n",
              "    <tr>\n",
              "      <th>4</th>\n",
              "      <td>10-Q SEC Form</td>\n",
              "      <td>SEC Form 10-Q is a comprehensive report of fin...</td>\n",
              "    </tr>\n",
              "    <tr>\n",
              "      <th>...</th>\n",
              "      <td>...</td>\n",
              "      <td>...</td>\n",
              "    </tr>\n",
              "    <tr>\n",
              "      <th>6255</th>\n",
              "      <td>Yield Variance</td>\n",
              "      <td>Yield variance is the difference between actua...</td>\n",
              "    </tr>\n",
              "    <tr>\n",
              "      <th>6256</th>\n",
              "      <td>Yo-Yo</td>\n",
              "      <td>Yo-yo is a slang term for a very volatile mark...</td>\n",
              "    </tr>\n",
              "    <tr>\n",
              "      <th>6257</th>\n",
              "      <td>York Antwerp Rules</td>\n",
              "      <td>The York Antwerp Rules are a set of maritime r...</td>\n",
              "    </tr>\n",
              "    <tr>\n",
              "      <th>6259</th>\n",
              "      <td>Yugen Kaisha (YK)</td>\n",
              "      <td>Yugen kaisha (YKA) is a type of limited liabil...</td>\n",
              "    </tr>\n",
              "    <tr>\n",
              "      <th>6260</th>\n",
              "      <td>Yuppie</td>\n",
              "      <td>Yuppie is a slang term denoting the market seg...</td>\n",
              "    </tr>\n",
              "  </tbody>\n",
              "</table>\n",
              "<p>6204 rows × 2 columns</p>\n",
              "</div>"
            ],
            "text/plain": [
              "                   terms                                        definitions\n",
              "0            0x Protocol  The 0x protocol is an open protocol that enabl...\n",
              "1           1%/10 Net 30  The 1%/10 net 30 calculation is a way of provi...\n",
              "2                   10-K  A 10-K is a comprehensive report filed annuall...\n",
              "3              10-K Wrap  A 10-K wrap is a summary report of a company's...\n",
              "4          10-Q SEC Form  SEC Form 10-Q is a comprehensive report of fin...\n",
              "...                  ...                                                ...\n",
              "6255      Yield Variance  Yield variance is the difference between actua...\n",
              "6256               Yo-Yo  Yo-yo is a slang term for a very volatile mark...\n",
              "6257  York Antwerp Rules  The York Antwerp Rules are a set of maritime r...\n",
              "6259   Yugen Kaisha (YK)  Yugen kaisha (YKA) is a type of limited liabil...\n",
              "6260              Yuppie  Yuppie is a slang term denoting the market seg...\n",
              "\n",
              "[6204 rows x 2 columns]"
            ]
          },
          "metadata": {},
          "execution_count": 104
        }
      ]
    },
    {
      "cell_type": "code",
      "metadata": {
        "id": "OZMhwt-PWxXO"
      },
      "source": [
        "inv_data['source'] = 'investopedia'\n",
        "inv_data['assigned_readibility']=1.0\n",
        "inv_data.to_csv('inv_data.csv', index = False)"
      ],
      "execution_count": null,
      "outputs": []
    },
    {
      "cell_type": "markdown",
      "metadata": {
        "id": "LQpiOlhXXRHP"
      },
      "source": [
        "# Financial Markets and Institutions"
      ]
    },
    {
      "cell_type": "code",
      "metadata": {
        "id": "zrTFrjSJXX-h"
      },
      "source": [
        "soup = BeautifulSoup(open(\"Glossary_Financial Markets and Institutions.html\"), 'html.parser')"
      ],
      "execution_count": null,
      "outputs": []
    },
    {
      "cell_type": "code",
      "metadata": {
        "id": "RKyN-bFAZ1Tc"
      },
      "source": [
        "all_terms = [i.text.strip() for i in soup.find_all('span', {\"class\": [\"cls_004\"]})]"
      ],
      "execution_count": null,
      "outputs": []
    },
    {
      "cell_type": "code",
      "metadata": {
        "id": "7aQPTiEGb2iw"
      },
      "source": [
        "all_terms = sorted(all_terms, key=len)[::-1]"
      ],
      "execution_count": null,
      "outputs": []
    },
    {
      "cell_type": "code",
      "metadata": {
        "id": "DGkafv4Xg42a"
      },
      "source": [
        "Counter(all_terms).most_common(10)"
      ],
      "execution_count": null,
      "outputs": []
    },
    {
      "cell_type": "code",
      "metadata": {
        "id": "DhtRliTznXcp"
      },
      "source": [
        "all_terms"
      ],
      "execution_count": null,
      "outputs": []
    },
    {
      "cell_type": "code",
      "metadata": {
        "colab": {
          "base_uri": "https://localhost:8080/"
        },
        "id": "vxn_QkVKjfFM",
        "outputId": "8a9b8a51-1842-47f9-ef47-7d1c3a0c0fbb"
      },
      "source": [
        "len(all_terms)"
      ],
      "execution_count": null,
      "outputs": [
        {
          "output_type": "execute_result",
          "data": {
            "text/plain": [
              "513"
            ]
          },
          "metadata": {},
          "execution_count": 205
        }
      ]
    },
    {
      "cell_type": "code",
      "metadata": {
        "id": "60_L2pOvcvGW"
      },
      "source": [
        "text_content = open('Glossary_Financial Markets and Institutions_extracted_text.txt',mode='r').read()\n",
        "text_content"
      ],
      "execution_count": null,
      "outputs": []
    },
    {
      "cell_type": "code",
      "metadata": {
        "id": "pwaIJP8lvAcb"
      },
      "source": [
        "all_terms"
      ],
      "execution_count": null,
      "outputs": []
    },
    {
      "cell_type": "code",
      "metadata": {
        "colab": {
          "base_uri": "https://localhost:8080/"
        },
        "id": "p48sOrSM64cR",
        "outputId": "100757e2-02c6-4483-be7d-18397edfe3b0"
      },
      "source": [
        "'financial crisis' in text_content"
      ],
      "execution_count": null,
      "outputs": [
        {
          "output_type": "execute_result",
          "data": {
            "text/plain": [
              "False"
            ]
          },
          "metadata": {},
          "execution_count": 244
        }
      ]
    },
    {
      "cell_type": "code",
      "metadata": {
        "id": "dFHTsU5IdRKZ"
      },
      "source": [
        "all_terms.remove('Act:')\n",
        "text_cleaned = text_content.replace('\\n', '').replace('(','@').replace(')','@')\n",
        "for term in all_terms:\n",
        "  #text_cleaned = re.sub(r'\\d+'+term.replace('(','@').replace(')','@'), '$$&$$'+term.replace('(','@').replace(')','@'), text_cleaned)\n",
        "  text_cleaned = re.sub(r'\\d*'+term.replace('(','@').replace(')','@'), '$$&$$'+term.replace('(','@').replace(')','@'), text_cleaned)"
      ],
      "execution_count": null,
      "outputs": []
    },
    {
      "cell_type": "code",
      "metadata": {
        "id": "GFj19WnLpxwz"
      },
      "source": [
        "text_cleaned"
      ],
      "execution_count": null,
      "outputs": []
    },
    {
      "cell_type": "code",
      "metadata": {
        "id": "cqUhzD-CebDd"
      },
      "source": [
        "terms_li = []\n",
        "texts_li = []\n",
        "ext_str = ''\n",
        "for i in text_cleaned.split('$$&$$'): \n",
        "  if ':' in i:\n",
        "    if ext_str!='':\n",
        "      print(\"after_append--\",ext_str+i.split(':')[0].strip())\n",
        "    terms_li.append(ext_str + i.split(':')[0].strip())\n",
        "    texts_li.append(i.split(':')[1].strip())\n",
        "    ext_str = ''\n",
        "  else:\n",
        "    ext_str = ext_str + i # 'bubble' is within 'asset-price bubble' both are terms thus extraz $$&$$ was appended. This is to treat those instances\n",
        "    print(i)"
      ],
      "execution_count": null,
      "outputs": []
    },
    {
      "cell_type": "code",
      "metadata": {
        "id": "6JNzvsw8gxF2"
      },
      "source": [
        "fmi_data = pd.DataFrame({'terms':terms_li,'definitions':texts_li})\n",
        "fmi_data"
      ],
      "execution_count": null,
      "outputs": []
    },
    {
      "cell_type": "code",
      "metadata": {
        "id": "4YFEzWiZ4Yts"
      },
      "source": [
        "# Manual correction\n",
        "fmi_data.iloc[463]['definitions'] = 'See Separate Trading of Registered Interest and Principal Securities (STRIPS).'\n",
        "fmi_data.iloc[464]['terms'] = 'zero-lower-bound problem'"
      ],
      "execution_count": null,
      "outputs": []
    },
    {
      "cell_type": "code",
      "metadata": {
        "colab": {
          "base_uri": "https://localhost:8080/"
        },
        "id": "KTHT5xju0eUp",
        "outputId": "348a6646-50ff-4bfb-aca9-90d3bd56b7f2"
      },
      "source": [
        "set(fmi_data['terms']) - set([i.replace('(','@').replace(')','@').replace(':','') for i in all_terms])"
      ],
      "execution_count": null,
      "outputs": [
        {
          "output_type": "execute_result",
          "data": {
            "text/plain": [
              "{'Financial Institutions Reform, Recovery, and Enforcement Act',\n",
              " 'National Association of Securities Dealers Automated Quotation System @NASDAQ@',\n",
              " 'Separate Trading of Registered Interest and Principal Securities @STRIPS@'}"
            ]
          },
          "metadata": {},
          "execution_count": 233
        }
      ]
    },
    {
      "cell_type": "code",
      "metadata": {
        "id": "Ni0WFuU43ID8"
      },
      "source": [
        "set([i.replace('(','@').replace(')','@').replace(':','') for i in all_terms]) - set(fmi_data['terms'])"
      ],
      "execution_count": null,
      "outputs": []
    },
    {
      "cell_type": "code",
      "metadata": {
        "colab": {
          "base_uri": "https://localhost:8080/",
          "height": 49
        },
        "id": "UCNefyY-2haz",
        "outputId": "ed88e032-7a3b-40d9-eff3-e7db41edf687"
      },
      "source": [
        "fmi_data[fmi_data['terms'].str.contains('financial crisis')]"
      ],
      "execution_count": null,
      "outputs": [
        {
          "output_type": "execute_result",
          "data": {
            "text/html": [
              "<div>\n",
              "<style scoped>\n",
              "    .dataframe tbody tr th:only-of-type {\n",
              "        vertical-align: middle;\n",
              "    }\n",
              "\n",
              "    .dataframe tbody tr th {\n",
              "        vertical-align: top;\n",
              "    }\n",
              "\n",
              "    .dataframe thead th {\n",
              "        text-align: right;\n",
              "    }\n",
              "</style>\n",
              "<table border=\"1\" class=\"dataframe\">\n",
              "  <thead>\n",
              "    <tr style=\"text-align: right;\">\n",
              "      <th></th>\n",
              "      <th>terms</th>\n",
              "      <th>definitions</th>\n",
              "    </tr>\n",
              "  </thead>\n",
              "  <tbody>\n",
              "  </tbody>\n",
              "</table>\n",
              "</div>"
            ],
            "text/plain": [
              "Empty DataFrame\n",
              "Columns: [terms, definitions]\n",
              "Index: []"
            ]
          },
          "metadata": {},
          "execution_count": 242
        }
      ]
    },
    {
      "cell_type": "code",
      "metadata": {
        "colab": {
          "base_uri": "https://localhost:8080/",
          "height": 49
        },
        "id": "c5f9pfCQ6eHW",
        "outputId": "ca931b14-d98b-4400-bbee-98422ff73919"
      },
      "source": [
        "fmi_data[fmi_data['definitions'].str.contains('financial crisis')]"
      ],
      "execution_count": null,
      "outputs": [
        {
          "output_type": "execute_result",
          "data": {
            "text/html": [
              "<div>\n",
              "<style scoped>\n",
              "    .dataframe tbody tr th:only-of-type {\n",
              "        vertical-align: middle;\n",
              "    }\n",
              "\n",
              "    .dataframe tbody tr th {\n",
              "        vertical-align: top;\n",
              "    }\n",
              "\n",
              "    .dataframe thead th {\n",
              "        text-align: right;\n",
              "    }\n",
              "</style>\n",
              "<table border=\"1\" class=\"dataframe\">\n",
              "  <thead>\n",
              "    <tr style=\"text-align: right;\">\n",
              "      <th></th>\n",
              "      <th>terms</th>\n",
              "      <th>definitions</th>\n",
              "    </tr>\n",
              "  </thead>\n",
              "  <tbody>\n",
              "  </tbody>\n",
              "</table>\n",
              "</div>"
            ],
            "text/plain": [
              "Empty DataFrame\n",
              "Columns: [terms, definitions]\n",
              "Index: []"
            ]
          },
          "metadata": {},
          "execution_count": 243
        }
      ]
    },
    {
      "cell_type": "code",
      "metadata": {
        "id": "1tQqte4F7RJP"
      },
      "source": [
        "fmi_data['source'] = 'fmi'\n",
        "fmi_data['assigned_readibility']=0.0\n",
        "fmi_data.to_csv('fmi_data.csv', index = False)"
      ],
      "execution_count": null,
      "outputs": []
    },
    {
      "cell_type": "markdown",
      "metadata": {
        "id": "26loHGLq2le0"
      },
      "source": [
        "# Samunord'19"
      ]
    },
    {
      "cell_type": "code",
      "metadata": {
        "id": "hZYwPEpY2apR"
      },
      "source": [
        "soup = BeautifulSoup(open(\"Glossary_samunord19.html\"), 'html.parser')"
      ],
      "execution_count": null,
      "outputs": []
    },
    {
      "cell_type": "code",
      "metadata": {
        "id": "qoDVL78RIZkQ"
      },
      "source": [
        "soup"
      ],
      "execution_count": null,
      "outputs": []
    },
    {
      "cell_type": "code",
      "metadata": {
        "id": "kRwByDGYI9tm"
      },
      "source": [
        "terms = [i.text.strip() for i in soup.find_all('span', {\"class\": [\"cls_006\"]})]\n",
        "all_terms = [i.strip() for i in terms if len(i)>0 and i[0].isupper()]\n",
        "all_terms"
      ],
      "execution_count": null,
      "outputs": []
    },
    {
      "cell_type": "code",
      "metadata": {
        "id": "PMZufgmZOKAG"
      },
      "source": [
        "all_terms = sorted(all_terms, key=len)[::-1]"
      ],
      "execution_count": null,
      "outputs": []
    },
    {
      "cell_type": "code",
      "metadata": {
        "colab": {
          "base_uri": "https://localhost:8080/",
          "height": 138
        },
        "id": "Vf5Tu8XKKvqh",
        "outputId": "fd2c9ed0-3e7d-4b36-bd14-5bcd9a7727e6"
      },
      "source": [
        "text_content = open('Glossary_samunord19_extracted_text.txt',mode='r').read()\n",
        "junk_text = '''54 1 W\\n nitions appear as separate entries in the glossary. For a more detailed discussion of particular terms, \\nthe text will provide a useful starting point. More complete discussions are contained in Douglas Greenwald, ed., The McGraw-Hill Encyclopedia of Economics (McGraw-Hill, New York, 1994), and David W. Pearce, \\nThe MIT Dictionary of Modern Economics,\\n 4th ed. (Macmillan, London, 1992). For a comprehensive encyclopedia, see Steven N. Durlauf and Lawrence E. Blume, The New Palgrave Dictionary of Economics,\\n 8 vols. (Macmillan, London, 2008). A reasonably accurate online dictionary by \\nThe Economist is at www.economist.\\ncom/research/economics/.\\n '''\n",
        "\n",
        "text_cleaned = text_content.replace(junk_text,'').replace('\\n', '').replace('(','@').replace(')','@').replace('GLOSSARY OF TERMS', '')\n",
        "for term in all_terms:\n",
        "  #text_cleaned = re.sub(r'\\d+'+term.replace('(','@').replace(')','@'), '$$&$$'+term.replace('(','@').replace(')','@'), text_cleaned)\n",
        "  text_cleaned = re.sub(r''+term.replace('(','@').replace(')','@'), '$$&$$'+term.replace('(','@').replace(')','@'), text_cleaned)\n",
        "text_cleaned  "
      ],
      "execution_count": null,
      "outputs": [
        {
          "output_type": "execute_result",
          "data": {
            "application/vnd.google.colaboratory.intrinsic+json": {
              "type": "string"
            },
            "text/plain": [
              "'6  A     Ability-to-pay principle  @of taxa-tion@.   The principle that one’s tax burden should depend upon the ability to pay as measured by income or wealth. This principle does not specify  how much  more those who are better off should pay.     $$&$$Absolute advantage  @in international trade@.   The ability of Coun-try A to produce a commodity  ciently @i.e., with greater output per unit of input@ than Country B. Possession of such an absolute advantage does not nec-essarily mean that A can export this commodity to B successfully. Country B may still have the com-parative advantage.     $$&$$Actual, cyclical, and structural bud-get.    The  actual budget  cit or surplus is the amount recorded in a given year. This is composed of the  structural budget,  which calcu-lates what government revenues,  cits would be if the economy were operating at potential output, and the  cycli-cal budget,  which measures the effect of the business cycle on the budget.     $$&$$Adaptive expectations.    See  expecta-tions.      $$&$$Adverse selection.    A type of market failure in which those people with the highest risk are the most likely to buy insurance. More broadly, adverse selection encompasses sit-uations in which sellers and buyers have different information about a product, such as in the market for used cars.     $$&$$Aggregate demand.    Total planned or desired spending in the economy during a given period. It is deter-mined by the aggregate price level  uenced by domestic invest-ment, net exports, government spending, the consumption func-tion, and the money supply.     $$&$$Aggregate demand. @ AD  @ curve.    The curve showing the relationship between the quantity of goods and services that people are willing to buy and the aggregate price level, other things equal. As with any demand curve, important variables lie behind the aggregate demand curve, e.g., government spending, exports, and the money supply.     Aggregate supply.    The total value of goods and ser rms would willingly produce in a given time period. Aggregate supply is a function of available inputs, tech-nology, and the price level.     Aggregate supply @  AS   @ curve.    The curve showing the relationship  rms would willingly supply and the aggregate price level, other things equal. The  AS  curve tends to be vertical at potential output in the very long run but may be upward-sloping in the short run.     Allocative efficiency.    See  Pareto ef ciency.      $$&$$Appreciation  @of a currency@.   See  depreciation  @of a currency@.     $$&$$Appropriable.    Term applied to resources for which the owner can capture the full economic value. In a well-functioning competitive market, appropriable resources  ciently. Also refer to  inappropriable.      $$&$$Arbitrage.    The purchase of a good or asset in one market for immediate resale in another market in order  t from a price discrepancy. $$&$$Arbitrage.is an important force in eliminating price discrepancies, thereby making markets function  ciently.     $$&$$Asset.    A physical property or intangi-ble right that has economic value. Important examples are plant, equipment, land, patents, copy- nancial instruments such as money or bonds.     $$&$$Asymmetric information.    A situation where one party to a transaction has better information than the other party. This often leads to a market failure or even to no mar-ket at all.     $$&$$Automatic @ or  built-in@ stabilizers.    The property of a government tax and spending system that cushions income changes in the private sector. Examples include unem-ployment compensation and pro-gressive income taxes.     Glossary of Terms      1sam11290_glo.indd   654sam11290_glo.indd   6542/24/09   2:58:30 PM2/24/09   2:58:30 PM  655community, that level of income at which 100 percent is spent on con-sumption @i.e., the point where there is neither saving nor dis-saving@. Positive saving begins at higher income levels.     $$&$$Broad money @  M   2 @.    A measure of the  money supply  that includes trans-actions money @or  M   1  @ as well as savings accounts in banks and sim-ilar assets that are very close substi-tutes for transactions money.     $$&$$Budget.    An account, usually for a year, of planned expenditures and expected receipts. For a govern-ment, the receipts are tax reve-nues. See also  actual, cyclical,  and  structural budget.      $$&$$$$&$$Budget. balanced.    A budget in which total expenditures just equal total receipts @excluding any receipts from borrowing@.     $$&$$$$&$$Budget.constraint.    See  budget line.      $$&$$Budget.deficit.    For a government, the excess of total expenditures over total receipts, with borrowing not included among receipts. This  cit@ is ordinar- nanced by borrowing.     $$&$$Budget.line.    A line indicating the combination of commodities that a consumer can buy with a given income at a given set of prices. Also sometimes called the  budget constraint.      $$&$$Budget.surplus.    Excess of govern-ment revenues over government spending; the opposite of  budget  cit .     $$&$$Business cycles.    Fluctuations in total national output, income, and employment, usually lasting for a period of 2 to 10 years, marked by widespread and simultaneous expansion or contraction in many sectors of the economy.      C     C  I  G  NX    schedule.    A schedule showing the planned or desired levels of aggregate demand for each level of GDP, or the graph on which this schedule is depicted.    $$&$$Average cost.    Refer to  cost, average.      $$&$$$$&$$Average cost.curve, long-run @  LRAC,  or  LAC  @.   The graph of the mini-mum average cost of producing a commodity for each level of output, assuming that technology and input prices are given but that the producer is free to choose the optimal size of plants.     $$&$$$$&$$Average cost.curve, short-run @  SRAC , or  SAC @.    The graph of the mini-mum average cost of producing a commodity for each level of out-put, using the given state of tech-nology, input prices, and existing plant.     Average fixed cost.    Refer to  cost,  xed.      $$&$$Average product.    Total product or output divided by the quantity of one of the inputs. Hence, the aver- ned as total product divided by the amount of labor input, and simi-larly for other inputs.     Average revenue.    Total revenue divided by total number of units sold—i.e., revenue per unit. Aver-age revenue is generally equal to price.     $$&$$Average tax rate.    Total taxes divided by total income; also known as  effective tax rate.      $$&$$Average variable cost.    Refer to  cost, average variable.       B     $$&$$Balance of international payments.    A statement showing all of a nation’s transactions with the rest of the world for a given period. It includes purchases and sales of goods and services, gifts, government transac-tions, and capital movements.     Balance of trade.    The part of a nation’s balance of payments that deals with imports or exports of  goods,  including such items as oil, capital goods, and automobiles. When services and other current items are included, this measures the  balance on current account.  In balance-of-payments accounting,  nanced by the   nancial account.      Balance on current account.    See  balance of trade.      $$&$$Balance sheet.    A statement of the  nancial position of an entity  rm, government@ as of a given date, listing  assets  in one col-umn and  liabilities  plus  net worth  in the other. Each item is listed at its actual or estimated money value. Totals of the two columns must balance because net worth is  ned as assets minus liabilities.     $$&$$Balanced budget.    Refer to  budget, balanced.      $$&$$Bank, commercial.     nancial inter-mediary whose prime distinguishing feature is that it accepts checkable  nancial institutions that hold savings and checkable deposits are called depository institutions.     Bank money.    $$&$$Money.created by banks, particularly the checking accounts @part of   M   1 @ that are gen-erated by a multiple expansion of bank reserves.     $$&$$Bank reserves.    Refer to  reserves, bank.      $$&$$Barriers to entry.    Factors that impede entry into a market and thereby reduce the amount of competition or the number of producers in an industry. Important examples are legal barriers, regulation, and product differentiation.     $$&$$Barter.    The direct exchange of one good for another without using anything as money or as a medium of exchange.     $$&$$Benefit principle  @of taxation@.   The principle that people should be taxed in proportion to the bene- ts they receive from government programs.     $$&$$Bond.     cate issued by a government or corpo-ration, promising to repay a sum of money @the principal@ plus  ed date in the future.     $$&$$Break-even point  @in macroeconom-ics@.   For an individual, family, or sam11290_glo.indd   655sam11290_glo.indd   6552/24/09   2:58:31 PM2/24/09   2:58:31 PM656  The schedule includes consump-tion @ C  @, investment @ I  @, govern-ment spending on goods and services @ G  @, and net exports @ NX  @.     $$&$$Capital @capital goods, capital equip-ment@.    @1@ In economic theory, one of the triad of productive inputs @land, labor, and capital@. Capital consists of durable pro-duced items that are in turn used in production. @2@ In accounting  nance, “capital” means the total amount of money subscribed by the shareholder-owners of a corporation, in return for which they receive shares of the compa-ny’s stock.     $$&$$Capital consumption allowance.    See  depreciation  @of an asset@.     Capital deepening.    In economic-growth theory, an increase in the capital-labor ratio. @Contrast with  capital widening. @     $$&$$Capital gains.    The rise in value of a capital asset, such as land or com-mon stocks, the gain being the difference between the sales price and the purchase price of the asset.     $$&$$Capital markets  @also  financial mar-kets @.    nancial resources @money, bonds, stocks@ are traded. These, along with   nan-cial intermediaries,  are institutions through which saving in the econ-omy is transferred to investors.     Capital-output ratio.    In economic-growth theory, the ratio of the total capital stock to annual GDP.     $$&$$Capital widening.    A rate of growth in real capital stock just equal to the growth of the labor force @or of the population@, so the ratio between total capital and total labor remains unchanged. @Con-trast with  capital deepening. @     $$&$$Capitalism.    An economic system in which most property @land and cap-ital@ is privately owned. In such an economy, private markets are the primary vehicles used to allocate resources and generate incomes.     $$&$$Cardinal utility.    See  ordinal utility.      $$&$$Cartel.    An organization of indepen- rms producing similar prod-ucts that work together to raise prices and restrict output. $$&$$Cartel. are illegal under U.S. antitrust laws.     $$&$$Central bank.    A government-established agency @in the United States, the $$&$$Federal Reserve System. responsible for controlling the nation’s money supply and credit conditions and for supervising the  nancial system, especially com-mercial banks and other deposi-tory institutions.     $$&$$Change in demand vs. change in quan-tity demanded.    A change in the quantity buyers want to purchase, prompted by any reason other than a change in price @e.g., increase in income, change in tastes@, is a  change in demand.  In graphical terms, it is a shift of the demand curve. If, in contrast, the decision to buy more or less is prompted by a change in the good’s price, then it is a  change in quantity demanded.  In graphical terms, a change in quantity demanded is a movement along an unchanging demand curve.     $$&$$Change in supply vs. change in quan-tity supplied.    This distinction for supply is the same as that for demand, so see  change in demand vs. change in quantity demanded.      Checking accounts @ also  checkable deposits  and  bank money@.    A deposit in a commercial bank or  nancial intermediary upon which checks can be written and which is therefore transactions money @or  M  1 @. Checkable depos-its are about half of  M  1 .     Chicago School of $$&$$Economics.    A group of economists @among whom Henry Simons, F. A. von Hayek, and Milton Friedman have been the most prominent@ who believe that competitive markets free of government intervention  cient oper-ation of the economy.     Classical approach.    See  classical economics.      Classical economics.    The predomi-nant school of economic thought prior to the appearance of Keynes’s work; founded by Adam  gures who followed Smith include David Ricardo, Thomas Malthus, and John Stuart Mill. By and large, this school believed that economic laws @particularly individual self- interest and competition@ determine prices and factor rewards and that the price system is the best possible device for resource allocation.     $$&$$Classical macroeconomics.   See clas-sical theories.      $$&$$Classical theories @ in  macroeconom-ics@.    Theories emphasizing the self-correcting forces in the econ-omy. In the classical approach, there is generally full employ-ment, and policies to stimulate aggregate demand have no impact upon output.     $$&$$Clearing market.    A market in which  ciently  exible to equilibrate supply and demand very quickly. In markets that clear, there is no rationing, unemployed resources, or excess demand or supply. In practice, this is thought to apply to many commodity and  nancial markets but not to labor or many product markets.     $$&$$Closed economy.    See  open economy.      Collective bargaining.    The process of negotiations between a group of workers @usually a union@ and their employer. Such bargain-ing leads to an agreement about  ts, and work-ing conditions.     $$&$$Collusion.    An agreement between  rms to cooperate by raising prices, dividing mar-kets, or otherwise restraining competition.     $$&$$Collusive oligopoly.    A market struc-ture in which a small number  rms @i.e., a few oligopolists@ collude and jointly make their sam11290_glo.indd   656sam11290_glo.indd   6562/24/09   2:58:31 PM2/24/09   2:58:31 PM  657decisions. When they succeed in  ts, the price and quantity in the market closely approach those prevailing under monopoly.     $$&$$Command economy.    A mode of eco-nomic organization in which the key economic functions— what, how,  and  for whom  — are principally determined by government direc-tive. Sometimes called a  centrally planned economy.      Commodity money.    $$&$$Money.with  intrinsic value;  also, the use of some commodity @cattle, beads, etc.@ as money.     $$&$$Common currency.    A situation where several countries form a mone-tary union with a single currency  ed central bank; e.g., the European Monetary Union @EMU@, which introduced the Euro in 1999.     $$&$$Common stock.     nancial instru-ment representing ownership and, generally, voting rights in a corpo-ration. A certain share of a com-pany’s stock gives the owner title to that fraction of the votes, net earn-ings, and assets of the corporation.     $$&$$Communism.    A communist eco-nomic system @also called  Soviet-style central planning @ is one in which the state owns and controls the means of production, par-ticularly industrial capital. Such economies are also characterized by extensive central planning, with the state setting many prices, output levels, and other important economic variables.     Comparative advantage    @in interna-tional trade@    .   The law of compar-ative advantage says that a nation should specialize in producing and exporting those commodi-ties which it can produce at  rela-tively  lower cost and that it should import those goods for which it is a  relatively  high-cost producer. Thus it is a comparative advantage, not an absolute advantage, that should dictate trade patterns.     Compensating differentials.    Differ-ences in wage rates among jobs that serve to offset or compensate for the nonmonetary differences of the jobs. For example, unpleas-ant jobs that require isolation for many months in Alaska pay wages much higher than those for simi-lar jobs nearer to civilization.     Competition, imperfect.    Term ap-plied to markets in which per-fect competition does not hold because at least one seller @or buyer@ is large enough to affect the market price and therefore faces a downward-sloping demand @or supply@ curve. $$&$$Imperfect competition.refers to any kind of market imperfection—pure  monopoly, oligopoly,  or  monopo-listic competition.      $$&$$Competition, perfect.    Term applied  rm or con-sumer is large enough to affect the market price. This situation arises where @1@ the number of sellers and buyers is very large and @2@ the products offered by sellers are homogeneous @or indistinguish-able@. Under such conditions,  rm faces a horizontal @or perfectly elastic@ demand curve.     Competitive equilibrium.    The bal-ancing of supply and demand in a market or economy characterized by  perfect competition.  Because perfectly competitive sellers and buyers individually have no power  uence the market, price will move to the point at which it equals both marginal cost and marginal utility.     Competitive market.    See  competi-tion, perfect.      $$&$$Complements.    Two goods which “go together” in the eyes of consumers @e.g., left shoes and right shoes@. Goods are  substitutes  when they compete with each other @as do gloves and mittens@.     Compound interest.    $$&$$Interest.com-puted on the accrued total of inter-est and principal. For example, suppose $100 @the principal@ is deposited in an account earning 10 percent interest compounded annually. At the end of year 1, interest of $10 is earned. At the end of year 2, the interest payment is $11, $10 on the original princi-pal and $1 on the interest—and so on in future years.     Concentration ratio.    The percent-age of an industry’s total output  rms. A typical measure is the   rm concentration ratio,  which is the fraction of output accounted for  rms.     $$&$$Constant returns to scale.    See  returns to scale.      $$&$$Consumer price index @CPI@.    A price index that measures the cost of a  xed basket of consumer goods in which the weight assigned to each commodity is the share of expen-ditures on that commodity in a base year.     Consumer surplus.    The difference between the amount that a con-sumer would be willing to pay for a commodity and the amount actu-ally paid. This difference arises because the marginal utilities @in dollar terms@ of all but the last unit exceed the price. Under certain conditions, the money value of consumer surplus can be measured @using a demand curve diagram@ as the area under the demand curve but above the price line.     $$&$$Consumption.    In macroeconomics, the total spending, by individuals or a nation, on consumer goods during a given period. Strictly speaking, consumption should apply only to those goods totally used, enjoyed, or “eaten up” within that period. In practice, consump-tion expenditures include all consumer goods bought, many of which last well beyond the period in question—e.g., furniture, cloth-ing, and automobiles.     $$&$$Consumption.function.    A sched-ule relating total consumption to sam11290_glo.indd   657sam11290_glo.indd   6572/24/09   2:58:31 PM2/24/09   2:58:31 PM658  personal  disposable income  @ DI  @. Total wealth and other variables are also frequently assumed to  uence consumption.     $$&$$$$&$$Consumption.possibility  line.    See  bud-get line.      Cooperative equilibrium.    In game theory, an outcome in which the  nd strat-egies that will optimize their joint payoffs.     $$&$$Core rate of inflation.     ation after  uence of vola-tile elements like food and energy prices. This concept is often used by  ation targeting.     $$&$$Corporate income tax.    A tax levied on the annual net income of a corporation.     $$&$$Corporation.    The dominant form of business organization in modern capitalist economies. A corpora- rm owned by individu-als or other corporations. It has the same rights to buy, sell, and make contracts as a person would have. It is legally separate from those who own it and has  limited liability.      $$&$$Correlation.    The degree to which two variables are systematically associated with each other.     $$&$$Cost, average.    $$&$$Total cost.@refer to  cost, total @ divided by the number of units produced.     $$&$$$$&$$Cost, average.fixed.    $$&$$Fixed cost.@refer to   xed @ divided by the num-ber of units produced.     $$&$$$$&$$Cost, average.variable.    $$&$$$$&$$Variable.cost.@refer to  cost, variable @ divided by the number of units produced.     $$&$$Cost, fixed.     rm would incur even if its output for the period in question were zero. T xed cost is made up of such individual contractual costs as interest payments, mortgage pay-ments, and directors’ fees.     $$&$$Cost, marginal.    The extra cost @or the increase in total cost@ required to produce 1 extra unit of output @or the reduction in total cost from producing 1 unit less@.     $$&$$Cost, minimum.    The lowest attain-able cost per unit @whether aver-age, variable, or marginal@. Every point on an average cost curve is a minimum in the sense that it is the  rm can do with respect to cost for the output which that point represents. Minimum aver-age cost is the lowest point, or points, on that curve.     $$&$$Cost, total.    The minimum attainable total cost, given a particular level of technology and set of input prices.  Short-run total cost  takes  xed costs as given.  Long-run total cost  is the cost that would be incurred if the   exibility with respect to all inputs and decisions.     $$&$$Cost, variable.    A cost that varies with the level of output, such as raw-material, labor, and fuel costs. $$&$$$$&$$Variable.cost. equal total cost  xed cost.     $$&$$Cost-push inflation.    See  supply-shock  ation.      $$&$$Credit.    @1@ In monetary theory, the use of someone else’s funds in exchange for a promise to pay @usually with interest@ at a later date. The major examples are short-term loans from a bank, credit extended by suppliers, and commercial paper. @2@ In balance-of-payments accounting, an item such as exports that earns a coun-try foreign currency.     $$&$$Cross elasticity of demand.    A mea- uence of a change in one good’s price on the demand for another good. More precisely, the cross elasticity of demand equals the percentage change in demand for good A when the price of good B changes by 1 per-cent, assuming other variables are held constant.     $$&$$Currency.    Coins and paper money.     $$&$$Currency.appreciation @ or  depre-ciation@.    See  depreciation  @of a currency@.     $$&$$$$&$$Currency.board.    A monetary institu-tion operating like a central bank for a country that issues only cur-rency that is fully backed by assets denominated in a key foreign cur-rency, often the U.S. dollar.     $$&$$Current account.    See  balance of trade.      $$&$$Cyclical budget.    See  actual, cyclical, and structural budget.      Cyclical unemployment.    See  fric-tional unemployment.       D     Deadweight loss.    The loss in real income or consumer and pro-ducer surplus that arises because of monopoly, tariffs and quotas, taxes, or other distortions. For example, when a monopolist raises its price, the loss in con-sumer satisfaction is more than the gain in the monopolist’s rev-enue—the difference being the deadweight loss to society due to monopoly.     $$&$$Debit.    @1@ An accounting term signifying an increase in assets or decrease in liabilities. @2@ In balance-of-payments accounting, a debit is an item such as imports that reduces a country’s stock of foreign currencies.     Decreasing returns to scale.    See  returns to scale.      $$&$$Deficit spending.    Government’s expen-ditures on goods and services and transfer payments in excess of its receipts from taxation and other rev-enue sources. The difference must  nanced by borrowing from the public.     $$&$$Deflating  @of economic data@.   The process of converting “nominal” or current-dollar variables into “real” terms. This is accomplished by dividing current-dollar variables by a  price index.      $$&$$Deflation.    A fall in the general level of prices.     Demand curve @ or  demand sched-ule@.    A schedule or curve show-ing the quantity of a good that buyers would purchase at each price, other things equal. Nor-mally a demand curve has price on sam11290_glo.indd   658sam11290_glo.indd   6582/24/09   2:58:31 PM2/24/09   2:58:31 PM  659the vertical or  Y  axis and quantity demanded on the horizontal or  X  axis. Also see  change in demand vs. change in quantity demanded.      $$&$$Demand for money.    A summary term used by economists to explain why individuals and businesses hold money balances. The major moti-vations for holding money are @1@  transactions demand,  signifying that people need money to pur-chase things, and @2@  asset demand,  relating to the desire to hold a very liquid, risk-free asset.     Demand-pull inflation.     a-tion caused by an excess demand for goods in general, caused, e.g., by a major increase in aggregate demand. Often contrasted with   ation.      $$&$$Demography.    The study of the behav-ior of a population.     $$&$$$$&$$Depreciation  @of an asset@.   A decline in the value of an asset. In both business and national accounts, depreciation is the dollar estimate of the extent to which capital has been “used up” or worn out over the period in question. Also termed  capital consumption allowance  in national-income accounting.     $$&$$$$&$$Depreciation  @of a currency@.   A nation’s currency is said to depre-ciate when it declines relative to other currencies. For example, if the foreign exchange rate of the dollar falls from 200 to 100 Japanese Yen per U.S. dollar, the dollar’s value has fallen, and the dollar has undergone a deprecia-tion. The opposite of a deprecia-tion is an  appreciation,  which occurs when the foreign exchange rate of a currency rises.     $$&$$Depression.    A prolonged period characterized by high unemploy-ment, low output and investment,  dence, falling prices, and widespread business failures. A milder form of business downturn is a  recession,  which has many of the features of a depression to a lesser extent.     $$&$$Derived demand.    The demand for a factor of production that results @is “derived”@ from the demand  nal good to which it con-tributes. Thus the demand for tires is derived from the demand for automobile transportation.     $$&$$Devaluation.     -cial price of a nation’s currency, usually expressed in the currency of another nations @such as the U.S. dollar@ or in terms of gold @in a gold standard@. The opposite of devaluation is  revaluation,  which  -cial foreign exchange rate relative to another currency.     $$&$$Developing country.    A country with a per capita income far below that of “developed” nations @the latter usu-ally includes most nations of North America and Western Europe@. Same as  less developed country.      Differentiated products.    Products which compete with each other and are close substitutes but are not identical. Differences may be manifest in the product’s func-tion, appearance, location, quality, or other attributes.     Diminishing marginal utility, law of.    The law which says that as more and more of any one com-modity is consumed, its marginal utility declines.     $$&$$Diminishing returns, law of.    A law stating that the additional out-put from successive increases of one input will eventually dimin-ish when other inputs are held constant. Technically, the law is equivalent to saying that the mar-ginal product of the varying input declines after a point.     Direct taxes.    Taxes levied directly  rms, including taxes on income, labor earnings,  ts. Direct taxes contrast with  indirect taxes,  which are levied on goods and services and thus only indirectly on people, such as sales taxes and taxes on property, alcohol, imports, and gasoline.     $$&$$Discount rate.    @1@ The interest rate charged by a Federal Reserve Bank @the central bank@ on a loan that it makes to a commercial bank. @2@ The rate used to calculate the present value of some asset.     $$&$$Discounting  @of future income@.   The process of converting future income into an equivalent pres-ent value. This process takes a future dollar amount and reduces  ects the appropriate interest rate. For example, if someone promises you $121 in 2 years, and the appropri-ate interest rate or discount rate is 10 percent per year, then we can calculate the present value by dis-counting the $121 by a discount factor of @1.10@ 2 . The rate at which future incomes are discounted is called the  discount rate.      $$&$$Discrimination.    Differences in earn-ings that arise because of personal characteristics that are unrelated to job performance, especially those related to gender, race, ethnicity, sexual orientation, or religion.     $$&$$Disequilibrium.    The state in which an economy is not in  equilibrium.  This may arise when shocks @to income or prices@ have shifted demand or supply schedules but the market price @or quantity@ has not yet adjusted fully. In mac-roeconomics, unemployment is often thought to stem from mar-ket disequilibria.     $$&$$Disinflation.    The process of reducing  ation rate. For example, the deep recession of 1980–1983  ation over that period.     Disposable income @  DI   @.    Roughly, take-home pay, or that part of the total national income that is avail-able to households for consump-tion or saving. More precisely, it is equal to GDP less all taxes, busi-ness saving, and depreciation plus government and other transfer payments and government inter-est payments.  sam11290_glo.indd   659sam11290_glo.indd   6592/24/09   2:58:31 PM2/24/09   2:58:31 PM660     $$&$$Economic efficiency.    See  ef ciency.      $$&$$Economic good.    A good that is scarce relative to the total amount of it that is desired. It must therefore be rationed, usually by charging a positive price.     Economic growth.    An increase in the total output of a nation over time. Economic growth is usually measured as the annual rate of increase in a nation’s real GDP @or real potential $$&$$GDP@.     $$&$$Economic regulation.    See  regulation.      $$&$$Economic rent.    Refer to  rent, eco-nomic.      $$&$$Economic surplus.    A term denoting the excess in total satisfaction or utility over the costs of production; equals the sum of consumer surplus @the excess of consumer satisfac-tion over total value of purchases@ and producer surplus @the excess of producer revenues over costs@.     $$&$$Economics.    The study of how soci-eties use scarce resources to pro-duce valuable commodities and distribute them among different people.     $$&$$$$&$$Economics.of information.    Analysis of economic situations that involve information as a commodity. Because information is costly to produce but cheap to reproduce, market failures are common in markets for informational goods and services such as invention, publishing, and software.     $$&$$Economies of scale.    Increases in pro-ductivity, or decreases in average cost of production, that arise from increasing all the factors of pro-duction in the same proportion.     $$&$$Effective tax rate.    Total taxes paid as a percentage of the total income or other tax base; also known as  average tax rate.      $$&$$Efficiency.    Absence of waste, or the use of economic resources that produces the maximum level of satisfaction possible with the given inputs and technology. A shorthand expression for  Pareto ef ciency.      Disposable personal income.    Same as  disposable income.      $$&$$Dissaving.    Negative saving; spending more on consumption goods dur-ing a period than the disposable income available for that period  nanced by borrowing or drawing on past savings@.     $$&$$Distribution.    In economics, the man-ner in which total output and income is distributed among indi-viduals or factors @e.g., the distri-bution of income between labor and capital@.     $$&$$Distribution.theory.    See  theory of income distribution.      Division of labor.    A method of organizing production whereby each worker specializes in part of the productive process. Spe-cialization of labor yields higher total output because labor can become more skilled at a particu-lar task and because specialized machinery can be introduced to per ned subtasks.     $$&$$Dominant equilibrium.    See  dominant strategy.      $$&$$Dominant strategy.    In game theory, a situation where one player has a best strategy no matter what strat-egy the other player follows. When all players have a dominant strat-egy, we say that the outcome is a  dominant equilibrium.      Downward-sloping demand, law of.    The rule which says that when the price of some commod-ity falls, consumers will purchase more of that good, other things held equal.     $$&$$Duopoly.    A market structure in which there are only two sellers. @Compare with  oligopoly. @      E     $$&$$Econometrics.    The branch of econom-ics that uses the methods of statistics to measure and estimate quantita-tive economic relationships.     $$&$$$$&$$Efficiency.wage theory.    According to this theory, higher wages lead to higher productivity. This occurs because with higher wages workers are healthier, have higher morale, and have lower turnover.     $$&$$Efficient financial market.     nan-cial market displaying the charac-teristics of an  ef cient market.      $$&$$Efficient market @ also  efficient-market theory@.    A market or theory in which all new information is quickly absorbed by market par-ticipants and becomes immedi-ately incorporated into market  cient-market theory holds that all cur-rently available information is already incorporated into the price of common stocks @or other assets@.     $$&$$Elasticity.    A term widely used in eco-nomics to denote the responsive-ness of one variable to changes in another. Thus the elasticity of  X  with respect to  Y  means the percentage change in  X  for every 1 percent change in  Y . For espe-cially important examples, see  price elasticity of demand  and  price elasticity of supply.      $$&$$Employed.     cial U.S.  nitions, persons are employed if they perform any paid work or if they hold jobs but are absent because of illness, strike, or vacations.     $$&$$Equal-cost line.    A line in a graph showing the various possible com-binations of factor inputs that can be purchased with a given quantity of money.     $$&$$Equal-product curve @ or  isoquant@.    A line in a graph showing the vari-ous possible combinations of fac-tor inputs which will yield a given quantity of output.     $$&$$Equation of exchange.     nitional equation which states that  MVP  PQ ,  or the money stock times veloc-ity of money equals the price level times output. This equation forms the core of  monetarism.   sam11290_glo.indd   660sam11290_glo.indd   6602/24/09   2:58:31 PM2/24/09   2:58:31 PM  661bundle such that the marginal utility per dollar spent is equal for all goods.     $$&$$Exchange rate.    See  foreign exchange rate.      Exchange-rate system.    The set of rules, arrangements, and institu-tions under which payments are made among nations. Historically, the most important exchange-rate systems have been the gold exchange standard, the Bretton Woods system, and today’ exible-exchange-rate system.     $$&$$Excise tax vs. sales tax.    An excise tax is one levied on the purchase  c commodity or group of commodities @e.g., alcohol or tobacco@. A  sales tax  is one levied on all commodities with only a few  c exclusions @e.g., all pur-chases except food@.     $$&$$Exclusion principle.    A criterion by which public goods are distin-guished from private goods. When a producer sells a commodity to person A and can easily exclude B, C, D, etc., from enjoying the ben- ts of the commodity, the exclu-sion principle holds and the good is a private good. If, as in public health or national defense, people cannot easily be excluded from  ts of the good’s production, then the good has public-good characteristics.     Exogenous vs. induced variables.    Exogenous variables are those determined by conditions outside the economy. They are contrasted with  induced variables,  which are determined by the internal work-ings of the economic system. Changes in the weather are exog-enous; changes in consumption are often induced by changes in income.     $$&$$Expectations.    Views or beliefs about uncertain variables @such as future interest rates, prices, or tax rates@. $$&$$Expectations.are said to be  rational  if they are not systematically wrong @or “biased”@ and use all available    $$&$$$$&$$$$&$$Equilibrium.    The state in which an economic entity is at rest or in which the forces operating on the entity are in balance so that there is no tendency for change.     $$&$$$$&$$$$&$$Equilibrium. @for a business firm@.   That position or level of output in which   t, subject to any constraints it may face, and therefore has no incen-tive to change its output or price level. In the standard theory of the   rm has chosen an output at which mar-ginal revenue is just equal to marginal cost.     $$&$$$$&$$$$&$$Equilibrium. @for the individual con-sumer@.   That position in which the consumer is maximizing util-ity, i.e., has chosen the bundle of goods which, given income and  es the consumer’s wants.     $$&$$$$&$$$$&$$$$&$$Equilibrium. competitive.    Refer to  competitive equilibrium.      $$&$$$$&$$$$&$$$$&$$Equilibrium. general.    Refer to  general-equilibrium analysis.      $$&$$$$&$$$$&$$$$&$$$$&$$Equilibrium. macroeconomic.    A GDP level at which intended aggregate demand equals intended aggre-gate supply. At the equilibrium, desired consumption @ C  @, govern-ment expenditures @ G  @, invest-ment @ I  @, and net exports @ X  @ just equal the quantity that businesses wish to sell at the going price level.     $$&$$$$&$$$$&$$$$&$$Equilibrium.unemployment.    Equilib-rium unemployment arises when people are voluntarily unem-ployed rather than unemployed because of a failure of labor mar-kets to clear. An example is the frictional unemployed that occurs when people move voluntarily from job to job or in and out of the labor force.     $$&$$Equimarginal principle.    A principle for deciding the allocation of income among different consump-tion goods. Under this principle, a consumer’s utility is maximized by choosing the consumption information. $$&$$Expectations.are said to be  adaptive   if people form their expectations on the basis of past behavior.     $$&$$Expected rate of inflation.    A pro- ation that occurs  ation is expected to per- a-tion is built into contracts and people’s expectations.     $$&$$Expenditure multiplier.    See  multiplier.      $$&$$Exports.    Goods or services that are produced in the home coun-try and sold to another country. These include merchandise trade @like cars@, services @like transpor-tation@, and interest on loans and investments.  $$&$$Imports. are simply  ows in the opposite direction—into the home country from another country.     External diseconomies.    Situations in which production or consump-tion imposes uncompensated costs on other parties. Steel fac-tories that emit smoke and sulfu-rous fumes harm local property and public health, yet the injured parties are not paid for the dam-age. The pollution is an external diseconomy.     External economies.    Situations in which production or consump- ts to others without those others pay- rm that hires a security guard scares thieves from the neighborhood, thus provid-ing external security services. Together with external disecono-mies, these are often referred to as  externalities.      External variables.    Same as  exog-enous variables.      $$&$$Externalities.    Activities that affect others for better or worse, without those others paying or being com-pensated for the activity. Exter-nalities exist when private costs or  ts do not equal social costs  ts. The two major species are  external economies  and  exter-nal diseconomies.    sam11290_glo.indd   661sam11290_glo.indd   6612/24/09   2:58:31 PM2/24/09   2:58:31 PM662     $$&$$$$&$$Financial markets.    $$&$$Market. whose products and services consist of  nancial instruments like stocks and bonds.     $$&$$$$&$$Financial system.    The markets,  rms, and other institutions which carr nancial decisions of households, businesses, govern-ments, and the rest of the world.  nancial system include the money mar- xed-interest assets like bonds or mortgages, stock markets for the ownership of  rms, and foreign exchange mar-kets which trade the monies of dif-ferent countries.     $$&$$Firm  @business firm@.   The basic, pri-vate producing unit in an econ-omy. It hires labor, rents or owns capital and land, and buys other inputs in order to make and sell goods and services.     $$&$$Fiscal-monetary mix.    The combina- scal and monetary policies  uence macroeconomic activity. A tight monetar s-cal policy will tend to encourage consumption and retard invest-ment, while an easy monetary– scal policy will have the opposite effect.     Fiscal policy.    A government’s pro-gram with respect to @1@ the pur-chase of goods and services and spending on transfer payments and @2@ the amount and type of taxes.     $$&$$Fixed cost.    Refer to   xed.      Fixed exchange rate.    See  foreign exchange rate.      Flexible exchange rates.    A system of foreign exchange rates among countries wherein the exchange rates are predominantly deter-mined by private market forces @i.e., by supply and demand@ without governments’ setting and maintaining a particular pattern of exchange rates; also sometimes called   oating exchange rates.  When the government refrains from any intervention in exchange markets,    F     Factors of production.    Productive inputs, such as labor, land, and capital; the resources needed to produce goods and services. Also called  inputs.      $$&$$Fallacy of composition.    The fallacy of assuming that what holds for indi-viduals also holds for the group or the entire system.     $$&$$Federal funds rate.    The interest rate that banks pay each other for the overnight use of bank reserves.     $$&$$Federal Reserve System.    The  central bank  of the United States; consists of the Board of Governors and 12 regional Federal Reserve Banks.     $$&$$Fiat money.    $$&$$Money. like today’s paper currency, without  intrinsic value   at@ to be legal tender by the government. $$&$$Fiat money.is accepted only as long as  dence that it will be accepted.     $$&$$Final good.    A good that is produced  nal use and not for resale or further manufacture. @Compare with  intermediate goods. @     $$&$$Finance.    The process by which eco-nomic agents borrow from and lend to other agents in order to save and spend.     $$&$$$$&$$Financial account.    See  balance of trade.      $$&$$$$&$$$$&$$Financial assets.    Monetary claims or obligations by one party against another party. Examples are bonds, mortgages, bank loans, and equities.     $$&$$$$&$$Financial economics.    That branch of economics which analyzes how rational investors should invest their funds to attain their objec-tives in the best possible manner.     $$&$$$$&$$Financial intermediaries.    Institu- nancial ser-vices and products. These include depository institutions @such as commercial or savings banks@ and nondepository institutions @such as money market mutual funds, brokerage houses, insurance com-panies, or pension funds@.   exible-exchange-rate system.     $$&$$Floating exchange rates.    See   exible exchange rates.      $$&$$Flow of funds.    The account which  nan- ow through the economy.     $$&$$Flow vs. stock.    A   ow  variable is one  ows  ow through a stream@. A  stock  variable is one that measures a quantity at a point of time @like the water in a lake@. $$&$$Income.represents dollars per  ow. $$&$$Wealth.as of December 2005 is a stock.     Foreign exchange.    $$&$$Currency.@or  nancial instruments@ of different countries that allow one country to settle amounts owed to other countries.     $$&$$Foreign exchange market.    The mar-ket in which currencies of differ-ent countries are traded.     Foreign exchange rate.    The rate, or price, at which one country’s currency is exchanged for the currency of another country. For example, if you can buy 10 Mexi-can pesos for 1 U.S. dollar, then the exchange rate for the peso is 10. A country has a   xed exchange rate  if it pegs its currency at a given exchange rate and stands ready to defend that rate. $$&$$Exchange rate. which are determined by market supply and demand are called   exible exchange rates.      Four-firm concentration ratio.    See  concentration ratio.      $$&$$Fractional-reserve banking.    A regu-lation in modern banking systems  nancial institutions are legally required to keep a speci- ed fraction of their deposits in the form of deposits with the cen-tral bank @or in vault cash@.     $$&$$Free goods.    Those goods that are not  economic goods.  Like air or seawater, they exist in such large quantities that they need not be rationed out among those wishing sam11290_glo.indd   662sam11290_glo.indd   6622/24/09   2:58:31 PM2/24/09   2:58:31 PM  663   $$&$$General-equilibrium analysis.    Analy-sis of the equilibrium state for the economy as a whole in which the markets for all goods and services are simultaneously in equilibrium. By contrast,  partial-equilibrium analysis  concerns the equilibrium in a single market.     $$&$$GNP.    See  gross national product.      $$&$$Gold standard.    A system under which a nation @1@ declares its currency unit to be equivalent to some  xed weight of gold, @2@ holds gold reserves against its money, and @3@ will buy or sell gold freely at the price so proclaimed, with no restrictions on the export or import of gold.     $$&$$Government debt.    The total of gov-ernment obligations in the form of bonds and shorter-term borrow-ings. $$&$$Government debt.held by the public excludes bonds held by quasi-governmental agencies such as the central bank.     Government expenditure multiplier.    The increase in GDP resulting from an increase of $1 in govern-ment purchases.     $$&$$Gross domestic product, nominal @ or  nominal $$&$$GDP@.    The value, at current market prices, of the total  nal output produced inside a country during a given year.     $$&$$Gross domestic product, real @ or  real $$&$$GDP@.    The quantity of goods and services produced in a nation during a year. $$&$$Real GDP.takes nominal GDP and corrects for price increases.     $$&$$Gross national product, real @ or  real $$&$$$$&$$GNP..    $$&$$Nominal $$&$$GNP.corrected  ation; i.e., real $$&$$GNP.equals nominal $$&$$GNP.divided by the  ator. This was the cen-tral accounting concept in earlier times but has been replaced by  gross domestic product.      Growth accounting.    A technique for estimating the contribution of different factors to economic growth. Using marginal produc-tivity theory, growth accounting to use them. Thus, their market price is zero.     Free trade.    A policy whereby the government does not intervene in trading between nations by tariffs, quotas, or other means.     Frictional unemployment.    Tempo-rary unemployment caused by changes in individual markets. It takes time, for example, for new workers to search among different job possibilities; even experienced workers often spend a minimum period of unemployed time mov-ing from one job to another. Fric-tional is thus distinct from  cyclical unemployment,  which results from a low level of aggregate demand in the context of sticky wages and prices.     $$&$$Full employment.    A term that is used in many senses. Historically, it was taken to be that level of employ-ment at which no @or minimal@ involuntary unemployment exists. Today, economists rely upon the concept of the  nonaccelerating  ation rate of unemployment  @ $$&$$NAIRU.@ to indicate the highest sustainable level of employment over the long run.      G     Gains from trade.    The aggregate increase in welfare accruing from voluntary exchange; equal to the sum of consumer surplus and  ts.     $$&$$Galloping inflation.    See   ation.      Game theory.    An analysis of situ-ations involving two or more decision makers with at least  icting interests. It can be applied to the interaction of oligopolistic markets as well as to bargaining situations such  icts such as games and war.     $$&$$GDP deflator.    The “price” of GDP, i.e., the price index that measures the average price of the compo-nents in GDP relative to a base year.  decomposes the growth of output into the growth in labor, land, cap-ital, education, technical knowl-edge, and other miscellaneous sources.      H     $$&$$Hedging.    A technique for avoiding a risk by making a counteract-ing transaction. For example, if a farmer produces wheat that will be harvested in the fall, the risk of  uctuations can be offset, or hedged, by selling in the spring or summer the quantity of wheat that will be produced.     $$&$$Herfindahl-Hirschman Index @HHI@.      A measure of market power often used in analysis of market struc-ture. It is calculated by summing the squares of the percentage market shares of all participants in a market. $$&$$Perfect competition.would have an HHI of near zero, while complete monopoly has an HHI of 10,000.     $$&$$High-powered money.    Same as  mon-etary base.      $$&$$Horizontal equity vs. vertical equity.     Horizontal equity  refers to the fair-ness or equity in treatment of persons in similar situations; the principle of horizontal equity states that those who are essentially equal should receive equal treat-ment.  $$&$$Vertical equity. refers to the equitable treatment of those who are in different circumstances.     $$&$$Horizontal integration.    See  integra-tion, vertical vs. horizontal.      $$&$$Horizontal merger.    See  merger.      $$&$$Human capital.    The stock of tech-nical knowledge and skill embod-ied in a nation’s workforce, resulting from investments in formal education and on-the-job training.     $$&$$Hyperinflation.    See   ation.       I     $$&$$Imperfect competition.    Refer to  com-petition, imperfect.   sam11290_glo.indd   663sam11290_glo.indd   6632/24/09   2:58:32 PM2/24/09   2:58:32 PM664     Induced variables.    See  exogenous vs. induced variables.      $$&$$Industry.     rms producing similar or identical products.     Infant industry.    In foreign-trade theory, an industry that has not  cient time to develop the experience or expertise to exploit the economies of scale needed to compete successfully with more mature industries pro-ducing the same commodity in other countries. Infant industries are often thought to need tariffs or quotas to protect them while they develop.     $$&$$Inferior good.    A good whose con-sumption goes down as income rises.     $$&$$Inflation @ or  inflation rate@.    The  ation rate is the percentage of annual increase in a general price level.   ation  a-tion at extremely high rates @say, 1000, 1 million, or even 1 billion percent a year@.   ation  is a rate of 50 or 100 or 200 per-cent annually.   ation  is a price-level rise that does not distort relative prices or incomes severely.     $$&$$Inflation targeting.    The announce- cial target ranges for  ation rate along with an explicit statement that low and  ation is the overriding goal of monetary policy ation targeting in hard or soft varieties has been adopted in recent years by many industrial countries.     $$&$$Innovation.    A term particularly asso-ciated with Joseph Schumpeter, who meant by it @1@ the bringing  -cantly different product, @2@ the introduction of a new production technique, or @3@ the opening up of a new market. @Contrast with  invention. @     $$&$$Inputs.    Commodities or services  rms in their production processes; also called  factors of production.   change in income. @Compare with  price elasticity of demand. @     $$&$$$$&$$Income.statement.    A company’s state- ed time period @usually a year@, showing sales or revenue earned during that period, all costs properly charged against the goods sold, and the  t @net income@ remaining after deduction of such costs. Also called a  pr t-and-loss statement.      $$&$$$$&$$Income.tax, personal.    Tax levied on the income received by individu-als in the form of either wages and salaries or income from property, such as rents, dividends, or inter-est. In the United States, personal income tax is  progressive,  meaning that people with higher incomes pay taxes at a higher average rate than people with lower incomes.     $$&$$$$&$$Income.velocity of money.    See  veloc-ity of money.      Increasing returns to scale.    See  returns to scale.      Independent goods.    Goods whose demands are relatively separate from each other. More precisely, goods A and B are independent when a change in the price of good A has no effect on the quan-tity demanded of good B, other things equal.     $$&$$Indexing @ or  indexation@.    A mecha-nism by which wages, prices, and contracts are partially or wholly adjusted to compensate for changes in the general price level.     $$&$$Indifference curve.    A curve drawn on a graph whose two axes mea-sure amounts of different goods consumed. Each point on one curve @indicating different com-binations of the two goods@ yields exactly the same level of satisfac-tion for a given consumer.     $$&$$Indifference map.    A graph showing a family of indifference curves for a consumer. In general, curves that lie farther northeast from the graph’s origin represent higher levels of satisfaction.     $$&$$Indirect taxes.    See  direct taxes.      $$&$$Imperfect competitor.     rm that buys or sells a good in large enough quantities to be able to affect the price of that good.     Implicit-cost elements.    Costs that do not show up as explicit money costs but nevertheless should be counted as such @such as the labor cost of the owner of a small store@. Sometimes called  opportunity cost,  although “opportunity cost” has a broader meaning.     $$&$$Imports.    See  exports.      $$&$$Inappropriability.    See  inappropriable.      $$&$$Inappropriable.    Term applied to resources for which the individual cost of use is free or less than the full social costs. These resources are characterized by the presence of externalities, and thus markets  ciently from a social point of view.     $$&$$Incidence @ or  tax incidence@.    The ultimate economic effect of a tax on the real incomes of producers or consumers @as opposed to the legal requirement for payment@. Thus a sales tax may be paid by a retailer, but it is likely that the inci-dence falls upon the consumer. The exact incidence of a tax depends on the price elasticities of supply and demand.     $$&$$Income.     ow of wages, interest payments, dividends, and other receipts accruing to an individual or nation during a period of time @usually a year@.     $$&$$$$&$$Income.effect  @of a price change@.   Change in the quantity demanded of a commodity because the change in its price has the effect of chang-ing a consumer’s real income. Thus it supplements the  substitu-tion effect  of a price change.     $$&$$Income.elasticity of demand.    The  u-enced not only by the good’s price but by buyers’ incomes. $$&$$Income.elasticity measures this respon- nition is percentage change in quantity demanded divided by percentage sam11290_glo.indd   664sam11290_glo.indd   6642/24/09   2:58:32 PM2/24/09   2:58:32 PM  665   $$&$$Insurance.    A system by which indi-viduals can reduce their exposure to risk of large losses by spreading the risks among a large number of persons.     Integration, vertical vs. horizon-tal.    The production process is one of stages—e.g., iron ore into steel ingots, steel ingots into rolled steel sheets, rolled steel sheets into an automobile body.  $$&$$Vertical integration. is the combination in  rm of two or more dif-ferent stages of this process @e.g., iron ore with steel ingots@.  Horizon-tal integration  is the combination  rm of different units that operate at the same stage of production.     Intellectual property rights.    Laws governing patents, copyrights, trade secrets, electronic media, and other commodities comprised primarily of information. These laws generally provide the original creator the right to control and be compensated for reproduction of the work.     $$&$$Interest.    The return paid to those who lend money.     $$&$$$$&$$Interest.rate.    The price paid for bor-rowing money for a period of time, usually expressed as a percentage of the principal per year. Thus, if the interest rate is 10 percent per year, then $100 would be paid for a loan of $1000 for 1 year.     Intermediate goods.    Goods that have undergone some manufac-turing or processing but have not yet reached the stage of becoming  nal products. For example, steel and cotton yarn are intermediate goods.     $$&$$International monetary system @ also  international financial sys-tem@.    The institutions under which payments are made for transactions that reach across national boundaries. A central policy issue concerns the arrange-ment for determining how foreign exchange rates are set and how governments can affect exchange rates.     $$&$$Intervention.    An activity in which a government buys or sells its cur-rency in the foreign exchange market in order to affect its cur-rency’s exchange rate.     Intrinsic value  @of money@.   The commodity value of a piece of money @e.g., the market value of the weight of copper in a copper coin@.     $$&$$Invention.    The creation of a new product or discovery of a new pro-duction technique. @Distinguish from  innovation. @     $$&$$Investment.    @1@ Economic activity that forgoes consumption today with an eye to increasing output in the future. It includes tangible capital such as houses and intan-gible investments such as educa-tion.  Net investment  is the value of total investment after an allow-ance has been made for deprecia-tion.  Gross investment  is investment without allowance for deprecia- nance terms, “invest-ment” has an altogether different meaning and denotes the pur-chase of a security, such as a stock or a bond.     $$&$$Investment.demand @ or  investment demand curve@.    The schedule showing the relationship between the level of investment and the cost of capital @or -cally, the real interest rate@; also, the graph of that relationship.     $$&$$Invisible hand.    A concept introduced by Adam Smith in 1776 to describe the paradox of a laissez-faire mar-ket economy. The invisible-hand doctrine holds that, with each par-ticipant pursuing his or her own private interest, a market system  t of all as though a benevolent invis-ible hand were directing the whole process.     $$&$$Involuntarily unemployed.    See  unem-ployment.      $$&$$Isoquant.    See  equal-product curve.       K     $$&$$Keynesian economics.    The body of macroeconomic analysis devel-oped by John Maynard Keynes holding that a market economy does not automatically tend toward a full-employment equi-librium. According to Keynes, the resulting underemployment equi- scal or monetary policies to raise aggre-gate demand.     Keynesian macroeconomics.    A the-ory of macroeconomic activity used to explain business cycles. It relies on an upward-sloping aggre-gate supply curve, so that changes in aggregate demand can affect output and employment.     Keynesian school.    See  $$&$$Keynesian economics.       L     $$&$$Labor force.     cial U.S. statis-tics, that group of people 16 years of age and older who are either employed or unemployed.     $$&$$Labor-force participation rate.    The ratio of those in the labor force to the entire population 16 years of age or older.     $$&$$Labor productivity.    See  productivity.      $$&$$Labor supply.    The number of workers @or, more generally, the number of labor-hours@ available to an econ-omy. The principal determinants of labor supply are population, real wages, and social traditions.     Labor theory of value.    The view, often associated with Karl Marx, that every commodity should be valued solely according to the quantity of labor required for its production.     $$&$$Laissez-faire @“Leave us alone”@.    The view that government should interfere as little as possible in eco-nomic activity and leave decisions to the marketplace. As expressed by classical economists like Adam Smith, this view held that the role of government should be limited sam11290_glo.indd   665sam11290_glo.indd   6652/24/09   2:58:32 PM2/24/09   2:58:32 PM666  to maintenance of law and order, national defense, and provision of certain public goods that pri-vate business would not under-take @e.g., public health and sanitation@.     $$&$$Land.    In classical and neoclassical economics, one of the three basic factors of production @along with labor and capital@. More generally, land is taken to include land used for agricultural or industrial pur-poses as well as natural resources taken from above or below the soil.     $$&$$Law of diminishing marginal utility.    See  diminishing marginal utility, law of.      Law of diminishing returns.    See  diminishing returns, law of.      Law of downward-sloping demand.    The nearly universal observation that when the price of a com-modity is raised @and other things are held constant@, buyers buy less of the commodity. Similarly, when the price is lowered, other things being constant, quantity demanded increases.     $$&$$Least-cost rule  @of production@.   The rule that the cost of producing  c level of output is mini-mized when the ratio of the mar-ginal revenue product of each input to the price of that input is the same for all inputs.     $$&$$Legal tender.    $$&$$Money.that by law must be accepted as payment for debts. All U.S. coins and currency are legal tender, but checks are not.     $$&$$Liabilities.    In accounting, debts or  nancial obligations owed to other  rms or persons.     $$&$$Libertarianism.    An economic philos-ophy that emphasizes the impor-tance of personal freedom in economic and political affairs; also sometimes called “liberalism.”     $$&$$Limited liability.    The restriction of an owner’s loss in a business to the amount of capital that the owner has contributed to the company. $$&$$Limited liability.was an important factor in the rise of large corpo-rations. By contrast, owners in partnerships and individual pro-prietorships generally have  unlim-ited liability  for the debts of those  rms.     $$&$$Long run.    A term used to denote a period over which full adjust-ment to changes can take place. In microeconomics, it denotes  rms can enter or leave an industry and the capital stock can be replaced. In macroeconomics, it is often used to mean the period over which all prices, wage contracts, tax rates, and expectations can fully adjust.     $$&$$Long-run aggregate supply schedule.    A schedule showing the relation-ship between output and the price level after all price and wage adjustments have taken place, and the AS curve is therefore vertical.     $$&$$Lorenz curve.    A graph used to show the extent of inequality of income or wealth.      M     M   1  .   See  money supply.      Macroeconomic equilibrium.    Refer to  equilibrium, macroeconomic.      $$&$$Macroeconomics.    Analysis dealing with the behavior of the economy as a whole with respect to output, income, the price level, foreign trade, unemployment, and other aggregate economic variables. @Contrast with  microeconomics. @     Malthusian theory of population growth.     rst expressed by Thomas Malthus, that the “natural” tendency of popula-tion is to grow more rapidly than the food supply. Per capita food production would thus decline over time, thereby putting a check on population. In general, a view that population tends to grow more rapidly as incomes or living standards of the population rise.     $$&$$Managed exchange rate.    The most prevalent exchange-rate system today. In this system, a country occasionally intervenes to stabilize  xed or announced parity.     $$&$$Marginal cost.    Refer to  cost, marginal.      $$&$$Marginal principle.    The fundamen-tal notion that people will maxi- ts when the marginal costs and marginal  ts of their actions are equal.     $$&$$Marginal product @  MP   @.    The extra output resulting from 1 extra  ed input when all other inputs are held constant. Sometimes called  marginal physical product.      $$&$$Marginal product theory of distribu-tion.    A theory of the distribu-tion of income proposed by John B. Clark, according to which each productive input is paid according to its  marginal product.      $$&$$Marginal propensity to consume @  MPC   @.    The extra amount that people consume when they receive an extra dollar of disposable income. To be distinguished from the  aver-age propensity to consume,  which is the ratio of total consumption to total disposable income.     $$&$$Marginal propensity to import @  MPm  @.    In macroeconomics, the increase in the dollar value of imports resulting from each dollar increase in the value of GDP.     $$&$$Marginal propensity to save @  MPS   @.    That fraction of an additional dollar of disposable income that  nition,  MRC  MPS  1.      Marginal revenue @  MR   @.    The addi- rm would earn if it sold 1 extra unit of output. In perfect competition,  MR  equals price. Under imperfect competi-tion,  MR  is less than price because, in order to sell the extra unit, the price must be reduced on all prior units sold.     $$&$$Marginal revenue product @  MRP  @  @of an input@.   Marginal revenue multiplied by marginal product. It is the extra revenue that would sam11290_glo.indd   666sam11290_glo.indd   6662/24/09   2:58:32 PM2/24/09   2:58:32 PM  667 rm were to buy 1 extra unit of an input, put it to work, and sell the extra product it produced.     $$&$$Marginal tax rate.    For an income tax, the percentage of the last dollar of income paid in taxes. If a tax sys-tem is progressive, the marginal tax rate is higher than the average tax rate.     Marginal utility @  MU    @.    The addi-tional or extra satisfaction yielded from consuming 1 additional unit of a commodity, with amounts of all other goods consumed held constant.     $$&$$Market.    An arrangement whereby buyers and sellers interact to determine the prices and quanti-ties of a commodity. Some mar-kets @such as the stock market or  ea market@ take place in physi-cal locations; other markets are conducted over the telephone or are organized by computers, and some markets now are organized on the Internet.     $$&$$Market.clearing price.    The price in a supply-and-demand equilib-rium. This denotes that all supply  lled at that price, so that the books are “cleared” of orders.     $$&$$Market.economy.    An economy in which the  what, how,   and   for whom  questions concerning resource allocation are primarily deter-mined by supply and demand in markets. In this form of economic  rms, motivated by  ts, buy inputs and produce and sell outputs. Households, armed with their factor incomes, go to mar-kets and determine the demand for commodities. The interaction  rms’ supply and households’ demand then determines the prices and quantities of goods.     $$&$$Market.equilibrium.    Same as  com-petitive equilibrium.      $$&$$$$&$$Market.failure.    An imperfection in a price system that prevents an  cient allocation of resources. Important examples are  externali-ties  and  imperfect competition.      $$&$$$$&$$Market.power.    The degree of con-  rms has over the price and produc-tion decisions in an industry. In a monopoly rm has a high  rms in perfectly competitive industries have no market power.  Concen-tration ratios  are the most widely used measures of market power.     $$&$$Market.share.    That fraction of an industry’s output accounted for  rm or group of  rms.     $$&$$Marxism.    The set of social, political, and economic doctrines devel-oped by Karl Marx in the nine-teenth century. As an economic theory, $$&$$Marxism.predicted that capitalism would collapse as a result of its own internal contra-dictions, especially its tendency to exploit the working classes.     $$&$$Mean.    In statistics, the same thing as “average.” Thus for the numbers 1, 3, 6, 10, 20, the mean is 8.     $$&$$Median.     gure exactly in the middle of a series of numbers ordered or ranked from lowest to highest @e.g., incomes or examination grades@. Thus for the numbers 1, 3, 6, 10, 20, the median is 6.     $$&$$Mercantilism.    A political doctrine emphasizing the importance of balance-of-payments surpluses as a device to accumulate gold. Pro-ponents therefore advocated tight government control of economic policies, believing that laissez-faire policies might lead to a loss of gold.     $$&$$Merchandise trade balance.    See  bal-ance of trade.      $$&$$Merger.    The acquisition of one cor-poration by another, which usually  rm buys the stock of another. Important exam-ples are @1@  vertical mergers,  which  rms are at different stages of a production process @e.g., iron ore and steel@, @2@  horizontal mergers,  which occur  rms produce in the same market @e.g., two automobile manufacturers@, and @3@  conglomer-ate mergers,  which occur when the  rms operate in unrelated markets @e.g., shoelaces and oil  ning@.     $$&$$Microeconomics.    Analysis dealing with the behavior of individual elements in an economy—such as the determination of the price of a single product or the behavior of a  rm. @Contrast with  macroeconomics. @     Minimum cost.    Refer to  cost, minimum.      Mixed economy.    The dominant form of economic organization in noncommunist countries. Mixed economies rely primarily on the price system for their economic organization but use a variety of government interventions @such as taxes, spending, and regula-tion@ to handle macroeconomic instability and market failures.     $$&$$Model.    A formal framework for rep-resenting the basic features of a complex system by a few central relationships. $$&$$Model. take the form of graphs, mathematical equa-tions, and computer programs.     $$&$$Momentary run.    A period of time that is so short that production is  xed.     $$&$$Monetarism.    A school of thought holding that changes in the money supply are the major cause of mac- uctuations.     Monetary base.    The net monetary liabilities of the government that are held by the public. In the United States, the monetary base is equal to currency and bank reserves. Sometimes called  high-powered money.      Monetary economy.    An economy in which the trade takes place through a commonly accepted medium of exchange.  sam11290_glo.indd   667sam11290_glo.indd   6672/24/09   2:58:32 PM2/24/09   2:58:32 PM668     $$&$$Monetary policy.    The objectives of the central bank in exercising its control over money, interest rates, and credit conditions. The instru-ments of monetary policy are pri-marily open-market operations, reserve requirements, and the dis-count rate.     $$&$$Monetary rule.    The cardinal tenet of monetarist economic philosophy is the monetary rule which asserts that optimal monetary policy sets the growth of the money supply at  xed rate and holds to that rate through thick and thin.     Monetary transmission mechanism.    In macroeconomics, the route by which changes in the supply of money are translated into changes in output, employment, prices,  ation.     Monetary union.    An arrangement by which several nations adopt a common currency as a unit of account and medium of exchange. The European Monetary Union adopted the Euro as the common currency in 1999.     $$&$$Money.    The means of payment or medium of exchange. For the items constituting money, see  money supply.      $$&$$$$&$$Money. velocity of.    Refer to  velocity of money.      $$&$$$$&$$Money.demand schedule.    The rela-tionship between holdings of money and interest rates. As inter-est rates rise, bonds and other securities become more attractive, lowering the quantity of money demanded. See also  demand for money.      $$&$$Money.funds.    Shorthand expres-sion for very liquid short-term  nancial instruments whose inter-est rates are not regulated. The major examples are money mar-ket mutual funds and commercial-bank money market deposit accounts.     $$&$$$$&$$Money.market.    A term denoting the set of institutions that handle the purchase or sale of short-term credit instruments like Treasury bills and commercial paper.     $$&$$$$&$$Money.supply.     ned money supply @narrow money, or  M  1 @ consists of coins, paper cur-rency, and all demand or check-ing deposits; this is transactions money ned sup-ply @broad money@ includes all items in  M  1  plus certain liquid assets or near-monies—savings deposits, money market funds, and the like.     $$&$$Money.supply effect.    The relation-ship whereby a price rise operating  xed nominal money supply produces tight money and lowers aggregate spending.     $$&$$Money.supply multiplier.    The ratio of the increase in the money sup-ply @or in deposits@ to the increase in bank reserves. Generally, the money-supply multiplier is equal to the inverse of the required reserve ratio. For example, if the required reserve ratio is 0.125, then the money-supply multiplier is 8.     $$&$$Monopolistic competition.    A market structure in which there are many sellers supplying goods that are close, but not perfect, substitutes.  rm can exercise some effect on its prod-uct’s price.     $$&$$Monopoly.    A market structure in which a commodity is supplied  rm. Also see  natural monopoly.      $$&$$Monopsony.    The mirror image of monopoly: a market in which there is a single buyer; a “buyer’s monopoly.”     Moral hazard.    A type of market failure in which the presence of insurance against an insured risk increases the likelihood that the risky event will occur. For example, a car owner insured 100 percent against auto theft may be careless about locking the car because the presence of insurance reduces the incentive to prevent the theft.     MPC .   See  marginal propensity to consume.      MPS .   See  marginal propensity to save.      $$&$$Multiplier.    A term in macroeconom-ics denoting the change in an induced variable @such as GDP or money supply@ per unit of change in an external variable @such as government spending or bank reserves@. The  expenditure multiplier  denotes the increase in GDP that would result from a $1 increase in expenditure @say, on investment@.     $$&$$$$&$$Multiplier.model.    In macroeconom-ics, a theory developed by J. M. Keynes that emphasizes the impor-tance of changes in autonomous expenditures @especially invest-ment, government spending, and net exports@ in determining changes in output and employ-ment. Also see  multiplier.       N     $$&$$NAIRU.    See   a-tion rate of unemployment.      $$&$$Nash equilibrium.    In game theory, a set of strategies for the players where no player can improve his or her payoff given the other play-er’s strategy. That is, given player A’s strategy, player B can do no better, and given B’s strategy, A can do no better. The Nash equi-librium is also sometimes called the  noncooperative equilibrium.      $$&$$National debt.    Same as  government debt.      $$&$$National income and product accounts @NIPA@.    A set of accounts that measures the spending, income, and output of the entire nation for a quarter or a year.     National saving rate.    Total saving, private and public, divided by net domestic product.     $$&$$Natural monopoly.     rm or indus-try whose average cost per unit of production falls sharply over the entire range of its output, as, e.g., in local electricity distribution. sam11290_glo.indd   668sam11290_glo.indd   6682/24/09   2:58:32 PM2/24/09   2:58:32 PM  669 rm, a monopoly, can supply the industry output  ciently than can multiple  rms.     $$&$$Natural rate of unemployment.  The same concept as the  nonacceler- ation rate of unemploy-ment @$$&$$NAIRU..        Neoclassical model of growth.    A theory or model used to explain long-term trends in the economic growth of industrial economies. This model emphasizes the impor-tance of capital deepening @i.e., a growing capital-labor ratio@ and technological change in explaining the growth of potential real GDP.     $$&$$Net domestic product @NDP@.    GDP less an allowance for depreciation of capital goods.     $$&$$Net exports.    In the national product accounts, the value of exports of goods and services minus the value of imports of goods and services.     $$&$$Net foreign investment.    Net saving by a country abroad; approxi-mately equal to net exports.     Net investment.    Gross investment minus depreciation of capital goods.     $$&$$Net worth.    In accounting, total assets minus total liabilities.     New classical macroeconomics.    A theory which holds that @1@ prices  exible and @2@ peo-ple make forecasts in accordance with the  rational-expectations hypothesis.      $$&$$Nominal GDP.    See  gross domestic product, nominal.      $$&$$Nominal @ or  money@ interest rate.    The  interest rate  paid on differ-ent assets. This represents a dol-lar return per year per dollar invested. Compare with the  real interest rate,  which represents the return per year in goods per unit of goods invested.     $$&$$Nonaccelerating inflation rate of unem-ployment @$$&$$NAIRU..    An unem-ployment rate that is consistent  ation rate. At the $$&$$NAIRU. upward and downward  ation are in balance, so there is no ten- ation to change. The $$&$$NAIRU.is the unemployment rate at which the long-run $$&$$Phillips curve.is vertical.     $$&$$Noncooperative equilibrium.    See  $$&$$Nash equilibrium.      $$&$$Nonrenewable resources.    Those natural resources, like oil and gas,  xed in sup-ply and whose regeneration is not quick enough to be economically relevant.     Normative vs. positive economics.     Normative economics  considers “what ought to be”—value judgments, or goals, of public policy.  Positive eco-nomics,  by contrast, is the analysis of facts and behavior in an econ-omy, or “the way things are.”     $$&$$Not in the labor force.    That part of the adult population that is neither working nor looking for work.      O     $$&$$Okun’s Law.    The empirical relation-ship, discovered by Arthur Okun, between cyclical movements in GDP and unemployment. The law states that when actual GDP declines 2 percent relative to potential GDP, the unemployment rate increases by about 1 per-centage point. @Earlier estimates placed the ratio at 3 to 1.@     $$&$$Oligopoly.    A situation of imperfect competition in which an industry is dominated by a small number of suppliers.     Open economy.    An economy that engages in international trade @i.e., imports and exports@ of goods and capital with other coun-tries. A  closed economy  is one that has no imports or exports.     $$&$$Open-economy multiplier.    $$&$$Multiplier.analysis as applied to economies that have foreign trade. The open-economy multiplier is smaller than the closed-economy multi-plier because there is a leakage of spending into imports as well as into saving.     $$&$$Open-market operations.    The activ-ity of a central bank in buying or  u-ence bank reserves, the money supply, and interest rates. If secu-rities are bought, the money paid out by the central bank increases commercial-bank reserves, and the money supply increases. If securities are sold, the money sup-ply contracts.     $$&$$Opportunity cost.    The value of the best alternative use of an economic good. Thus, say that the best alter-native use of the inputs employed to mine a ton of coal was to grow 10 bushels of wheat. The oppor-tunity cost of a ton of coal is thus the 10 bushels of wheat that  could  have been produced but were not. $$&$$Opportunity cost.is particularly useful for valuing nonmarketed goods such as environmental health or safety.     Optimal currency area.    A group-ing of regions or countries which have high labor mobility or have common and synchronous aggre-gate supply or demand shocks.  cant changes in exchange rates are not necessary to ensure rapid macro-economic adjustment, and the  xed exchange rates or a common currency.     $$&$$Ordinal utility.    A dimensionless util-ity measure used in demand the-ory. $$&$$Ordinal utility.enables one to state that A is preferred to B, but we cannot say by how much. That is, any two bundles of goods can be ranked relative to each other, but the absolute difference between bundles cannot be measured. This contrasts with  cardinal utility,  or dimensional utility, which is some-times used in the analysis of behav-ior toward risk. An example of a cardinal measure comes when we say that a substance at 100 K @kel-vin@ is twice as hot as one at 50 K.  sam11290_glo.indd   669sam11290_glo.indd   6692/24/09   2:58:32 PM2/24/09   2:58:32 PM670     Other things constant.    A phrase @sometimes stated “ ceteris paribus ”@  es that a factor under consideration is changed while all other factors are held constant or unchanged. For example, a downward-sloping demand curve shows that the quantity demanded will decline as the price rises, as long as other things @such as incomes@ are held constant.     $$&$$Outputs.    The various useful goods or services that are either consumed or used in further production.      P     Paradox of thrift.    The principle,  rst proposed by John Maynard Keynes, that an attempt by a soci-ety to increase its saving may result in a reduction in the amount which it actually saves.     Paradox of value.    The paradox that many necessities of life @e.g., water@ have a low “market” value while many luxuries @e.g., dia-monds@ with little “use” value have a high market price. It is explained  ects not the total utility of a commodity but its marginal utility.     $$&$$Pareto efficiency @ or  $$&$$Pareto optimal-ity@.    A situation in which no reor-ganization or trade could raise the utility or satisfaction of one indi-vidual without lowering the utility or satisfaction of another individ-ual. Under certain limited condi-tions, perfect competition leads  ciency. Also called  allocative ef ciency.      Partial-equilibrium analysis.    Analy-sis concentrating on the effect of changes in an individual market, holding other things equal @e.g., disregarding changes in income@.     $$&$$Partnership.    An association of two or more persons to conduct a business which is not in corporate form and does not enjoy limited liability.     $$&$$Patent.    An exclusive right granted to an inventor to control the use of an invention for, in the United States, a period of 20 years. $$&$$Patent. create temporary monopolies as a way of rewarding inventive activity and, like other intellectual prop-erty rights, are a tool for promot-ing invention among individuals  rms.     $$&$$Payoff table.    In game theory, a table used to describe the strategies and payoffs of a game with two or  ts or utili-ties of the different players are the  payoffs.      $$&$$Payoffs.    See  payoff table.      $$&$$Perfect competition.    Refer to  com-petition, perfect.      Personal disposable income.    Per-sonal income minus taxes plus transfers. The amount households have for consumption and saving.     Personal income.    A measure of income before taxes have been deducted. More precisely, it equals disposable personal income plus net taxes.     Personal saving.    That part of income which is not consumed; in other words, the difference between disposable income and consumption.     Personal saving rate.    The ratio of personal saving to personal dispos-able income, in percent.     $$&$$Phillips curve.     rst devised by A. W. Phillips, showing the tradeoff between unemployment  ation. In modern main-stream macroeconomics, the downward-sloping “tradeoff” Phil-lips curve is generally held to be valid only in the short run; in the long run, the $$&$$Phillips curve.is usu-ally thought to be vertical at the  ation rate of unemployment @$$&$$NAIRU..     $$&$$Policy-ineffectiveness theorem.    A theorem which asserts that, with  ex-ible prices and wages, anticipated government monetar scal policy cannot affect real output or unemployment.     Portfolio theory.    An economic theory that describes how ratio-nal investors allocate their wealth  nancial assets—that is, how they put their wealth into a “portfolio.”     Positive economics.    See  normative vs. positive economics.      $$&$$Post hoc fallacy.    From the Latin,  post hoc, ergo propter hoc,  which translates as “after this, therefore because of this.” This fallacy arises when it is assumed that because event A precedes event B, it follows that A  causes  B.     Potential GDP.    High-employment GDP; more precisely, the maxi-mum level of GDP that can be sustained with a given state of tech-nology and population size without  ation. Today, it is generally taken to be equivalent to the level of output corresponding to the   ation rate of unemployment   @$$&$$NAIRU..  $$&$$Potential output.is not necessarily maximum output.     $$&$$Potential output.    Same as  potential GDP.      $$&$$Poverty.    Today, the U.S. government  nes the “poverty line” to be the minimum adequate standard of living.     PPF.    See  production-possibility fron-tier.      Present value  @of an asset@.   Today’s value for an asset that yields a stream of income over time. Val-uation of such time streams of returns requires calculating the present worth of each component of the income, which is done by applying a discount rate @or inter-est rate@ to future incomes.     $$&$$Price.    The money cost of a good, service, or asset. $$&$$Price.is mea-sured in monetary units per unit of the good @as in 3 dollars per 1 hamburger@.     $$&$$Price.discrimination.    A situation where the same product is sold to different consumers for different prices.  sam11290_glo.indd   670sam11290_glo.indd   6702/24/09   2:58:33 PM2/24/09   2:58:33 PM  671   $$&$$Price.elastic demand @ or  elastic demand@.    The situation in which price elasticity of demand exceeds  es that the percentage change in quantity demanded is greater than the percentage change in price. In addition, elastic demand implies that total revenue @price times quantity@ rises when price falls because the increase in quantity demanded is so large. @Contrast with  price-inelastic demand. @     $$&$$$$&$$Price.elasticity of demand.    A mea-sure of the extent to which quan-tity demanded responds to a price  cient @price elasticity of demand  E p  @ is the percentage change in quantity demanded divided by percentage  guring per-centages, use the averages of old and new quantities in the numera-tor and of old and new prices in the denominator; disregard the minus sign. Refer also to  price-elastic demand, price-inelastic demand,  and  unit-elastic demand.      $$&$$$$&$$Price.elasticity of supply.    Conceptu-ally similar to  price elasticity of demand,  except that it measures the supply responsiveness to a price change. More precisely, the price elasticity of supply measures the percentage change in quantity supplied divided by the percent-age change in price. Supply elas-ticities are most useful in perfect competition.     $$&$$Price.flexibility.    $$&$$Price.behavior in “auction” markets @e.g., for many raw commodities or the stock mar-ket@, in which prices immediately respond to changes in demand or in supply.     $$&$$$$&$$Price.index.    An index number that shows how the average price of a bundle of goods changes over time. In computation of the aver-age, the prices of the different goods are generally weighted by their economic importance @e.g., by each commodity’s share of total consumer expenditures in the  consumer price index @.     $$&$$Price.inelastic demand @ or  inelastic demand@.    The situation in which price elasticity of demand is below 1 in absolute value. In this case, when price declines, total rev-enue declines, and when price is increased, total revenue goes up. Perfectly inelastic demand means that there is no change at all in quantity demanded when price goes up or down. @Contrast with  price-elastic demand  and  unit-elastic demand. @     $$&$$$$&$$Price.of GDP.    See   ator.      $$&$$Private good.    See  public good.      Producer price index.    The price index of goods sold at the whole-sale level @such as steel, wheat, oil@.     Producer surplus.    The difference between the producer sales rev-enue and the producer cost. The producer surplus is generally mea-sured as the area above the supply curve but under the price line up to the amount sold.     $$&$$Product, average.    Refer to  average product.      $$&$$Product, marginal.    Refer to  marginal product.      Product differentiation.    The exis-tence of characteristics that make similar goods less-than-perfect substitutes. Thus locational dif-ferences make similar types of gasoline sold at separate points imperfect substitutes. $$&$$Firms enjoy-ing product differentiation face a downward-sloping demand curve instead of the horizontal demand curve of the perfect competitor.     $$&$$Production function.    A relation @or mathematical function@ specifying the maximum output that can be produced with given inputs for a given level of technology; applies  rm or, as an aggregate pro-duction function, to the economy as a whole.     $$&$$Production-possibility frontier @  PPF   @.    A graph showing the menu of goods that can be produced by an economy. In a frequently cited case, the choice is reduced to two goods, guns and butter. Points out-side the  PPF  @to the northeast of it@ are unattainable. Points inside  cient since resources are not being fully employed, resources are not being used prop-erly, or outdated production tech-niques are being utilized.     $$&$$Productive efficiency.    A situation in which an economy cannot pro-duce more of one good without producing less of another good; this implies that the economy is on its production-possibility frontier.     $$&$$Productivity.    A term referring to the ratio of output to inputs @total out-put divided by labor inputs is  labor productivity @. $$&$$Productivity.increases if the same quantity of inputs produces more output. $$&$$Labor productivity.increases because of improved technology, improve-ments in labor skills, or capital deepening.     $$&$$Productivity.growth.    The rate of increase in  productivity  from one period to another. For example, if an index of labor productivity is 100 in 2004 and 101.7 in 2005, the rate of productivity growth is 1.7 percent per year for 2005 over 2004.     $$&$$$$&$$Productivity.of capital, net.    See  rate of return on capital.      $$&$$Profit.    @1@ In accounting terms, total revenue minus costs properly chargeable against the goods sold @see  income statement @. @2@ In economic theory, the difference between sales revenue and the full opportunity cost of resources involved in producing the goods.     $$&$$$$&$$Profit.and-loss statement.    See  income statement.      $$&$$Progressive, proportional, and regres-sive taxes.    A progressive tax weighs more heavily upon the rich; a regressive tax does the opposite. More precisely, a tax is  progressive  if the average tax rate @i.e., taxes divided by income@ is higher for sam11290_glo.indd   671sam11290_glo.indd   6712/24/09   2:58:33 PM2/24/09   2:58:33 PM672  those with higher incomes; it is a  regressive  tax if the average tax rate declines with higher incomes; it is a  proportional  tax if the average tax rate is equal at all income levels.     $$&$$Property rights.     ne  rms to own, buy, sell, and use the capi-tal goods and other property in a market economy.     $$&$$Proportional tax.    See  progressive, proportional, and regressive taxes.      Proprietorship, individual.    A busi- rm owned and operated by one person.     $$&$$Protectionism.    Any policy adopted by a country to protect domestic industries against competition from imports @most commonly, a tariff or quota imposed on such imports@.     Public choice @ also  public-choice theory@.    Branch of economics and political science dealing with the way that governments make choices and direct the economy. This theory differs from the the-ory of markets in emphasizing  uence of vote maximizing for politicians, which contrasts to   rms.     $$&$$Public debt.    See  government debt.      Public good.    A commodity whose  ts are indivisibly spread among the entire community, whether or not particular individ-uals desire to consume the public good. For example, a public-health measure that eradicates polio pro-tects all, not just those paying for the vaccinations. To be contrasted with  private goods,  such as bread, which, if consumed by one person, cannot be consumed by another person.     Pure economic rent.    See  rent, economic.       Q     $$&$$Quantity demanded.    See  change in demand vs. change in quantity demanded.      $$&$$Quantity equation of exchange.    A tau-tology,   MV  PQ ,  where  M  is the money supply,  V  is the income veloc-ity of money, and  PQ  @price times quantity@ is the money value of total output @nominal $$&$$GDP@. The equa-tion must always hold exactly since  V    is  ned as  PQ / M .     Quantity supplied.    See  change in supply vs. change in quantity supplied.      $$&$$Quantity theory of money and prices.    A theory of the determination of output and the overall price level holding that prices move propor-tionately with the money supply. A more cautious approach put forth by monetarists holds that the money supply is the most impor-tant determinant of changes in nominal GDP @see  monetarism @.     $$&$$Quota.    A form of import protection-ism in which the total quantity of imports of a particular commodity @e.g., sugar or cars@ during a given period is limited.      R     $$&$$Random-walk theory  @of stock market prices@.   See  ef cient market.      $$&$$Rate of inflation.    See   ation.      $$&$$Rate of return @ or  return@ on capi-tal.    The yield on an investment or on a capital good. Thus, an investment costing $100 and yield-ing $12 annually has a rate of return of 12 percent per year.     $$&$$Rate of return on investment.    The net dollar return per year for every dollar of invested capital. For example, if $100 of invest-ment yields $12 per year of return, the rate of return on investment is 12 percent per year.     Rational expectations.    See  expec-tations.      Rational-expectations hypothesis.    A hypothesis which holds that peo-ple make unbiased forecasts and, further, that people use all avail-able information and economic theory to make these forecasts.     $$&$$Rational-expectations macroeconomics.    A school holding that markets clear quickly and that expecta-tions are rational. Under these and other conditions it can be shown that predictable macro-economic policies have no effect on real output or unemployment. Sometimes called  new classical macroeconomics.      $$&$$Real-business-cycle @RBC@ theory.    A theory that explains business cycles purely as shifts in aggregate supply, primarily due to techno-logical disturbances, without any reference to monetary or other demand-side forces.     $$&$$Real GDP.    See  gross domestic prod-uct, real.      $$&$$Real interest rate.    The interest rate measured in terms of goods rather than money. It is thus equal to the money @or nominal@ interest rate  ation.     $$&$$Real wages.    The purchasing power of a worker’s wages in terms of goods and services. It is measured by the ratio of the money wage rate to the consumer price index.     $$&$$Recession.     cant decline in total output, income, and employment, usually last-ing from 6 months to a year and marked by widespread contrac-tions in many sectors of the econ-omy. See also  depression.      $$&$$Regressive tax.    See  progressive, pro-portional, and regressive taxes.      $$&$$Regulation.    Government laws or rules designed to control the behavior of  rms. The major kinds are  economic regulation  @which affects the prices, entry, or service of a single indus-try, such as telephone service@ and  social regulation  @which attempts to correct externalities that prevail across a number of industries, such as air or water pollution@.     Renewable resources.    Natural re-sources @like agricultural land@ whose services replenish regularly and which, if properly managed, can yield useful ser nitely.  sam11290_glo.indd   672sam11290_glo.indd   6722/24/09   2:58:33 PM2/24/09   2:58:33 PM  673   $$&$$Rent, economic @ or  pure economic rent@.    Term applied to income earned from land. The total sup-ply of land available is @with minor  cations@  xed, and the return paid to the landowner is rent. The term is often extended to the return paid to any factor  xed supply—i.e., to any input having a perfectly inelastic or ver-tical supply curve.     $$&$$Required reserve ratio.    See  reserves, bank.      Reserves, bank.    That portion of deposits that a bank sets aside in the form of vault cash or non-interest-earning deposits with Fed-eral Reserve Banks. In the United States, banks are required to hold 10 percent of checking deposits @or transactions accounts@ in the form of reserves.     $$&$$Reserves, international.    $$&$$International money held by a nation to stabilize or “peg” its foreign exchange rate or  nancing when the nation  cul-ties. Today, the bulk of reserves are U.S. dollars, with Euros and Japa-nese yen the other major reserve currencies.     $$&$$Resource allocation.    The manner in which an economy distributes its resources @its factors of produc-tion@ among the potential uses so as to produce a particular set of  nal goods.     $$&$$Returns to scale.    The rate at which output increases when all inputs are increased proportionately. For example, if all the inputs double and output is exactly doubled, that process is said to exhibit  constant returns to scale.  If, however, output grows by less than 100 percent when all inputs are doubled, the process shows  decreasing returns to scale;  if output more than doubles, the process demonstrates  increas-ing returns to scale.      $$&$$Revaluation.     -cial foreign exchange rate of a cur-rency. See also  devaluation.      $$&$$Ricardian view of fiscal policy.    A the-ory developed by Harvard’s Robert Barro which holds that changes in tax rates have no impact upon consumption spending because households foresee, say, that tax cuts today will require tax increases  nance the govern-ment’ nancing requirements.     $$&$$Risk.     nancial economics, refers to the variability of the returns on an investment.     $$&$$$$&$$Risk.averse.    A person is risk-averse when, faced with an uncertain situ-ation, the displeasure from losing a given amount of income is greater than the pleasure from gaining the same amount of income.     $$&$$$$&$$Risk.spreading.    The process of tak-ing large risks and spreading them around so that they are but small risks for a large number of people. The major form of risk spreading is  insurance,  which is a kind of gambling in reverse.     Rule of 70.    A useful shortcut for approximating compound inter-est. A quantity that grows at  r  per-cent per year will double in about 70/ r   years.      S     Sacrifice ratio.     ce ratio is the cumulative loss in output, measured as a percent of one year’s GDP, associated with a one-percentage-point permanent  ation.     Sales tax.    See  excise tax vs. sales tax.      $$&$$Saving function.    The schedule show-ing the amount of saving that households or a nation will under-take at each level of income.     Say’s Law of $$&$$Market..    The the-ory that “supply creates its own demand.” J. B. Say argued in 1803 that, because total purchas-ing power is exactly equal to total incomes and outputs, excess demand or supply is impossible. Keynes attacked Say’s Law, pointing out that an extra dollar of income need not be spent entirely @i.e., the marginal propensity to spend is not necessarily unity@.     $$&$$Scarcity.    The distinguishing charac-teristic of an economic good. That an economic good is scarce means not that it is rare but only that it is not freely available for the taking. To obtain such a good, one must either produce it or offer other economic goods in exchange.     $$&$$$$&$$Scarcity. law of.    The principle that most things that people want are available only in limited supply @the exception being  free goods @. Thus goods are generally scarce and must somehow be rationed, whether by price or some other means.     $$&$$Schedule    @demand, supply, aggre-gate demand, aggregate supply@. Term used interchangeably with “curve,” as in demand curve, sup-ply curve, etc.     $$&$$Securities.    A term used to designate  nancial assets, such as stocks, bonds, options, and notes; more precisely, the docu-ments used to establish ownership of these assets.     $$&$$Short run.    A period in which not all factors can adjust fully. In micro-economics, the capital stock and  xed” inputs cannot be adjusted and entry is not free in the short run. In macroeconom-ics, prices, wage contracts, tax rates, and expectations may not fully adjust in the short run.     Short-run aggregate supply sched-ule.    The schedule showing the relationship between output and prices in the short run wherein changes in aggregate demand can affect output; represented by an upward-sloping or horizontal  AS  curve.     $$&$$Shutdown price @   or      point    or      rule@.    In the theor rm, the shut-down point comes at that point  -cient to cover average variable cost sam11290_glo.indd   673sam11290_glo.indd   6732/24/09   2:58:33 PM2/24/09   2:58:33 PM674   rm’s  xed costs; it might as well shut down.     $$&$$Single-tax movement.    A nineteenth-century movement, originated by Henry George, holding that continued poverty in the midst of steady economic progress was attributable to the scarcity of land  owing to land-owners. The “single tax” was to be a tax on economic rent earned from landownership.     $$&$$Slope.    In a graph, the change in the variable on the vertical axis per unit of change in the variable on the horizontal axis. Upward-sloping lines have positive slopes, downward-sloping curves @like demand curves@ have negative slopes, and horizontal lines have slopes of zero.     Social insurance.    Mandatory insur-ance provided by government to improve social welfare by prevent-ing the losses created by market failures such as moral hazard or adverse selection.     $$&$$Social overhead capital.    The essen-tial investments on which eco-nomic development depends, particularly for sanitation and drinking water, transportation, and communications; sometimes called  infrastructure.      $$&$$Social regulation.    See  regulation.      $$&$$Socialism.    A political theory which holds that all @or almost all@ the means of production, other than labor, should be owned by the community. This allows the return on capital to be shared more equally than under capitalism.     $$&$$Speculator.    Someone engaged in speculation, i.e., someone who buys  nancial  ting from later selling @or buying@ the item at a higher @or lower@ price.     $$&$$Spillovers.    Same as  externalities.      $$&$$Stagflation.    A term, coined in the early 1970s, describing the coex-istence of high unemployment, or  stag  nation, with persistent in  ation . Its explanation lies pri-marily in the inertial nature of the  ationary process.     $$&$$Statistical discrimination.    Treatment of individuals on the basis of the average behavior or characteristics of members of the group to which they belong. Statistical discrimina- lling by reduc-ing incentives for individuals to overcome the stereotype.     $$&$$Stock, common.    Refer to  common stock.      $$&$$Stock market.    An organized market-place in which common stocks are traded. In the United States, the largest stock market is the New York Stock Exchange, on which are traded the stocks of the largest U.S. companies.     $$&$$Stock vs. flow.    See   ow vs. stock.      $$&$$Strategic interaction.    A situation in oligopolistic markets in which  rm’s business strategies depend upon its rival’s plans. A formal analysis of strategic interac-tion is given in  game theory.      $$&$$$$&$$Structural budget.    See  actual, cyclical, and structural budget.      $$&$$Structural unemployment.      Unem-ployment resulting because the regional or occupational pattern of job vacancies does not match the pattern of worker availability. There may be jobs available, but unemployed workers may not have the required skill or the jobs may be in different regions from where the unemployed workers live.     $$&$$Subsidy.    A payment by a government  rm or household that pro-vides or consumes a commodity. For example, governments often subsidize food by paying for part of the food expenditures of low-income households.     $$&$$Substitutes.    Goods that compete with each other @as do gloves and mittens@. By contrast, goods that go together in the eyes of consum-ers @such as left shoes and right shoes@ are  complements.      $$&$$Substitution effect  @of a price change@.   The tendency of consumers to consume more of a good when its relative price falls @to “sub-stitute” in favor of that good@ and to consume less of the good when its relative price increases @to “substitute” away from that good@. This substitution effect of a price change leads to a downward-sloping demand curve. @Compare with  income effect. @     $$&$$Substitution rule.    A rule which asserts that if the price of one factor falls while all other factor prices remain   t by sub-stituting the now-cheaper factor for all the other factors. The rule is a corollary of the  least-cost rule.      Supply curve @   or      supply schedule@.    A schedule showing the quantity of a good that suppliers in a given market desire to sell at each price, holding other things equal.     $$&$$Supply shock.    In macroeconomics, a sudden change in production costs or productivity that has a large and unexpected impact upon aggre-gate supply. As a result of a sup-ply shock, real GDP and the price level change unexpectedly.     $$&$$Supply-shock inflation.     ation origi-nating on the supply side of markets from a sharp increase in costs. In the aggregate supply-and-demand framework, cost-push is illustrated as an upward shift of the  AS  curve. Also called   ation.      $$&$$Supply-side economics.    A view emphasizing policy measures to affect aggregate supply or poten-tial output. This approach holds that high marginal tax rates on labor and capital incomes reduce work effort and saving.      T     $$&$$Tangible assets.    Those assets, such as land or capital goods like comput-ers, buildings, and automobiles, that are used to produce further goods and services.     $$&$$Tariff.    A levy or tax imposed upon each unit of a commodity imported into a country.  sam11290_glo.indd   674sam11290_glo.indd   6742/24/09   2:58:33 PM2/24/09   2:58:33 PM  675   $$&$$Tax incidence.    See  incidence.      $$&$$Technological change.    A change in the process of production or an introduction of a new product such that more or improved out-put can be obtained from the same bundle of inputs. It results in an outward shift in the production-possibility curve. Often called  tech-nological progress.      $$&$$Technological progress.    See  techno-logical change.      $$&$$Terms of trade    @in international trade@    .   The “real” terms at which a nation sells its export products and buys its import products. This measure equals the ratio of an index of export prices to an index of import prices.     Theory of income distribution.    A theory explaining the manner in which personal income and wealth are distributed in a society.     $$&$$Time deposit.    Funds, held in a bank, that have a minimum “time of with-drawal”; included in broad money but not in  M  1  because they are not accepted as a means of payment. Similar to  savings deposits.      $$&$$Total cost.    Refer to  cost, total.      $$&$$Total factor productivity.    An index of productivity that measures total output per unit of total input. The numerator of the index is total output @say, $$&$$GDP@. while the denominator is a weighted aver-age of inputs of capital, labor, and resources. The growth of total factor productivity is often taken as an index of the rate of techno-logical progress. Also sometimes called  multifactor productivity.      Total product @   or      output@.    The total amount of a commodity produced, measured in physical units such as bushels of wheat, tons of steel, or number of haircuts.     Total revenue @TR @.    $$&$$Price.times quantity, or total sales.     $$&$$Trade balance    or      merchandise trade balance.    See  balance of trade.      $$&$$Trade barrier.    Any of a number of pro-tectionist devices by which nations discourage imports. $$&$$Tariff. and quotas are the most visible barriers, but in recent years nontariff barriers @or NTBs@, such as burdensome reg-ulatory proceedings, have replaced more traditional measures.     $$&$$Transactions demand for money.    See  demand for money.      Transactions money @  M   1 @.    A mea-sure of the  money supply  which consists of items that are actually for transactions, namely, currency and checking accounts.     $$&$$Transfer payments, government.    Pay-ments made by a government to individuals, for which the individ-ual performs no current service in return. Examples are social secu-rity payments and unemployment insurance.     Treasury bills @T-bills@.    Short-term bonds or securities issued by the federal government.      U     $$&$$Unemployed.    People who are not employed but are actively look-ing for work or waiting to return to work.     $$&$$Unemployment.    @1@ In economic terms,  involuntary unemployment   ed workers who are willing to work at prevailing wages but cannot   cial @U.S.  -nition, a worker is unemployed if he or she @ a @ is not working and @ b @ either is waiting for recall from layoff or has actively looked for work in the last 4 weeks. See also  frictional unemployment  and  structural unemployment.      $$&$$Unemployment.rate.    The percent-age of the labor force that is unemployed.     $$&$$Unit-elastic demand.    The situation, between  price-elastic demand  and  price-inelastic demand,  in which price elasticity is just equal to 1 in absolute value. See also  price elas-ticity of demand.      Unlimited liability.    See  limited liability.      $$&$$Usury.    The charging of an interest rate above a legal maximum on borrowed money.     Utility         @ also  total utility@.    The total satisfaction derived from the con-sumption of goods or services. To be contrasted with  marginal utility,  which is the additional utility aris-ing from consumption of an addi-tional unit of the commodity.      V     $$&$$Value, paradox of.    Refer to  paradox of value.      $$&$$Value added.    The difference between the value of goods produced and the cost of materials and supplies used in producing them. In a $1 loaf of bread embodying $0.60 worth of wheat and other mate-rials, the value added is $0.40. $$&$$Value added.consists of the wages,  t components  rm or industry.     $$&$$Value-added tax @VAT@.    A tax levied  rm as a percentage of its value added.     $$&$$Variable.    A magnitude of interest  ned and measured. Important variables in economics include prices, quantities, interest rates, exchange rates, dollars of wealth, and so forth.     $$&$$$$&$$Variable.cost.    Refer to  cost, variable.      $$&$$Velocity of money.    In serving its func-tion as a medium of exchange, money moves from buyer to seller to new buyer and so on. Its “veloc-ity” refers to the speed of this movement.     $$&$$Vertical equity.    See  horizontal equity vs. vertical equity.      $$&$$Vertical integration.    See  integration, vertical vs. horizontal.      $$&$$Vertical merger.    See  merger.       W     $$&$$Wealth.    The net value of tangible and  nancial items owned by a nation or person at a point in time. It equals all assets less all liabilities.  sam11290_glo.indd   675sam11290_glo.indd   6752/24/09   2:58:33 PM2/24/09   2:58:33 PM676     Z     $$&$$Zero economic profit.    In a perfectly competitive industry in long-run equilibrium, there will be zero   nition pertains to all revenues less all costs, including the implicit costs  rms.     Zero-profit point.    For a business  rm, that level of price at which  rm breaks even, covering all  t.        Welfare economics.    The norma-tive analysis of economic systems, i.e., the study of what is “wrong” or “right” about the economy’s functioning.     Welfare state.    A concept of the mixed economy arising in Europe in the late nineteenth century and introduced in the United States in the 1930s. In the modern concep-tion of the welfare state, markets direct the detailed activities of day-to-day economic life while govern-ments regulate social conditions and provide pensions, health care, and other aspects of the social safety net.     What, how,  and  for whom .   The three fundamental problems of eco-nomic organization.  What  is the problem of how much of each possible good and service will be produced with the society’s lim-ited stock of resources or inputs.  How  is the choice of the particu-lar technique by which each good shall be produced.  For whom  refers to the distribution of consump-tion goods among the members of that society.      Y     $$&$$Yield.    Same as the  interest rate  or  rate of return  on an asset.   sam11290_glo.indd   676sam11290_glo.indd   6762/24/09   2:58:33 PM2/24/09   2:58:33 PM'"
            ]
          },
          "metadata": {},
          "execution_count": 43
        }
      ]
    },
    {
      "cell_type": "code",
      "metadata": {
        "id": "DGYWfOEkOEQ-"
      },
      "source": [
        "terms_li = []\n",
        "texts_li = []\n",
        "ext_str = ''\n",
        "for i in text_cleaned.split('$$&$$'): \n",
        "  for term in all_terms:\n",
        "    cln_term = term.replace('(','@').replace(')','@')\n",
        "    if cln_term in i:\n",
        "      terms_li.append(cln_term.replace('@','').replace('.',''))\n",
        "      texts_li.append(i.replace(cln_term,''))\n",
        "      all_terms.remove(term)\n",
        "      break\n"
      ],
      "execution_count": null,
      "outputs": []
    },
    {
      "cell_type": "code",
      "metadata": {
        "id": "rb2pURc8QB7R"
      },
      "source": [
        "sam_data = pd.DataFrame({'terms':terms_li,'definitions':texts_li})\n",
        "sam_data"
      ],
      "execution_count": null,
      "outputs": []
    },
    {
      "cell_type": "code",
      "metadata": {
        "id": "oaQfcSRqSOjf"
      },
      "source": [
        "sam_data['source'] = 'sam'\n",
        "sam_data['assigned_readibility']=1.0\n",
        "sam_data.to_csv('sam_data.csv', index = False)"
      ],
      "execution_count": null,
      "outputs": []
    },
    {
      "cell_type": "markdown",
      "metadata": {
        "id": "b2whwcctj8Oh"
      },
      "source": [
        "# Zvi"
      ]
    },
    {
      "cell_type": "code",
      "metadata": {
        "id": "tJMsqmvtSonG"
      },
      "source": [
        "soup = BeautifulSoup(open('Glossary_Investments by Zvi Bodie.html'), 'html.parser')\n",
        "all_terms = [i.text.strip() for i in soup.find_all('span', {\"class\": [\"cls_004\"]})]"
      ],
      "execution_count": null,
      "outputs": []
    },
    {
      "cell_type": "code",
      "metadata": {
        "id": "T7lp2lq8RBxM"
      },
      "source": [
        "all_terms = sorted(all_terms, key=len)[::-1]"
      ],
      "execution_count": null,
      "outputs": []
    },
    {
      "cell_type": "code",
      "metadata": {
        "id": "CayWL1Whk128"
      },
      "source": [
        "text_content = open('Glossary_Investments by Zvi Bodie_extracted_text.txt',mode='r').read()"
      ],
      "execution_count": null,
      "outputs": []
    },
    {
      "cell_type": "code",
      "metadata": {
        "id": "A_rKDHPOFJF2"
      },
      "source": [
        "all_terms"
      ],
      "execution_count": null,
      "outputs": []
    },
    {
      "cell_type": "code",
      "metadata": {
        "colab": {
          "base_uri": "https://localhost:8080/"
        },
        "id": "fpMQQhJJJFQB",
        "outputId": "8bcd2e65-8ef8-4295-e7f0-17f438e48308"
      },
      "source": [
        "Counter(all_terms).most_common(10)"
      ],
      "execution_count": null,
      "outputs": [
        {
          "output_type": "execute_result",
          "data": {
            "text/plain": [
              "[('arbitrage pricing theory (APT)', 1),\n",
              " ('abnormal return', 1),\n",
              " ('ask price', 1),\n",
              " ('accounting earnings', 1),\n",
              " ('asset allocation', 1),\n",
              " ('acid test ratio', 1),\n",
              " ('at the money', 1),\n",
              " ('active management', 1),\n",
              " ('auction market', 1),\n",
              " ('average collection period', 1)]"
            ]
          },
          "metadata": {},
          "execution_count": 17
        }
      ]
    },
    {
      "cell_type": "code",
      "metadata": {
        "colab": {
          "base_uri": "https://localhost:8080/"
        },
        "id": "x2PO81AFJLMf",
        "outputId": "7f977982-f5ae-468b-c58c-2d20fa00a0b3"
      },
      "source": [
        "len(all_terms)"
      ],
      "execution_count": null,
      "outputs": [
        {
          "output_type": "execute_result",
          "data": {
            "text/plain": [
              "543"
            ]
          },
          "metadata": {},
          "execution_count": 18
        }
      ]
    },
    {
      "cell_type": "code",
      "metadata": {
        "colab": {
          "base_uri": "https://localhost:8080/"
        },
        "id": "ns0fbn9fFsbb",
        "outputId": "1cc94fe8-b27c-4d96-a1be-05cec3afe2a3"
      },
      "source": [
        "desp_text = ' '.join([i.text.strip() for i in soup.find_all('span', {\"class\": [\"cls_005\"]})])\n",
        "terms_in_desp =[term for term in all_terms if term in desp_text]\n",
        "terms_not_in_desp =[term for term in all_terms if term not in desp_text]\n",
        "len(terms_in_desp), len(terms_not_in_desp)"
      ],
      "execution_count": null,
      "outputs": [
        {
          "output_type": "execute_result",
          "data": {
            "text/plain": [
              "(121, 422)"
            ]
          },
          "metadata": {},
          "execution_count": 63
        }
      ]
    },
    {
      "cell_type": "code",
      "metadata": {
        "id": "REtqhxx2PM8n"
      },
      "source": [
        "terms_in_desp"
      ],
      "execution_count": null,
      "outputs": []
    },
    {
      "cell_type": "code",
      "metadata": {
        "colab": {
          "base_uri": "https://localhost:8080/",
          "height": 138
        },
        "id": "X4ptS9_Zng3h",
        "outputId": "e458844f-74c9-43cf-d30a-1a93d54edf4f"
      },
      "source": [
        "junk_text = ''''''\n",
        "\n",
        "text_cleaned = text_content.replace(junk_text,'').replace('(','@').replace(')','@').replace('Glossary', '').replace('04/19/17  05:45 PM', '').replace('bod77178_glo_G1-G14.indd', '').replace('G-','')\n",
        "for term in all_terms:\n",
        "  #text_cleaned = re.sub(r'\\d+'+term.replace('(','@').replace(')','@'), '$$&$$'+term.replace('(','@').replace(')','@'), text_cleaned)\n",
        "  text_cleaned = re.sub(r'\\n'+term.replace('(','@').replace(')','@')+'\\n', '$$&$$'+term.replace('(','@').replace(')','@'), text_cleaned)\n",
        "text_cleaned = text_cleaned.replace('\\n', '')\n",
        "text_cleaned"
      ],
      "execution_count": null,
      "outputs": [
        {
          "output_type": "execute_result",
          "data": {
            "application/vnd.google.colaboratory.intrinsic+json": {
              "type": "string"
            },
            "text/plain": [
              "' 1 $$&$$arbitrage pricing theory @APT@ An asset pricing theory that is derived from a factor model, using diversification and arbitrage arguments. The theory describes the relationship between expected return and factor exposure that follows from the absence of risk-free arbitrage opportunities.$$&$$ask price The price at which a dealer will sell a security.$$&$$asset allocation Allocating a portfolio across broad asset classes such as stocks versus bonds.$$&$$at the money The option™s exercise price and the price of the underlying asset are equal.$$&$$auction market A market where all traders in an asset meet @either physically or electronically@ at one place to buy and sell.$$&$$average collection period The ratio of accounts receivable to daily sales. Also called days™ receivables.B$$&$$backfill bias Bias in the average returns of a sample of funds induced by including past returns on funds that entered the sample only if they happened to be successful.$$&$$balance sheet An accounting statement of a firm™s  financial position at a specified time.$$&$$bank discount yield An annualized interest rate assuming simple interest, a 360-day year, and using the face value of the security rather than purchase price to compute return per dollar invested.banker™s acceptance An order to a bank by a customer to pay a sum of money at a future date.$$&$$baseline forecasts Forecast of security returns derived from the assumption that the market is in equilibrium where current prices reflect all available information.$$&$$basis The difference between the futures price and the spot price.$$&$$basis risk Risk attributable to uncertain movements in the spread between a futures price and a spot price.$$&$$behavioral finance Models of financial markets that emphasize implications of psychological factors affecting investor behavior.$$&$$benchmark error Use of an inappropriate proxy for the true market portfolio.$$&$$benchmark portfolio Portfolio against which a manager is to be evaluated.$$&$$beta The measure of the systematic risk of a security.  The tendency of a security™s returns to respond to swings  in the broad market.$$&$$bid price The price at which a dealer is willing to purchase a security.A$$&$$abnormal return Return on a stock beyond what would be predicted by market movements alone. Cumulative abnor-mal return @CAR@ is the total abnormal return for the period surrounding an announcement or the release of information.$$&$$accounting earnings Earnings of a firm as reported on its income statement.$$&$$acid test ratio See $$&$$quick ratio.$$&$$active management Attempts to achieve portfolio returns more than commensurate with risk, either by forecasting broad market trends or by identifying mispriced sectors of a market or particular securities.$$&$$active portfolio In the context of the Treynor-Black model, the portfolio formed by mixing analyzed stocks of perceived nonzero alpha values. This portfolio is ultimately mixed with the passive market-index portfolio.$$&$$adjusted alphas Forecasts for alpha that are modulated to account for statistical imprecision in the analyst™s estimate.$$&$$agency problem Conflicts of interest among stockholders, bondholders, and managers.$$&$$algorithmic trading The use of computer programs to make trading decisions.$$&$$alpha transfer A strategy in which you invest in positive alpha positions, hedge the systematic risk of the investment, and finally establish market exposure where you want it using passive indexes. @See $$&$$portable alpha.@$$&$$alpha value The abnormal rate of return on a security in excess of what would be predicted by an equilibrium model like the CAPM.$$&$$American depositary receipts @ADRs@ Domestically traded securities representing claims to shares of foreign stocks.$$&$$American option An American option can be exercised before and up to its expiration date. Compare with a  European option, which can be exercised only on the  expiration date.$$&$$announcement date Date on which particular news con-cerning a given company is announced to the public. Used in event studies, which researchers use to evaluate the eco-nomic impact of events of interest.$$&$$annual percentage rate @APR@ Interest rate is annualized using simple rather than compound interest.$$&$$anomalies Patterns of returns that seem to contradict the efficient market hypothesis.$$&$$appraisal ratio The signal-to-noise ratio of an analyst™s forecasts. The ratio of alpha to residual standard deviation.$$&$$arbitrage A zero-risk, zero-net investment strategy that still generates profits.˜Final PDF to printer˚ 2 C$$&$$calendar spread Buy one option and write another with a different expiration date.$$&$$call option The right to buy an asset at a specified exercise price on or before a specified expiration date.$$&$$call protection An initial period during which a callable bond may not be called.$$&$$callable bond A bond that the issuer may repurchase at a given call price in some specified period.$$&$$capital allocation decision Allocation of invested funds between risk-free assets versus the risky portfolio.$$&$$capital allocation line @CAL@ A graph showing all feasible riskŒreturn combinations of a risky and risk-free asset.$$&$$capital gains The amount by which the sale price of a security exceeds the purchase price.$$&$$capital market line @CML@ The capital allocation line that results when using the market index as the risky portfolio.$$&$$capital markets Includes longer-term, relatively riskier securities.$$&$$cash equivalents Short-term money-market securities.$$&$$cash flow matching A form of immunization, matching cash flows from a bond portfolio with those of an obligation.$$&$$cash ratio Measure of liquidity of a firm. Ratio of cash and marketable securities to current liabilities.$$&$$cash settlement The provision of some futures contracts that requires not delivery of the underlying assets @as in  agricultural futures@ but settlement according to the cash value of the asset.$$&$$cash/bond selection Asset allocation in which the choice is between short-term cash equivalents and longer-term bonds.$$&$$certainty equivalent rate The certain return providing the same utility as a risky portfolio.$$&$$certificate of deposit A bank time deposit.$$&$$clearinghouse Established by exchanges to facilitate transfer of securities resulting from trades. For options and futures contracts, the clearinghouse may interpose itself as a middleman between two traders.$$&$$closed-end @mutual@ fund A fund whose shares are traded through brokers at market prices; the fund will not redeem shares at their net asset value. The market price of the fund can differ from the net asset value.$$&$$collar An options strategy that brackets the value of a port-folio between two bounds.$$&$$collateral A specific asset pledged against possible default on a bond. Mortgage bonds are backed by claims on prop-erty. Collateral trust bonds are backed by claims on other securities. Equipment obligation bonds are backed by claims on equipment.$$&$$collateralized debt obligation @CDO@ A pool of loans sliced into several tranches with different levels of credit risk.bidŒask spread The difference between a dealer™s bid and ask price.$$&$$binomial model An option-valuation model predicated  on the assumption that stock prices can move to only two values over any short time period.$$&$$Black-Scholes pricing formula An equation to value an option that uses the stock price, the exercise price, the  risk-free interest rate, the time to maturity, and the standard deviation of the stock return.$$&$$blocks A transaction of more than 10,000 shares of stock. Also referred to as a block sale.$$&$$bogey The return an investment manager is compared to for performance evaluation.$$&$$bond A security issued by a borrower that obligates the issuer to make specified payments to the holder over a  specific period. A coupon bond obligates the issuer to make interest payments called coupon payments over the life of the bond, then to repay the $$&$$face value at maturity.$$&$$bond equivalent yield Bond yield calculated on an annual percentage rate method. Differs from effective annual yield.$$&$$bond indenture The contract between the issuer and the bondholder.$$&$$bond reconstitution Combining zero-coupon stripped securities to re-create the original cash flows of a coupon bond.$$&$$bond stripping Selling bond cash flows @either coupon or principal payments@ as stand-alone zero-coupon securities.$$&$$book value The net worth of common equity according to a firm™s balance sheet.$$&$$book-to-market effect The tendency for stocks of firms with high ratios of book-to-market value to generate abnor-mal returns.$$&$$breadth The extent to which movements in the broad  market index are reflected widely in movements of indi-vidual stock prices.$$&$$brokered market A market where an intermediary  @a broker@ offers search services to buyers and sellers.$$&$$budget deficit The amount by which government spending exceeds government revenues.$$&$$bull CD, bear CD A bull CD pays its holder a specified percentage of the increase in return on a specified market index while guaranteeing a minimum rate of return.  A bear CD pays the holder a fraction of any fall in a  given market index.$$&$$bullish, bearish Words used to describe investor attitudes. Bullish means optimistic; bearish means pessimistic. Also used in bull market and bear market.$$&$$bundling, unbundling Creation of securities either by com-bining primitive and derivative securities into one composite hybrid or by separating returns on an asset into classes or tranches.$$&$$business cycle Repetitive cycles of recession and recovery.Final PDF to printer˛ 3 $$&$$cost-of-carry relationship See spot-futures parity theorem.$$&$$country selection Asset allocation in which the investor chooses among investments in different countries.$$&$$coupon rate A bond™s interest payments per dollar of  par value.$$&$$covariance A measure of the degree to which returns on two risky assets move in tandem. A positive covariance means that asset returns move together. A negative  covariance means they vary inversely.$$&$$covered call A combination of selling a call option together with buying the underlying asset.$$&$$covered interest arbitrage relationship See $$&$$interest rate parity relationship.$$&$$credit default swap @CDS@ An insurance policy on the credit risk of a corporate bond or loan.$$&$$credit enhancement Purchase of the financial guarantee of another party to reduce the credit risk of a bond or loan.$$&$$credit risk The risk that the bond will not make all of its promised payments; default risk.$$&$$cross-hedge Hedging a position in one asset using futures contracts on another commodity.$$&$$cumulative abnormal return @CAR@ See abnormal return.$$&$$currency selection Asset allocation in which the investor chooses among investments denominated in different currencies.$$&$$current ratio Current assets/current liabilities. Measures the ability of the firm to pay off its current liabilities by  liquidating current assets.$$&$$current yield A bond™s annual coupon payment divided  by its price. Differs from yield to maturity.$$&$$cyclical industries Industries with above-average sensitiv-ity to the state of the economy.D$$&$$dark pools Electronic trading networks where participants can anonymously buy or sell large blocks of securities.$$&$$data mining Sorting through large amounts of historical data to uncover systematic patterns that can be used as the basis of a trading strategy.$$&$$day order A buy order or a sell order expiring at the close of the trading day.days™ receivables See $$&$$average collection period.$$&$$dealer market A market where traders specializing in  particular assets buy and sell assets for their own accounts.$$&$$debenture bond A bond not backed by specific collateral. Also called anunsecured bond.$$&$$debt securities Bonds; also called fixed-income securities.$$&$$dedication strategy Multiperiod cash flow matching.$$&$$default premium A differential in promised yield that  compensates the investor for the risk inherent in purchasing a corporate bond that entails some risk of default.$$&$$collateralized mortgage obligation @CMO@ A mortgage pass-through security that partitions cash flows from  underlying mortgages into classes called tranches that receive principal payments according to stipulated rules.$$&$$commercial paper Short-term unsecured debt issued by large corporations.$$&$$common stock Equities, or equity securities, issued as ownership shares in a publicly held corporation. Sharehold-ers have voting rights and may receive dividends based on their proportionate ownership.$$&$$comparison universe The set of money managers employ-ing similar investment styles, used for assessing the relative performance of a portfolio manager.$$&$$complete portfolio The entire portfolio, including risky and risk-free assets.$$&$$conditional tail expectation @CTE@ Expectation of a random variable conditional on its falling below some threshold value. Often used as a measure of downside risk.$$&$$confidence index Ratio of the yield on top-rated corporate bonds to the yield on intermediate-grade bonds.$$&$$conservativism Notion that investors are too slow to update their beliefs in response to new evidence.$$&$$constant-growth DDM A special case of the dividend discount model that assumes dividends will grow at a  constant rate.$$&$$contango theory Holds that the futures price must exceed the expected future spot price.$$&$$contingent claim See $$&$$derivative asset.$$&$$contingent immunization A mixed passive-active strat-egy that immunizes a portfolio if necessary to guarantee a minimum acceptable return but otherwise allows active management.$$&$$convergence arbitrage A bet that two or more prices are out of alignment and that profits can be made when the prices converge back to proper relationship.$$&$$convergence property The convergence of futures prices and spot prices at the maturity of the futures contract.$$&$$convertible bond A bond with an option allowing the bondholder to exchange the bond for a specified number of shares of common stock in the firm. The conversion ratio specifies the number of shares. The conversion price is the current value of the shares for which the bond may be exchanged. The conversion premium is the excess of the bond™s value over the conversion price.$$&$$convexity The curvature of the price-yield relationship of a bond.$$&$$corporate bonds Long-term debt issued by private  corporations typically paying semiannual coupons and returning the face value of the bond at maturity.$$&$$correlation coefficient A statistic in which the covariance is scaled to a value between ˜1 @perfect negative correla-tion@ and +1 @perfect positive correlation@.Final PDF to printer˝ 4 $$&$$defensive industries Industries with below-average  sensitivity to the state of the economy.$$&$$deferred annuities Tax-advantaged life insurance product. Deferred annuities offer deferral of taxes with the option of withdrawing one™s funds in the form of a life annuity.$$&$$defined benefit plans Pension plans in which retirement benefits are set according to a fixed formula.$$&$$defined contribution plans Pension plans in which the employer is committed to making contributions according to a fixed formula.$$&$$degree of operating leverage @DOL@ Percentage change in profits for a 1% change in sales.$$&$$delta @of option@ The number of stocks required to hedge against the price risk of writing one option. Also called the hedge ratio.$$&$$delta neutral The value of the options portfolio is not affected by changes in the value of the underlying asset.$$&$$demand shock An event that affects the demand for goods and services in the economy.$$&$$derivative asset Claim whose value is directly dependent on or is contingent on the value of some underlying assets.$$&$$derivative security A security whose payoff depends on the value of other financial variables such as stock prices, interest rates, or exchange rates.$$&$$direct search market Buyers and sellers seek each other directly and transact directly.$$&$$directional strategy Speculation that one sector or another will outperform other sectors of the market.$$&$$discount bond A bond selling below par value.$$&$$discretionary account An account of a customer who gives a broker the authority to make buy and sell decisions on the customer™s behalf.$$&$$disposition effect The tendency of investors to hold on to losing investments.$$&$$diversifiable risk Nonmarket or firm-specific risk factors that can be eliminated by diversification. Also called unique risk, firm-specific risk, or $$&$$nonsystematic risk. Nondiversifi-able risk refers to systematic or market risk.$$&$$diversification Spreading a portfolio over many invest-ments to avoid excessive exposure to any one source of risk.$$&$$dividend discount model @DDM@ A formula stating that the intrinsic value of a firm is the present value of all expected future dividends.$$&$$dividend payout ratio Percentage of earnings paid out as dividends.$$&$$dividend yield The annual dividend payment expressed as a percent of the stock price.$$&$$dollar-weighted rate of return The internal rate of return on an investment.$$&$$doubling option A sinking fund provision that may allow repurchase of twice the required number of bonds at the sinking fund call price.$$&$$DuPont system Decomposition of a firm™s profitability measures into component ratios.$$&$$duration A measure of the average life of a bond, defined as the weighted average of the times until each payment is made, with weights proportional to the present value of the payment.$$&$$dynamic hedging Constant updating of hedge positions as market conditions change.E$$&$$EAFE index The Europe, Australasia, Far East index, computed by Morgan Stanley, is a widely used index of non-U.S. stocks.$$&$$earnings management The practice of using flexibility in accounting rules to manipulate the apparent profitability of the firm.$$&$$earnings retention ratio The proportion of the firm™s  earnings reinvested in the business @and therefore not paid out as dividends@. Equals 1 minus the dividend payout ratio. Synonym for plowback ratio.$$&$$earnings yield The ratio of earnings to price, E/P.$$&$$economic earnings The real flow of cash that a firm could pay out without impairing its productive capacity.$$&$$economic value added @EVA@ The spread between ROA and cost of capital multiplied by the capital invested in the firm. It measures the dollar value of the firm™s return in excess of its opportunity cost.$$&$$effective annual rate @EAR@ Interest rate annualized using compound rather than simple interest.$$&$$effective annual yield Annualized interest rate on a  security computed using compound interest techniques.$$&$$effective duration Percentage change in bond price per change in the level of market interest rates.$$&$$efficient diversification The organizing principle of  modern portfolio theory, which describes how investors  can devise the best possible risk-return trade-off.$$&$$efficient frontier Graph representing a set of portfolios that maximize expected return at each level of portfolio risk.$$&$$efficient frontier of risky assets The portion of the mini-mum-variance frontier that lies above the global minimum-variance portfolio.$$&$$efficient market hypothesis @EMH@ The prices of securi-ties fully reflect available information. Investors buying securities in an efficient market should expect to obtain an equilibrium rate of return. Weak-form EMH asserts that stock prices already reflect all information contained in the history of past prices. The semistrong-form hypothesis asserts that stock prices already reflect all publicly available information. The strong-form hypothesis asserts that stock prices reflect all relevant information, including insider information.$$&$$elasticity @of an option@ Percentage change in the value of an option accompanying a 1% change in the value of a stock.$$&$$electronic communication network @ECN@ A computer-operated trading network for trading securities. Some ECNs are registered as formal stock exchanges, and others are  considered part of the over-the-counter market.$$&$$endowment funds Organizations chartered to invest money for specific purposes.Final PDF to printer˙ 5 $$&$$equity Ownership share in a firm.$$&$$equivalent taxable yield The pretax yield on a taxable bond providing an after-tax yield equal to the rate on a  tax-exempt municipal bond.$$&$$Eurodollars Dollar-denominated deposits at foreign banks or foreign branches of American banks.$$&$$Europe, Australasia, Far East @EAFE@ index A widely used index of non-U.S. stocks computed by MSCI.$$&$$European option A European option can be exercised only on the expiration date. Compare with an American option, which also can be exercised before its expiration date.$$&$$event study Research methodology designed to measure the impact of an event of interest on stock returns.$$&$$event tree Depicts all possible sequences of events.$$&$$excess return Rate of return in excess of the risk-free rate.$$&$$exchange rate Price of a unit of one country™s currency in terms of another country™s currency.$$&$$exchange rate risk The uncertainty in dollar-denominated asset returns due to movements in the exchange rates between the dollar and foreign currencies.$$&$$exchange-traded funds @ETFs@ Variants of mutual funds that allow investors to trade portfolios of securities just as they do shares of stock.$$&$$exchanges National or regional auction markets providing a facility for members to trade securities.$$&$$exercise @or strike@ price Price set for calling @buying@ an asset or putting @selling@ an asset.$$&$$expectations hypothesis @of interest rates@ Theory that  forward interest rates are unbiased estimates of expected future interest rates.$$&$$expected return The probability-weighted average of the possible outcomes.expected returnŒbeta @or mean-beta@ relationship  Implication of the CAPM that security risk premiums @expected excess returns@ will be proportional to beta.$$&$$expected shortfall @ES@ The expected loss on a security conditional on returns being in the left tail of the probability distribution.F$$&$$face value The maturity value of a bond. See par value of $$&$$bond.$$&$$factor beta Sensitivity of security returns to the realization of a systematic factor. Also called $$&$$factor loading and factor sensitivity.$$&$$factor loading See $$&$$factor beta.$$&$$factor model A way of decomposing the factors that  influence a security™s rate of return into common  @systematic@ and firm-specific influences.$$&$$factor portfolio A well-diversified portfolio constructed to have a beta of 1.0 on one factor and a beta of 0 on any other factor.$$&$$factor sensitivity See $$&$$factor beta.$$&$$fair game An investment prospect that has a zero risk premium.$$&$$fair value accounting Use of current values rather than  historic cost in the firm™s financial statements.$$&$$federal funds Funds in a bank™s reserve account at the Federal Reserve Bank.$$&$$FIFO The first-in first-out accounting method of inventory valuation.$$&$$financial assets Financial assets such as stocks and bonds are claims to the income generated by real assets or claims on income from the government.$$&$$financial engineering Creating and designing securities with custom-tailored characteristics.$$&$$financial intermediary Institutions that ﬁconnectﬂ borrow-ers and lenders by accepting funds from lenders and loaning funds to borrowers.$$&$$firm-specific risk Nonmarket or firm-specific risk factors that can be eliminated by diversification. Also called unique risk, $$&$$nonsystematic risk, or $$&$$diversifiable risk.$$&$$first-pass regression A time series regression to estimate the betas of securities or portfolios.$$&$$fiscal policy The use of government spending and taxation for the specific purpose of stabilizing the economy.$$&$$fixed annuities Annuity contracts in which the insurance company pays a fixed dollar amount of money per period.$$&$$fixed-charge coverage ratio Ratio of earnings to all fixed cash obligations, including lease payments and sinking fund payments.$$&$$fixed-income security A security such as a bond that pays a specified cash flow over a specific period.$$&$$flight to quality Describes the tendency of investors to require larger default premiums on investments under  worsening economic conditions.$$&$$floating-rate bond A bond whose interest rate is reset  periodically according to a specified market rate.$$&$$forced conversion Use of a firm™s call option on a callable convertible bond when the firm knows that bondholders will exercise their option to convert.$$&$$forecasting record The historical record of the forecasting errors of a security analyst.$$&$$foreign exchange market An informal network of  banks and brokers that allows customers to enter forward contracts to purchase or sell currencies in the future at a rate of exchange agreed upon now.$$&$$foreign exchange swap An agreement to exchange  stipulated amounts of one currency for another at one or more future dates.$$&$$forward contract An agreement calling for future delivery of an asset at an agreed-upon price.$$&$$forward interest rate Rate of interest for a future period that would equate the total return of a long-term bond with that of a strategy of rolling over shorter-term bonds.$$&$$framing Decisions are affected by how choices are described, for example, whether uncertainty is posed as Final PDF to printerˆ 6 potential gains from a low baseline level, or as losses from a higher baseline value.$$&$$fully diluted earnings per share Earnings per share expressed as if all outstanding convertible securities and warrants have been exercised.$$&$$fundamental analysis Assessment of firm value that focuses on such determinants as earnings and dividends prospects, expectations for future interest rates, and risk evaluation.$$&$$fundamental risk Risk that even if an asset is mispriced, there is still no arbitrage opportunity, because the mispric-ing can widen before price eventually converges to intrinsic value.$$&$$funds of funds Investment funds that invest in other funds rather than investing directly in securities such as stocks or bonds.$$&$$futures contract Obliges traders to purchase or sell an asset at an agreed-upon price on a specified future date.  The $$&$$long position is held by the trader who commits to  purchase. The $$&$$short position is held by the trader who  commits to sell. Futures differ from forward contracts in their standardization, exchange trading, margin require-ments, and daily settling @marking to market@.$$&$$futures option The right to enter a specified futures con-tract at a futures price equal to the stipulated exercise price.$$&$$futures price The price at which a futures trader commits to make or take delivery of the underlying asset.G$$&$$gamma The curvature of an option pricing function @as a function of the value of the underlying asset@.$$&$$geometric average The nth root of the product of n  numbers. It is used to measure the compound rate of return over a given sample period.$$&$$globalization Tendency toward a worldwide investment environment, and the integration of national capital markets.$$&$$gross domestic product @GDP@ The market value of goods and services produced in an economy during a particular time period.H$$&$$hedge fund A private investment pool, open to institu-tional or wealthy investors, that is largely exempt from  SEC regulation and can pursue more speculative policies than mutual funds.$$&$$hedge ratio @for futures@ The number of contracts neces-sary to hedge a particular source of risk.$$&$$hedge ratio @of an option@ The shares of stocks required to hedge against the price risk of writing one option. Also called the option™s delta.$$&$$hedging Investing in an asset or derivative security to  offset a specific source of risk.$$&$$hedging demands Demands for securities to hedge par-ticular sources of consumption risk, beyond the usual mean variance diversification motivation.$$&$$high water mark The previous value of a portfolio that must be reattained before a hedge fund can charge incentive fees.$$&$$high-frequency trading A subset of algorithmic trading that relies on computer programs to make rapid trading decisions.$$&$$holding-period return The rate of return over a given period.$$&$$home bias The tendency of investors to allocate a greater share of their portfolios to domestic securities than would be the case under neutral diversification.$$&$$homogenous expectations The assumption that all inves-tors agree on the probability distribution of future returns,  so they all use the same input list.$$&$$horizon analysis Forecasting the realized compound yield over various holding periods or investment horizons.I$$&$$illiquidity Difficulty, cost, and/or delay in selling an asset on short notice without offering substantial price concessions.$$&$$illiquidity cost Costs due to imperfect liquidity of some security.$$&$$illiquidity premium Extra expected return as compensation for limited liquidity.$$&$$immunization A strategy that matches durations of assets and liabilities so as to make net worth unaffected by interest rate movements.$$&$$implied volatility The standard deviation of stock returns that is consistent with an option™s market value.$$&$$in the money In the money describes an option whose exercise would produce a positive cash flow. Out of the money describes an option where exercise would result in a negative cash flow.$$&$$incentive fee A fee charged by hedge funds equal to a share of any investment returns beyond a stipulated bench-mark performance.$$&$$income beneficiary One who receives income from a trust.$$&$$income statement A financial statement showing a firm™s revenues and expenses during a specified period.$$&$$indenture The document defining the contract between the bond issuer and the bondholder.$$&$$index arbitrage An investment strategy that exploits diver-gences between actual futures prices and their theoretically correct parity values to make a profit.$$&$$index fund A mutual fund holding shares in proportion to their representation in a market index such as the S&P 500.$$&$$index model A model of stock returns using a market index such as the S&P 500 to represent common or system-atic risk factors.Final PDF to printerˇ 7 $$&$$index option A call or put option based on a stock market index.$$&$$indifference curve A curve connecting all portfolios with the same utility according to their means and standard deviations.$$&$$industry life cycle Stages through which firms typically pass as they mature.$$&$$inflation The rate at which the general level of prices for goods and services is rising.$$&$$information ratio Ratio of alpha to the standard deviation of diversifiable risk.$$&$$initial public offering @IPO@ Stock issued to the public for the first time by a formerly privately owned company.$$&$$input list List of parameters such as expected returns,  variances, and covariances necessary to determine the  optimal risky portfolio.$$&$$inside information Nonpublic knowledge about a cor-poration possessed by corporate officers, major owners, or other individuals with privileged access to information about a firm.$$&$$insider trading Trading by officers, directors, major stockholders, or others who hold private inside information allowing them to benefit from buying or selling stock.$$&$$insurance principle The law of averages. The average outcome for many independent trials of an experiment will approach the expected value of the experiment.$$&$$interest coverage ratio Measure of financial leverage. Earnings before interest and taxes as a multiple of interest expense.$$&$$interest rate The number of dollars earned per dollar invested per period.$$&$$interest rate parity relationship @theorem@ The rela-tion between spot and forward exchange rates and for-eign and domestic interest rates that rules out arbitrage opportunities.$$&$$interest rate swaps Contracts between two parties to trade cash flows corresponding to different interest rates.$$&$$intermarket spread swap Switching from one segment of the bond market to another @from Treasuries to corporates, for example@.$$&$$international financial reporting standards @IFRS@  Accounting standards used in many non-U.S. markets; compared to U.S. accounting standards, IFRS rely more on principles and less on rules.$$&$$intrinsic value @of a firm@ The present value of a firm™s expected future net cash flows discounted by the required rate of return.$$&$$intrinsic value @of a share@ The present value of expected future cash flows the firm will provide shareholders on a per share basis.$$&$$intrinsic value @of an option@ The value the option would have if it were about to expire.$$&$$inventory turnover ratio Cost of goods sold as a multiple of average inventory.$$&$$investment Commitment of current resources in the expectation of deriving greater resources in the future.$$&$$investment bankers Firms specializing in the sale of new securities to the public, typically by underwriting the issue.$$&$$investment company Financial intermediaries that pool and invest the funds of individual investors in securities or other assets.$$&$$investment horizon Time horizon for purposes of invest-ment decisions.$$&$$investment portfolio Set of securities chosen by an investor.$$&$$investment-grade bond Bond rated BBB and above or  Baa and above. Lower-rated bonds are classified as  speculative-grade or junk bonds.$$&$$issued shares Shares that have been issued by the company.JJensen™s alpha The alpha of an investment.$$&$$junk bond A bond rated Ba or lower by Moody™s or  BB or lower by Standard & Poor™s, or an unrated bond.  Also called a speculative-grade bond.K$$&$$kurtosis Measure of the fatness of the tails of a probability distribution. Indicates probability of observing extreme high or low values.L$$&$$latency The time it takes to accept, process, and deliver a trading order.$$&$$Law of One Price The rule stipulating that equivalent securities or bundles of securities must sell at equal prices to preclude arbitrage opportunities.$$&$$leading economic indicators Economic series that tend to rise or fall in advance of the rest of the economy.$$&$$leverage ratio Ratio of debt to total capitalization of a firm.$$&$$LIFO The last-in first-out accounting method of valuing inventories.$$&$$limit order An order specifying a price at which an investor is willing to buy or sell a security.$$&$$limited liability The fact that shareholders have no personal liability to the creditors of the corporation in the event of bankruptcy.$$&$$liquidation value Net amount that could be realized by selling the assets of a firm after paying the debt.$$&$$liquidity The speed and ease with which an asset can be converted to cash.$$&$$liquidity preference theory Theory that investors demand a risk premium on long-term bonds. Implies that the forward rate generally will exceed the expected future interest rate.Final PDF to printer˘ 8 $$&$$liquidity premium Forward rate minus expected future short interest rate.$$&$$load Sales charge on the purchase of some mutual funds.$$&$$load fund A mutual fund with a sales commission, or load.$$&$$lock-up period Period in which investors cannot redeem investments in the hedge fund.$$&$$log-normal distribution The probability distribution that characterizes a variable whose log has a normal @bell-shaped@ distribution.$$&$$London Interbank Offered Rate @LIBOR@ Lending rate among banks in the London market.$$&$$long position The futures trader who commits to purchas-ing the underlying asset.$$&$$long position hedge Hedging the future cost of a purchase by taking a long futures position to protect against changes in the price of the asset.$$&$$lower partial standard deviation @LPSD@ Standard deviation computed using only the portion of the return distribution below a threshold such as the risk-free rate or the sample average.MMacaulay™s duration Effective maturity of bond,  equal to weighted average of the times until each payment, with weights proportional to the present value of  the payment.$$&$$maintenance, or variation, margin An established value below which a trader™s margin may not fall. Reaching the maintenance margin triggers a margin call.$$&$$margin Describes securities purchased with money  borrowed from a broker. Current maximum allowed  margin is 50%.$$&$$mark-to-market accounting See fair value accounting.$$&$$market capitalization rate The market-consensus estimate of the appropriate discount rate for a firm™s cash flows.$$&$$market model Another version of the index model that breaks down return uncertainty into systematic and  nonsystematic components.$$&$$market order A buy or sell order to be executed immedi-ately at current market prices.$$&$$market portfolio The portfolio encompassing all assets in which each asset is held in proportion to its market value.$$&$$market price of risk A measure of the extra return, or risk premium, that investors demand to bear risk. The ratio of the risk premium of the market portfolio to the variance of its return.$$&$$market risk Risk factors common to the whole economy; also called systematic or $$&$$nondiversifiable risk.$$&$$market segmentation The theory that long- and short-maturity bonds are traded in essentially distinct or seg-mented markets and that prices in one market do not affect those in the other.$$&$$market timer An investor who speculates on broad market moves rather than on specific securities.$$&$$market timing Asset allocation in which the investment in the market is increased if one forecasts that the market will outperform T-bills.$$&$$market-neutral bet A strategy designed to exploit relative mispricing within a market but which is hedged to avoid  taking a stance on the direction of the broad market.$$&$$market-value-weighted index An index of the value of a portfolio of securities computed by calculating a weighted average of the returns of each security in the portfolio, with weights proportional to outstanding market value.marketŒbook-value @P/B@ ratio Ratio of price per share to book value per share.$$&$$marking to market Describes the daily settlement of  obligations on futures positions.$$&$$mean-variance @M-V@ criterion The selection of portfolios based on the means and variances of their returns. The choice of the highest expected return portfolio for a given level of variance or the lowest variance portfolio for a given expected return.$$&$$mean-variance analysis Evaluation of risky prospects based on the expected value and variance of possible outcomes.$$&$$mental accounting Individuals mentally segregate assets into independent accounts rather than viewing them as part of a unified portfolio.$$&$$minimum-variance frontier Graph of the lowest possible portfolio standard deviation corresponding to each value of portfolio expected return.$$&$$minimum-variance portfolio The portfolio of risky assets with lowest possible variance.$$&$$modern portfolio theory @MPT@ Principles underlying analysis and evaluation of rational portfolio choices based on riskŒreturn trade-offs and efficient diversification.$$&$$modified duration Macaulay™s duration divided by 1 + yield to maturity. Measures interest rate sensitivity of bonds.$$&$$momentum effect The tendency of poorly performing stocks and well-performing stocks in one period to continue that abnormal performance in following periods.$$&$$monetary policy Actions taken by the Board of Governors of the Federal Reserve System to influence the money sup-ply or interest rates.$$&$$money market Includes short-term, highly liquid, and  relatively low-risk debt instruments.$$&$$mortality tables Tables of probability that individuals of various ages will die within a year.$$&$$mortgage-backed security Ownership claim in a pool of mortgages or an obligation that is secured by such a pool. Also called a pass-through,because payments are passed along from the mortgage originator to the purchaser of the mortgage-backed security.$$&$$multifactor CAPM Generalization of the basic CAPM that accounts for extra-market hedging demands.Final PDF to printer 9 $$&$$multifactor model Model of security returns positing that returns respond to several systematic risk factors as well as firm-specific influences.$$&$$municipal bonds Tax-exempt bonds issued by state and local governments. General obligation bonds are backed by the general taxing power of the issuer. Revenue bonds are backed by the proceeds from the project or agency they are issued to finance.$$&$$mutual fund An investment company pooling and manag-ing funds of investors.$$&$$mutual fund theorem A result associated with the CAPM, asserting that investors will choose to invest their entire risky portfolio in a market-index mutual fund.N$$&$$NAICS codes North American Industrial Classifica-tion System codes that use numerical values to identify industries.$$&$$naked option writing Writing an option without an offset-ting stock position.$$&$$NASDAQ Stock Market The computer-linked price quo-tation and trade execution system on which thousands of securities trade.$$&$$neglected-firm effect That investments in stock of less well-known firms have generated abnormal returns.$$&$$net asset value @NAV@ Assets minus liabilities expressed on a per-share basis.$$&$$nominal interest rate The interest rate in terms of nominal @not adjusted for purchasing power@ dollars.$$&$$nondirectional strategy A position designed to exploit temporary misalignments in relative pricing. Typically involves a long position in one security hedged with a short position in a related security.$$&$$nondiversifiable risk Risk factors common to the whole economy; also called $$&$$market risk or $$&$$systematic risk.$$&$$nonsystematic risk Nonmarket or firm-specific risk factors that can be eliminated by diversification. Also called unique risk, $$&$$firm-specific risk, or $$&$$diversifiable risk. Systematic risk refers to risk factors common to the entire economy.$$&$$normal distribution Bell-shaped probability distribution that characterizes many natural phenomena.$$&$$notional principal Principal amount used to calculate swap payments.O$$&$$on the run Recently issued bond, selling at or near par value.$$&$$on-the-run yield curve Relationship between yield to  maturity and time to maturity for newly issued bonds selling at or near par value.$$&$$open interest The number of futures contracts outstanding.$$&$$open-end @mutual@ fund A fund that issues or redeems its own shares at net asset value @NAV@.$$&$$optimal risky portfolio An investor™s best combination of risky assets; the combination that maximizes the Sharpe ratio.$$&$$option elasticity The percentage increase in an option™s value given a 1% change in the value of the underlying security.$$&$$original issue discount bond A bond issued with a low coupon rate that sells at a discount from par value.$$&$$out of the money Out of the money describes an option where exercise would result in a negative cash flow. Out-of-the-money options are therefore never exercised.$$&$$outstanding shares Shares that have been issued by the company and are held by investors.$$&$$over-the-counter @OTC@ market An informal network of brokers and dealers where securities can be traded @not a formal exchange@.P$$&$$P/E effect That low P/E stocks have exhibited higher aver-age risk-adjusted returns than high P/E stocks.$$&$$pairs trading A form of statistical arbitrage in which stocks are paired up based on underlying similarities and long/short positions are established to exploit any relative mispricing between each pair.$$&$$par value The face value of the bond. The payment to the bondholder on the bond™s maturity date.$$&$$pass-through security Pools of loans @such as home  mortgage loans@ sold in one package. Owners of pass-throughs receive all principal and interest payments made by the borrowers.$$&$$passive investment strategy Investing in a well-diversified portfolio or market index without attempting to search out mispriced securities.$$&$$passive management Buying a well-diversified portfolio, often a broad-based market index, without attempting to identify mispriced securities.$$&$$passive market-index portfolio A market-index portfolio that can be formed without conducting security analysis.$$&$$passive strategy A portfolio decision that avoids any direct or indirect security analysis. See $$&$$passive management.$$&$$peak The transition from the end of an expansion to the start of a contraction.$$&$$personal trust An interest in an asset held by a trustee for the benefit of another person.$$&$$plowback ratio The proportion of the firm™s earnings reinvested in the business @and therefore not paid out as dividends@. The plowback ratio equals 1 minus the dividend payout ratio.$$&$$political risk Possibility of the expropriation of assets, changes in tax policy, restrictions on the exchange of foreign currency for domestic currency, or other changes in the  business climate of a country.Final PDF to printer 10 $$&$$portable alpha A strategy in which you invest in positive alpha positions, then hedge the systematic risk of that invest-ment, and, finally, establish market exposure where you want it by using passive indexes.$$&$$portfolio insurance The practice of using options or dynamic hedge strategies to provide protection against investment losses while maintaining upside potential.$$&$$portfolio management Process of combining securities in a portfolio tailored to the investor™s preferences and needs, monitoring that portfolio, and evaluating its performance.$$&$$portfolio opportunity set The expected returnŒstandard deviation pairs of all portfolios that can be constructed from a given set of assets.$$&$$posterior distribution Probability distribution for a variable after adjustment for empirical evidence on its likely value.$$&$$preferred habitat theory Holds that investors prefer  specific maturity ranges but can be induced to switch if  risk premiums are sufficient.$$&$$preferred stock Nonvoting shares in a corporation, paying a fixed or variable stream of dividends.$$&$$premium @options@ The purchase price of an option.$$&$$premium bond A bond selling above par value.$$&$$present value of growth opportunities @PVGO@ Net present value of a firm™s future investments.$$&$$price value of a basis point The change in the value of a fixed-income portfolio resulting from a 1 basis point change in the yield to maturity.$$&$$price-weighted average Weighted average with weights proportional to security prices rather than total capitalization.priceŒearnings @P/E@ ratio The ratio of a stock™s price to its earnings per share. Also referred to as the P/E multiple.priceŒearnings multiple Price per share divided by earn-ings per share.$$&$$primary market The market in which new issues of  securities are offered to the public.$$&$$primitive security, derivative security A primitive secu-rity is an instrument such as a stock or bond for which cash flows depend only on the financial status of its issuer. A $$&$$derivative security is created from the set of primitive securities to yield returns that depend on factors beyond the characteristics of the issuer and that may be related to prices of other assets.$$&$$principal The outstanding balance on a loan.$$&$$prior distribution Probability distribution for a variable before adjusting for empirical evidence on its likely value.$$&$$private equity Investments in companies whose shares are not publicly traded in a stock market.$$&$$private placement Primary offering in which shares are sold directly to a small group of institutional or wealthy investors.$$&$$profit margin Operating profits per dollar of sales; also called return on sales.$$&$$program trading Coordinated buy orders and sell orders of entire portfolios, usually with the aid of computers, often to achieve index arbitrage objectives.$$&$$prospect theory Behavioral @as opposed to rational@ model of investor utility. Investor utility depends on changes in wealth rather than levels of wealth.$$&$$prospectus A description of the firm and the security it is issuing.$$&$$protective covenant A provision specifying requirements of collateral, sinking fund, dividend policy, etc., designed to protect the interests of bondholders.$$&$$protective put Purchase of an asset combined with a put option on that asset to guarantee proceeds at least equal to the put™s exercise price.$$&$$proxy An instrument empowering an agent to vote in the name of the shareholder.$$&$$prudent investor rule An investment manager must act in accord with the actions of a hypothetical prudent investor.$$&$$public offering, private placement A public offering  consists of securities sold in the primary market to the  general public; a $$&$$private placement is sold directly to a  limited number of institutional investors.$$&$$pure plays Bets on particular mispricing across two or more securities, with extraneous sources of risk such as  general market exposure hedged away.$$&$$pure yield curve The relationship between yield to  maturity and time to maturity for zero-coupon bonds.$$&$$pure yield pickup swap Moving to higher-yield, longer-term bonds to capture the liquidity premium.$$&$$put bond A bond that the holder may choose either to exchange for par value at some date or to extend for a given number of years.$$&$$put option The right to sell an asset at a specified exercise price on or before a specified expiration date.$$&$$put-call parity theorem An equation representing the proper relation between put and call prices. Violation of  parity implies the existence of arbitrage opportunities.$$&$$put/call ratio Ratio of put options to call options outstand-ing on a stock.Q$$&$$quality of earnings The realism and conservatism of the earnings number and the extent to which we might expect the reported level of earnings to be sustained.$$&$$quick ratio A measure of liquidity similar to the current ratio except for exclusion of inventories. It equals cash plus receivables divided by current liabilities.R$$&$$random walk Describes the notion that stock price changes are random and unpredictable.Final PDF to printer˜˜ 11 $$&$$rate anticipation swap A switch made between bonds of different durations in response to forecasts of interest rates.$$&$$real assets Assets used to produce goods and services such as land, buildings, and equipment.$$&$$real interest rate The excess of the interest rate over the inflation rate. The growth rate of purchasing power derived from an investment.$$&$$realized compound return Compound rate of return assuming that coupon payments are reinvested until maturity.$$&$$rebalancing Realigning the proportions of assets in a  portfolio as needed.$$&$$registered bond A bond whose issuer records ownership and interest payments. Differs from a bearer bond, which is traded without record of ownership and whose possession is its only evidence of ownership.$$&$$regression equation An equation that describes the aver-age relationship between a dependent variable and one or more explanatory variables.$$&$$regret avoidance Notion from behavioral finance that individuals who make decisions that turn out badly will have more regret when that decision was more unconventional.$$&$$reinvestment rate risk The uncertainty surrounding the cumulative future value of reinvested bond coupon payments.$$&$$REIT Real estate investment trust, which is similar to a closed-end mutual fund. REITs invest in real estate or loans secured by real estate and issue shares in such investments.$$&$$relative strength The extent to which a security has out-performed or underperformed either the market as a whole or its particular industry.$$&$$remainderman One who receives the principal of a trust when it is dissolved.$$&$$replacement cost Cost to replace a firm™s assets. Also called reproduction cost.$$&$$representativeness bias The tendency to believe that a small sample is reliably representative of a broad population and therefore to infer patterns too quickly.$$&$$repurchase agreements @repos@ Short-term, often over-night, sales of securities with an agreement to repurchase them at a slightly higher price. A reverse repo is a purchase with an agreement to resell at a specified price on a future date.$$&$$residual claim Refers to the fact that shareholders are at the bottom of the list of claimants to assets of a corporation in the event of failure or bankruptcy.$$&$$residual income Another term for economic value added @EVA@.$$&$$residuals Parts of stock returns not explained by the explanatory variable @the market-index return@. They mea-sure the impact of firm-specific events during a particular period.$$&$$resistance level A price level above which it is supposedly difficult for a stock or stock index to rise.$$&$$return on assets @ROA@ A profitability ratio; earnings before interest and taxes divided by total assets.$$&$$return on capital @ROC@ EBIT divided by long-term capital.$$&$$return on equity @ROE@ Ratio of net profits to common equity.$$&$$return on sales @ROS@ Operating profits per dollar of sales; also called $$&$$profit margin.$$&$$reversal effect The tendency of poorly performing stocks and well-performing stocks in one period to experience reversals in following periods.$$&$$reversing trade Entering the opposite side of a currently held futures position to close out the position.$$&$$reward-to-volatility or Sharpe ratio Ratio of excess return to portfolio standard deviation.$$&$$riding the yield curve Buying long-term bonds in anticipa-tion of capital gains as yields fall with the declining maturity of the bonds.$$&$$risk arbitrage Speculation on perceived security mispric-ing, often in connection with merger and acquisition targets.$$&$$risk averse An investor who will consider risky portfo-lios only if they provide compensation for risk via a risk premium.$$&$$risk lover An investor who is willing to accept lower expected returns on prospects with higher amounts of risk.$$&$$risk neutral An investor who finds the level of risk irrelevant and considers only the expected return of risk prospects.$$&$$risk pooling Adding uncorrelated, risky investments to the portfolio.$$&$$risk premium An expected return in excess of that on risk-free securities. The premium provides compensation for the risk of an investment.$$&$$risk sharing Spreading risk across many investors so that each investor bears only a fraction of the total risk.$$&$$risk-free asset An asset with a certain rate of return; often taken to be short-term T-bills.$$&$$risk-free rate The interest rate that can be earned with  certainty, commonly taken to be the rate on short-term  Treasury bills.riskŒreturn trade-off Assets with higher expected return entail greater risk.$$&$$risky asset An asset with an uncertain rate of return.S$$&$$scatter diagram Plot of returns of one security versus returns of another security. Each point represents one pair of returns for a given holding period.$$&$$seasoned new issue Stock issued by companies that already have stock on the market.$$&$$second-pass regression A cross-sectional regression of portfolio returns on betas. The estimated slope is the Final PDF to printer˜˚ 12 measurement of the reward for bearing systematic risk  during the period.$$&$$secondary market Already existing securities are bought and sold on the exchanges or in the OTC market.$$&$$sector rotation An investment strategy which entails  shifting the portfolio into industry sectors that are forecast to outperform others based on macroeconomic forecasts.$$&$$securitization Pooling loans for various purposes into  standardized securities backed by those loans, which can then be traded like any other security.$$&$$security analysis Determining correct value of a security in the marketplace.$$&$$security characteristic line @SCL@ A plot of the excess return on a security over the risk-free rate as a function of the excess return on the market.$$&$$security market line @SML@ Graphical representation of the expected returnŒbeta relationship.$$&$$security selection Choice of specific securities within a given asset class.$$&$$semistrong-form EMH See efficient market hypothesis.$$&$$separation property The property that portfolio choice can be separated into two independent tasks: @1@ determination of the optimal risky portfolio, which is a purely technical problem, and @2@ the personal choice of the best mix of the risky portfolio and the risk-free asset.$$&$$Sharpe ratio Reward-to-volatility ratio; ratio of excess return to portfolio standard deviation.$$&$$shelf registration Advance registration of securities with the SEC for sale up to 2 years following initial registration.$$&$$short position The futures trader committing to deliver the underlying asset.$$&$$short rate A one-period interest rate.$$&$$short sale The sale of shares not owned by the investor but borrowed through a broker and later repurchased to replace the loan. Profit is earned if the initial sale is at a higher price than the repurchase price.$$&$$single-factor model A model of security returns that decomposes the sources of return variability into one sys-tematic economywide factor and firm-specific factors.$$&$$single-index model A model of stock returns that decom-poses influences on returns into a systematic factor, as measured by the return on a broad market index, and firm-specific factors.$$&$$single-stock futures Futures contracts on single stocks rather than an index.$$&$$sinking fund A bond indenture that calls for the issuer to periodically repurchase some proportion of the outstanding bonds prior to maturity.$$&$$skew Measure of the asymmetry of a probability distribution.$$&$$small-firm effect That investments in stocks of small firms appear to have earned abnormal returns.$$&$$soft dollars The value of research services that brokerage houses supply to investment managers ﬁfree of chargeﬂ in exchange for the investment managers™ business.$$&$$Sortino ratio Excess return divided by lower partial  standard deviation.$$&$$specialist A trader who makes a market in the shares of one or more firms and who maintains a ﬁfair and orderly marketﬂ by dealing personally in the stock.$$&$$speculation Undertaking a risky investment with the objective of earning a greater profit than an investment in a risk-free alternative @a risk premium@.$$&$$speculative-grade bond A bond rated Ba or lower by Moody™s or BB or lower by Standard & Poor™s , or an unrated bond. Also called a junk bond.$$&$$spot rate The current interest rate appropriate for discount-ing a cash flow of some given maturity.$$&$$spot-futures parity theorem Describes the theoretically correct relationship between spot and futures prices.  Violation of the parity relationship gives rise to arbitrage opportunities. Also called the cost-of-carry relationship.$$&$$spread @futures@ Taking a long position in a futures  contract of one maturity and a short position in a contract  of different maturity, both on the same underlying asset.$$&$$spread @options@ A combination of two or more call options or put options on the same stock with differing  exercise prices or times to expiration. A money spread refers to a spread with different exercise prices; a time spread refers to differing expiration dates.$$&$$standard deviation Square root of the variance.$$&$$statement of cash flows A financial statement showing a firm™s cash receipts and cash payments during a specified period.$$&$$statistical arbitrage Use of quantitative systems to uncover many perceived misalignments in relative pricing and ensure profit by diversifying across all of these small bets.$$&$$stock exchanges Secondary markets where already-issued securities are bought and sold by members.$$&$$stock selection An active portfolio management technique that focuses on advantageous selection of particular stocks rather than on broad asset allocation choices.$$&$$stock split Issue by a corporation of a given number of shares in exchange for the current number of shares held by stockholders. Splits may go in either direction, either increasing or decreasing the number of shares outstanding. A reverse split decreases the number outstanding.$$&$$stop-loss order A sell order to be executed if the price of the stock falls below a stipulated level.$$&$$straddle A combination of buying both a call and a put on the same asset, each with the same exercise price and expi-ration date. The purpose is to profit from expected volatility.$$&$$straight bond A bond with no option features such as  callability or convertibility.Final PDF to printer˜˛ 13 $$&$$street name Describes securities held by a broker on behalf of a client but registered in the name of the firm.$$&$$strike price See exercise price.$$&$$strip, strap Variants of a straddle. A strip is two puts and one call on a stock; a strap is two calls and one put, both with the same exercise price and expiration date.$$&$$stripped of coupons Describes the practice of some invest-ment banks that create ﬁsyntheticﬂ zero-coupon bonds by selling the individual payments made by a coupon-paying Treasury bond.$$&$$strong-form EMH See efficient market hypothesis.$$&$$subordination clause A stipulation that senior bondholders will be paid first in the event of bankruptcy. Claims of  subordinated or junior debtholders are not paid until the senior debt is paid.$$&$$substitution swap Exchange of one bond for another more attractively priced bond with similar attributes.$$&$$supply shock An event that influences production capacity and costs in the economy.$$&$$support level A price level below which it is supposedly difficult for a stock or stock index to fall.$$&$$survivorship bias Bias in the average returns of a sample of funds induced by excluding past returns on funds that left the sample because they happened to be unsuccessful.$$&$$swaption An option on a swap.$$&$$systematic risk Risk factors common to the whole  economy; also called $$&$$market risk or $$&$$nondiversifiable risk.$$&$$systemic risk Risk of breakdown in the financial system, particularly due to spillover effects from one market into others.T$$&$$tax anticipation notes Short-term municipal debt to raise funds to pay for expenses before actual collection of taxes.$$&$$tax swap Swapping two similar bonds to capture a tax benefit.$$&$$tax-deferral option The feature of the U.S. Internal Rev-enue Code that the capital gains tax on an asset is payable only when the gain is realized by selling the asset.$$&$$tax-protected retirement plans Employer-sponsored and other plans that protect either contributions or investment earnings from taxes, at least until after retirement.$$&$$technical analysis Research to identify mispriced securi-ties that focuses on recurrent and predictable stock price patterns and on proxies for buy or sell pressure in the market.$$&$$tender offer An offer from an outside investor to share-holders of a company to purchase their shares at a stipulated price, usually substantially above the market price, so that the investor may amass enough shares to obtain control of the company.$$&$$term insurance Provides a death benefit only, with no buildup of cash value.$$&$$term premiums Excess of the yields to maturity on  long-term bonds over those of short-term bonds.$$&$$term structure of interest rates The pattern of interest rates appropriate for discounting cash flows of various maturities. The relation between yield to maturity and time to maturity.$$&$$time value @of an option@ Difference between an option™s price and its intrinsic value. Not to be confused with present value or the time value of money.$$&$$time-weighted average An average @often a geometric average@ of the period-by-period holding-period returns of an investment.$$&$$times interest earned Synonym for interest coverage ratio. Ratio of EBIT to interest expense.Tobin™s q Ratio of market value of the firm to replacement cost.$$&$$total asset turnover @ATO@ The annual sales generated by each dollar of assets @sales/assets@.$$&$$tracking error The difference between the return on a  managed portfolio and that of a benchmark portfolio against which the manager is evaluated.$$&$$tracking portfolio A portfolio constructed to have returns with the highest possible correlation with a systematic risk factor.$$&$$tranche See collateralized mortgage obligation.$$&$$Treasury bill Short-term, highly liquid government debt obligation issued at a discount from the face value and returning the face amount at maturity.$$&$$Treasury bond Debt obligation of the federal government with original maturity between 10 and 30 years.$$&$$Treasury note Debt obligation of the federal government with original maturity between 1 and 10 years.$$&$$treasury stock Stock that has been repurchased by the  issuing company and is held in the company™s treasury.$$&$$Treynor-Black model A special case of the Markowitz model of efficient diversification, derived by assuming returns are generated by the index model.Treynor™s measure Ratio of excess return to beta.$$&$$trin statistic Ratio of average trading volume in declining stocks to average volume in advancing stocks. Used in  technical analysis.$$&$$trough The transition point between recession and recovery.$$&$$turnover The ratio of the trading activity of a portfolio to the assets of the portfolio.$$&$$12b-1 fees Annual fees charged by a mutual fund to pay for marketing and distribution costs.$$&$$two-stage dividend discount model Dividend discount model that allows for an initial high-growth period before the firm settles down to a sustainable growth trajectory.Final PDF to printer˜˝ 14 U$$&$$unbundling See bundling.$$&$$underwriters Investment bankers who help companies issue their securities to the public.$$&$$underwriting, underwriting syndicate Underwriters @investment bankers@ purchase securities from the issuing company and resell them. Usually a syndicate of investment bankers is organized behind a lead firm.$$&$$unemployment rate The ratio of the number of people classified as unemployed to the total labor force.$$&$$unique risk Nonmarket or firm-specific risk factors  that can be eliminated by diversification. Also called firm-specific risk, $$&$$nonsystematic risk, or $$&$$diversifiable risk.$$&$$unit investment trust Money invested in a portfolio whose composition is fixed for the life of the fund.$$&$$universal life policy An insurance policy that allows for a varying death benefit and premium level over the term of the policy, with an interest rate on the cash value that changes with market interest rates.$$&$$utility The measure of the welfare or satisfaction of an investor.$$&$$utility value The welfare a given investor assigns to an investment with a particular return and risk.V$$&$$value at risk @VaR@ Measure of downside risk. The loss that will be incurred in the event of an extreme adverse price change with some given, typically low, probability.$$&$$variable annuities Annuity contracts in which the  insurance company pays a periodic amount linked to the investment performance of an underlying portfolio.$$&$$variable life policy An insurance policy that provides a fixed death benefit plus a cash value that can be invested in a variety of funds from which the policyholder can choose.$$&$$variance A measure of the dispersion of a random vari-able. Equals the expected value of the squared deviation from the mean.$$&$$variation margin See maintenance margin.$$&$$vega The response of option price to a change in the  standard deviation of the underlying asset.$$&$$venture capital @VC@ Money invested to finance a new, not yet publicly traded firm.$$&$$views An analyst™s opinion on the likely performance of a stock or sector compared to the market-consensus expectation.$$&$$volatility risk The risk in the value of options portfolios due to unpredictable changes in the volatility of the  underlying asset.W$$&$$warrant An option issued by the firm to purchase shares of the firm™s stock.$$&$$weak-form EMH See efficient market hypothesis.$$&$$well-diversified portfolio A portfolio spread out over many securities in such a way that the weight in any  security is close to zero, resulting in negligible diversifi-able risk.$$&$$whole-life insurance policy Provides a death benefit and a kind of savings plan that builds up cash value for possible future withdrawal.$$&$$workout period Realignment period of a temporary  misaligned yield relationship.$$&$$world investable wealth The part of world wealth that is traded and is therefore accessible to investors.$$&$$writing a call Selling a call option.Y$$&$$yield curve A graph of yield to maturity as a function of time to maturity.$$&$$yield to maturity @YTM@ A measure of the average rate of return that will be earned on a bond if held to maturity.Z$$&$$zero-beta portfolio The minimum-variance portfolio uncorrelated with a chosen efficient portfolio.$$&$$zero-coupon bond A bond paying no coupons that sells at a discount and provides only payment of face value at maturity.$$&$$zero-investment portfolio A portfolio of zero net value, established by buying and shorting component securities, usually in the context of an arbitrage strategy.Final PDF to printer'"
            ]
          },
          "metadata": {},
          "execution_count": 64
        }
      ]
    },
    {
      "cell_type": "code",
      "metadata": {
        "id": "-b-u5XnkKdwn"
      },
      "source": [
        "terms_li = []\n",
        "texts_li = []\n",
        "for i in text_cleaned.split('$$&$$'): \n",
        "  for term in all_terms:\n",
        "    cln_term = term.replace('(','@').replace(')','@')\n",
        "    if cln_term in i:\n",
        "      jj = i.replace(cln_term,'').strip()\n",
        "      if jj[0].isupper() and jj!='See':\n",
        "        terms_li.append(cln_term.replace('@','').replace('.',''))\n",
        "        if jj[-1].isupper(): #Removing single letters present at the start of index\n",
        "          texts_li.append(jj[:-1])\n",
        "        else:\n",
        "          texts_li.append(jj)\n",
        "          all_terms.remove(term)\n",
        "        break\n"
      ],
      "execution_count": null,
      "outputs": []
    },
    {
      "cell_type": "code",
      "metadata": {
        "id": "eK-iacNyRT7l"
      },
      "source": [
        "zvi_data = pd.DataFrame({'terms':terms_li,'definitions':texts_li})\n",
        "zvi_data['source'] = 'zvi'\n",
        "zvi_data['assigned_readibility']=0.0\n",
        "zvi_data.to_csv('zvi_data.csv', index = False)"
      ],
      "execution_count": null,
      "outputs": []
    },
    {
      "cell_type": "code",
      "metadata": {
        "colab": {
          "base_uri": "https://localhost:8080/",
          "height": 424
        },
        "id": "OQ0_aMoHRkUk",
        "outputId": "77c32ba6-e2f0-449c-d146-8250155b1c26"
      },
      "source": [
        "zvi_data"
      ],
      "execution_count": null,
      "outputs": [
        {
          "output_type": "execute_result",
          "data": {
            "text/html": [
              "<div>\n",
              "<style scoped>\n",
              "    .dataframe tbody tr th:only-of-type {\n",
              "        vertical-align: middle;\n",
              "    }\n",
              "\n",
              "    .dataframe tbody tr th {\n",
              "        vertical-align: top;\n",
              "    }\n",
              "\n",
              "    .dataframe thead th {\n",
              "        text-align: right;\n",
              "    }\n",
              "</style>\n",
              "<table border=\"1\" class=\"dataframe\">\n",
              "  <thead>\n",
              "    <tr style=\"text-align: right;\">\n",
              "      <th></th>\n",
              "      <th>terms</th>\n",
              "      <th>definitions</th>\n",
              "      <th>source</th>\n",
              "      <th>assigned_readibility</th>\n",
              "    </tr>\n",
              "  </thead>\n",
              "  <tbody>\n",
              "    <tr>\n",
              "      <th>0</th>\n",
              "      <td>arbitrage pricing theory APT</td>\n",
              "      <td>An asset pricing theory that is derived from a...</td>\n",
              "      <td>zvi</td>\n",
              "      <td>0.0</td>\n",
              "    </tr>\n",
              "    <tr>\n",
              "      <th>1</th>\n",
              "      <td>ask price</td>\n",
              "      <td>The price at which a dealer will sell a security.</td>\n",
              "      <td>zvi</td>\n",
              "      <td>0.0</td>\n",
              "    </tr>\n",
              "    <tr>\n",
              "      <th>2</th>\n",
              "      <td>asset allocation</td>\n",
              "      <td>Allocating a portfolio across broad asset clas...</td>\n",
              "      <td>zvi</td>\n",
              "      <td>0.0</td>\n",
              "    </tr>\n",
              "    <tr>\n",
              "      <th>3</th>\n",
              "      <td>at the money</td>\n",
              "      <td>The option™s exercise price and the price of t...</td>\n",
              "      <td>zvi</td>\n",
              "      <td>0.0</td>\n",
              "    </tr>\n",
              "    <tr>\n",
              "      <th>4</th>\n",
              "      <td>auction market</td>\n",
              "      <td>A market where all traders in an asset meet @e...</td>\n",
              "      <td>zvi</td>\n",
              "      <td>0.0</td>\n",
              "    </tr>\n",
              "    <tr>\n",
              "      <th>...</th>\n",
              "      <td>...</td>\n",
              "      <td>...</td>\n",
              "      <td>...</td>\n",
              "      <td>...</td>\n",
              "    </tr>\n",
              "    <tr>\n",
              "      <th>520</th>\n",
              "      <td>yield curve</td>\n",
              "      <td>A graph of yield to maturity as a function of ...</td>\n",
              "      <td>zvi</td>\n",
              "      <td>0.0</td>\n",
              "    </tr>\n",
              "    <tr>\n",
              "      <th>521</th>\n",
              "      <td>yield to maturity YTM</td>\n",
              "      <td>A measure of the average rate of return that w...</td>\n",
              "      <td>zvi</td>\n",
              "      <td>0.0</td>\n",
              "    </tr>\n",
              "    <tr>\n",
              "      <th>522</th>\n",
              "      <td>zero-beta portfolio</td>\n",
              "      <td>The minimum-variance portfolio uncorrelated wi...</td>\n",
              "      <td>zvi</td>\n",
              "      <td>0.0</td>\n",
              "    </tr>\n",
              "    <tr>\n",
              "      <th>523</th>\n",
              "      <td>zero-coupon bond</td>\n",
              "      <td>A bond paying no coupons that sells at a disco...</td>\n",
              "      <td>zvi</td>\n",
              "      <td>0.0</td>\n",
              "    </tr>\n",
              "    <tr>\n",
              "      <th>524</th>\n",
              "      <td>zero-investment portfolio</td>\n",
              "      <td>A portfolio of zero net value, established by ...</td>\n",
              "      <td>zvi</td>\n",
              "      <td>0.0</td>\n",
              "    </tr>\n",
              "  </tbody>\n",
              "</table>\n",
              "<p>525 rows × 4 columns</p>\n",
              "</div>"
            ],
            "text/plain": [
              "                            terms                                        definitions source  assigned_readibility\n",
              "0    arbitrage pricing theory APT  An asset pricing theory that is derived from a...    zvi                   0.0\n",
              "1                       ask price  The price at which a dealer will sell a security.    zvi                   0.0\n",
              "2                asset allocation  Allocating a portfolio across broad asset clas...    zvi                   0.0\n",
              "3                    at the money  The option™s exercise price and the price of t...    zvi                   0.0\n",
              "4                  auction market  A market where all traders in an asset meet @e...    zvi                   0.0\n",
              "..                            ...                                                ...    ...                   ...\n",
              "520                   yield curve  A graph of yield to maturity as a function of ...    zvi                   0.0\n",
              "521         yield to maturity YTM  A measure of the average rate of return that w...    zvi                   0.0\n",
              "522           zero-beta portfolio  The minimum-variance portfolio uncorrelated wi...    zvi                   0.0\n",
              "523              zero-coupon bond  A bond paying no coupons that sells at a disco...    zvi                   0.0\n",
              "524     zero-investment portfolio  A portfolio of zero net value, established by ...    zvi                   0.0\n",
              "\n",
              "[525 rows x 4 columns]"
            ]
          },
          "metadata": {},
          "execution_count": 68
        }
      ]
    },
    {
      "cell_type": "code",
      "metadata": {
        "colab": {
          "base_uri": "https://localhost:8080/"
        },
        "id": "lWkWrsP4VTwY",
        "outputId": "55981327-b032-44b1-a866-bdf5dc24ae81"
      },
      "source": [
        "zvi_data.shape"
      ],
      "execution_count": null,
      "outputs": [
        {
          "output_type": "execute_result",
          "data": {
            "text/plain": [
              "(525, 4)"
            ]
          },
          "metadata": {},
          "execution_count": 69
        }
      ]
    },
    {
      "cell_type": "markdown",
      "metadata": {
        "id": "R2I3lxbMYkNO"
      },
      "source": [
        "# Principles of Corporate Finance\n",
        "## Note only for this ssg text data extraction from PDF has been used."
      ]
    },
    {
      "cell_type": "code",
      "metadata": {
        "id": "L0zt6A6mbTZR"
      },
      "source": [
        "soup = BeautifulSoup(open('Glossary_Principles of Corporate Finance.html'), 'html.parser')\n",
        "all_terms =sorted([i.text.strip().lower() for i in soup.find_all('span', {\"class\": [\"cls_005\"]})])\n",
        "all_terms.remove('risk)')"
      ],
      "execution_count": null,
      "outputs": []
    },
    {
      "cell_type": "code",
      "metadata": {
        "id": "LLDp0UyUcmC8"
      },
      "source": [
        "all_terms"
      ],
      "execution_count": null,
      "outputs": []
    },
    {
      "cell_type": "code",
      "metadata": {
        "colab": {
          "base_uri": "https://localhost:8080/"
        },
        "id": "zJP33qCiug24",
        "outputId": "f2ccd444-9c05-42c6-9dc5-1756009433f0"
      },
      "source": [
        "len(all_terms)"
      ],
      "execution_count": null,
      "outputs": [
        {
          "output_type": "execute_result",
          "data": {
            "text/plain": [
              "177"
            ]
          },
          "metadata": {},
          "execution_count": 118
        }
      ]
    },
    {
      "cell_type": "code",
      "metadata": {
        "colab": {
          "base_uri": "https://localhost:8080/",
          "height": 138
        },
        "id": "3rwEkEXSc9tw",
        "outputId": "feef8e50-39f5-4dd5-9573-35c23d532762"
      },
      "source": [
        "text_content = open('Glossary_Principles_of_Corporate_Finance_extracted_text_ssg.txt',mode='r').read()\n",
        "junk_text = '''Glossary'''\n",
        "end = text_content.index('Internal rate of return on a bond')\n",
        "\n",
        "text_cleaned = text_content[:end].replace(junk_text,'').replace('Glossary', '').replace('10/04/18  09:23 PM', '').replace('bre13901_glo_G1-G6', '').replace('G-','').replace('Final PDF to printer', '')\n",
        "text_cleaned = re.sub('\\n[A-Z]+\\n','', text_cleaned).replace('\\n','').lower()+' Internal rate of return on a bond'\n",
        "text_cleaned"
      ],
      "execution_count": null,
      "outputs": [
        {
          "output_type": "execute_result",
          "data": {
            "application/vnd.google.colaboratory.intrinsic+json": {
              "type": "string"
            },
            "text/plain": [
              "'adjusted present value (apv)  net present value of an asset if financed solely by equity plus the present value of any financing side effects.agency costs  costs that arise when an agent (e.g., a manager) does not act solely in the interests of the principal (e.g., the shareholder).annual percentage rate (apr)  the interest rate per period (e.g., per month) multiplied by the number of periods in a year.annuity  investment that produces a level stream of cash flows for a limited number of periods.annuity due  annuity whose payments occur at the start of each period.annuity factor  present value of $1 paid for each of t periods.apr  annual percentage rate.apt  arbitrage pricing theory.apv  adjusted present value.arbitrage  purchase of one security and simultaneous sale of another to give a risk-free profit. often used loosely to describe the taking of offsetting positions in related securities, e.g., at the time of a takeover bid.arbitrage pricing theory (apt)  model in which expected returns increase linearly with an asset’s sensitivity to a small number of pervasive factors.asked price (offered price)  price at which a dealer is willing to sell (cf. bid price).asset beta  the beta of the firm if it were unlevered.automated clearing house (ach)  private electronic system run by banks for high-volume, low-value payments.banker’s acceptance (ba)  written demand that has been accepted by a bank to pay a given sum at a future date  (cf. trade acceptance).basis risk  residual risk that results when the two sides of a hedge do not move exactly together.beta  measure of market risk.binomial method  method for valuing options that assumes there are only two possible changes in the asset price in any one period.bridge loan  short-term loan to provide temporary financing until more permanent financing is arranged.call option  option to buy an asset at a specified exercise price on or before a specified exercise date (cf. put option).capex  capital expenditure.capital asset pricing model (capm)  model in which expected returns increase linearly with an asset’s beta.capital budget  list of planned investment projects, usually prepared annually.capital lease  financial lease.capital structure  mix of different securities issued by a firm.capm  capital asset pricing model.carve-out  public offering of shares in a subsidiary.certainty equivalent  a certain cash flow that has the same present value as a specified risky cash flow.closed-end fund  company whose assets consist of investments in a number of industrial and commercial companies.commercial draft (bill of exchange)  demand for payment.commercial paper (cp)  unsecured notes issued by companies and maturing within nine months.company cost of capital  the expected return on a portfolio of all the firm’s securities.compound interest  reinvestment of each interest payment on money invested to earn more interest (cf. simple interest).concentration account  if the firm’s customers make payments to a regional collection center. the deposits can be automatically transferred to a centralized concentration account.conglomerate merger  merger between two companies in\\xa0unrelated businesses (cf. horizontal merger, vertical merger).consumer credit  bills awaiting payment from final customer to a company.conversion price  par value of a convertible bond divided by the number of shares into which it may be exchanged.conversion ratio  number of shares for which a convertible bond may be exchanged.convertible bond  bond that may be converted into another security at the holder’s option. similarly convertible preferred stock.corporation  a business that is legally separate from its owners.cost of (equity) capital  opportunity cost of capital.1  1 \\x0c2 coupon  (1) specifically, an attachment to the certificate of a bearer security that must be surrendered to collect interest payment; (2) more generally, interest payment on debt.covariance  measure of the co-movement between two variables.dcf  discounted cash flow.death-spiral convertible  convertible bond exchangeable for shares with a specified market value.debenture  unsecured bond.decision tree  method of representing alternative sequential decisions and the possible outcomes from these decisions.degree of operating leverage (dol)  the percentage change in profits for a 1% change in sales.direct lease  lease in which the lessor purchases new equipment from the manufacturer and leases it to the lessee (cf. sale and lease-back).discount factor  present value of $1 received at a stated future date.discounted cash flow (dcf)  future cash flows multiplied by discount factors to obtain present value.dividend discount model  model showing that the value of a share is equal to the discounted value of future dividends.dividend yield  annual dividend divided by share price.du pont formula  formula expressing relationship between return on assets, sales-to-assets, profit margin, and measures of leverage.duration  the average number of years to an asset’s discounted cash flows.economic depreciation  decline in present value of an asset.economic income  cash flow plus change in present value.economic value added (eva)  a measure of residual income implemented by the consulting firm stern stewart.efficient portfolio  portfolio that offers the lowest risk (standard deviation) for its expected return and the highest expected return for its level of risk.equipment trust certificate  form of secured debt generally used to finance railroad equipment. the trustee retains ownership of the equipment until the debt is repaid.etf  exchange-traded fund.eurobond  (1) bond that is denominated in one country’s currency but marketed internationally outside that country. (2) also used to refer to suggested sovereign bond issues that would be guaranteed by all eurozone governments.eva  economic value added.evergreen credit  revolving credit without maturity.exchange-traded fund (etf)  a stock designed to track a stock market index.expectations theory  theory that forward interest rate (forward exchange rate) equals expected spot rate.face value  principal.factor  (1) a common influence on security prices (e.g., the level of interest rates or oil prices); (2) a business providing factoring.financial assets  claims on real assets.financial engineering  combining or dividing existing instruments to create new financial products.financial intermediary  an organization that raises money from many investors and provides financing to individuals, corporations, and other organizations.financial lease (capital lease, full-payout lease)  long-term, noncancelable lease (cf. operating lease).financial leverage (gearing)  use of debt to increase the expected return on equity. financial leverage is measured by the ratio of debt to debt plus equity (cf. operating leverage).financial markets  markets in which securities are issued and traded.floating-price convertible  death-spiral convertible.forward contract  agreement to buy or sell an asset in the future at an agreed-upon price.forward exchange rate  exchange rate fixed today for exchanging currency at some future date (cf. spot exchange rate).forward price  agreed-upon price for a forward contract.free cash flow (fcf)  cash not required for operations or for reinvestment.full-payout lease  financial lease.full-service lease (rental lease)  lease in which the lessor promises to maintain and insure the equipment (cf. net lease).futures contract  a contract to buy a commodity or security on a future date at a price that is fixed today. unlike forward contracts, futures are traded on organized exchanges and are marked to market daily.futures exchange  exchange where futures contracts are traded.generally accepted accounting principles (gaap) procedures for preparing financial statements.   2 \\x0c  3hedge fund  an investment fund charging a performance fee and open to a limited range of investors. funds often follow complex strategies including short sales.hedge ratio (delta, option delta)  the number of shares to buy for each option sold to create a safe position; more generally, the number of units of an asset that should be bought to hedge one unit of a liability.high-yield bond  junk bond.horizontal merger  merger between two companies that manufacture similar products (cf. vertical merger, conglomerate merger).indenture  formal agreement, e.g., establishing the terms of a bond issue.initial public offering (ipo)  a company’s first public issue of common stock.internal rate of return (irr)  discount rate at which investment has zero net present value.ipo  initial public offering.junk bond (high-yield bond)  debt that is rated below an investment-grade bond.keiretsu  a network of japanese companies organized around a major bank.lease  long-term rental agreement.lessee  user of a leased asset (cf. lessor).lessor  owner of a leased asset (cf. lessee).leveraged buyout (lbo)  acquisition in which (1) a large part of the purchase price is debt-financed and (2) the remaining equity is privately held by a small group of investors.leveraged lease  lease in which the lessor finances part of the cost of the asset by an issue of debt secured by the asset and the lease payments.limited liability  limitation of a shareholder’s losses to the amount invested.liquidity  ability to sell an asset on short notice at close to the market price.lockbox system  form of concentration banking. customers send payments to a post office box. a local bank collects and processes the checks and transfers surplus funds to the company’s principal bank.london interbank offered rate (libor)  the interest rate at which major international banks in london borrow from each other. (libid is london interbank bid rate; limean is mean of bid and offered rate.)management buyout (mbo)  leveraged buyout whereby the acquiring group is led by the firm’s management.margin  cash or securities set aside by an investor as evidence that he or she can honor a commitment.marked to market  an arrangement whereby the profits or losses on a futures contract are settled up each day.market capitalization  market value of outstanding share capital.market capitalization rate  expected return on a security.market risk (systematic risk)  risk that cannot be diversified away.market value added  difference between market value and book value of firm’s equity.market-to-book ratio  ratio of market value to book value of firm’s equity.mbo  management buyout.medium-term note (mtn)  debt with a typical maturity of 1 to 10 years offered regularly by a company using the same procedure as commercial paper.money market  market for short-term safe investments.monte carlo simulation  method for calculating the probability distribution of possible outcomes, e.g., from a project.mortgage bond  bond secured against plant and equipment.mutual fund  managed investment fund whose shares are sold to investors.mutually exclusive projects  two projects that cannot both be undertaken.negotiable certificate of deposit (cd)  a certificate for a time deposit of $1 million or more that can be sold before maturity.net lease  lease in which the lessee promises to maintain and insure the equipment (cf. full-service lease).net present value (npv)  a project’s net contribution to wealth—present value minus initial investment.net working capital  current assets minus current liabilities.note  unsecured debt with a maturity of up to 10 years.  3 \\x0c4 operating lease  short-term, cancelable lease (cf. financial lease).operating profit margin  after-tax operating income as a percentage of sales.opportunity cost of capital (hurdle rate, cost of capital) expected return that is foregone by investing in a project rather than in comparable financial securities. payback period  time until the cumulative cash flow equals the initial investment.payback rule  requirement that project should recover its initial investment within a specified time.payout ratio  dividend as a proportion of earnings per share.pension fund  investment plan set up by an employer to provide for employees’ retirement.perpetuity  investment offering a level stream of cash flows in perpetuity (cf. consol).preferred stock  stock that takes priority over common stock in regard to dividends. dividends may not be paid on common stock unless the dividend is paid on all preferred stock (cf. cumulative preferred stock). the dividend rate on preferred is usually fixed at time of issue.present value (pv)  discounted value of future cash flows.principal  amount of debt that must be repaid.private equity  equity that is not publicly traded and that is used to finance business start-ups, leveraged buyouts, etc.privatization  sale of a government-owned company to private investors.profitability index  ratio of a project’s npv to the initial investment.project finance  debt that is largely a claim against the cash flows from a particular project rather than against the firm as a whole.prospectus  summary of the registration statement providing information on an issue of securities.put option  option to sell an asset at a specified exercise price on or before a specified exercise date (cf. call option).put-call parity  the relationship between the prices of european put and call options.pvgo  present value of growth opportunities.rate of return  total income and capital appreciation per period per dollar invested.real assets  tangible assets and intangible assets used to carry on business (cf. financial assets).real option  the flexibility to modify, postpone, expand, or abandon a project.registration statement  a detailed document prepared for the securities and exchange commission that presents information about a firm’s proposed financing and the firm’s history, existing business, and plans for the future.rental lease  full-service lease.replicating portfolio  package of assets whose returns exactly replicate those of an option.return on assets (roa)  after-tax operating income as a percentage of total assets.return on capital (roc)  after-tax operating income as a percentage of long-term capital.return on equity (roe)  usually, equity earnings as a proportion of the book value of equity.revolving credit  legally assured line of credit with a bank.roe  return on equity.sale and lease-back  sale of an existing asset to a financial institution that then leases it back to the user (cf. direct lease).scenario analysis  analysis of the profitability of a project under alternative economic scenarios.securities  claims on real assets.security market line (sml)  line representing the relationship between expected return and market risk.self-liquidating loan  loan to finance current assets. the sale of the current assets provides the cash to repay the loan.specific risk (residual risk, unique risk, unsystematic risk)  risk that can be eliminated by diversification.spin-off  distribution of shares in a subsidiary to the company’s shareholders so that they hold shares separately in the two firms.spot exchange rate  exchange rate on currency for immediate delivery (cf. forward exchange rate).spot price  price of asset for immediate delivery (in contrast to forward or futures price).spot rate  interest rate fixed today on a loan that is made today (cf. forward interest rate).standard deviation  square root of the variance—a measure of variability.stripped bond (strip)  bond that is subdivided into a series of zero-coupon bonds.term loan  medium-term, privately placed loan, usually made by a bank.  4 \\x0c  5term structure of interest rates  relationship between interest rates on loans of different maturities (cf. yield curve).trade acceptance  written demand that has been accepted by an industrial company to pay a given sum at a future date (cf. banker’s acceptance).trade credit  accounts receivable.trust deed  agreement between trustee and borrower setting out terms of a bond.variance  mean squared deviation from the expected value; a measure of variability.vertical merger  merger between a supplier and its customer (cf. horizontal merger, conglomerate merger).wacc  weighted-average cost of capital.warrant  long-term call option issued by a company.weighted-average cost of capital (wacc)  expected return on a portfolio of all the firm’s securities. used as hurdle rate for capital investment.working capital  current assets less current liabilities. the term is commonly used as synonymous with net working capital.yield to maturity   Internal rate of return on a bond'"
            ]
          },
          "metadata": {},
          "execution_count": 113
        }
      ]
    },
    {
      "cell_type": "code",
      "metadata": {
        "id": "lETpuBA8fTu7"
      },
      "source": [
        "terms_li = []\n",
        "texts_li = []\n",
        "\n",
        "for i in range(len(all_terms)-1):\n",
        "  start_ind = text_cleaned.index(all_terms[i])\n",
        "  end_ind = text_cleaned.index(all_terms[i+1])\n",
        "  des_text = text_cleaned[start_ind:end_ind].replace(all_terms[i],'')\n",
        "  terms_li.append(all_terms[i])\n",
        "  texts_li.append(des_text)\n",
        "  text_cleaned = text_cleaned[end_ind:]\n",
        "  print(all_terms[i])"
      ],
      "execution_count": null,
      "outputs": []
    },
    {
      "cell_type": "code",
      "metadata": {
        "colab": {
          "base_uri": "https://localhost:8080/"
        },
        "id": "C7eOHLQ-uWzc",
        "outputId": "b92f5652-8322-4146-b204-e0052025c0aa"
      },
      "source": [
        "len(terms_li), len(texts_li)"
      ],
      "execution_count": null,
      "outputs": [
        {
          "output_type": "execute_result",
          "data": {
            "text/plain": [
              "(176, 176)"
            ]
          },
          "metadata": {},
          "execution_count": 115
        }
      ]
    },
    {
      "cell_type": "code",
      "metadata": {
        "colab": {
          "base_uri": "https://localhost:8080/",
          "height": 34
        },
        "id": "-IZ9L4LRu8FJ",
        "outputId": "e91fb302-161c-4f7f-921f-4fabb379fc15"
      },
      "source": [
        "terms_li[-1]"
      ],
      "execution_count": null,
      "outputs": [
        {
          "output_type": "execute_result",
          "data": {
            "application/vnd.google.colaboratory.intrinsic+json": {
              "type": "string"
            },
            "text/plain": [
              "'working capital'"
            ]
          },
          "metadata": {},
          "execution_count": 119
        }
      ]
    },
    {
      "cell_type": "code",
      "metadata": {
        "id": "QXxsL76fuqP2"
      },
      "source": [
        "terms_li.append('yield to maturity')\n",
        "texts_li.append(' internal rate of return on a bond')\n",
        "prin_data = pd.DataFrame({'terms':terms_li,'definitions':texts_li})\n",
        "prin_data['source'] = 'prin'\n",
        "prin_data['assigned_readibility']=0.0\n",
        "prin_data.to_csv('prin_data.csv', index = False)"
      ],
      "execution_count": null,
      "outputs": []
    },
    {
      "cell_type": "markdown",
      "metadata": {
        "id": "ruZk-MG3zOWK"
      },
      "source": [
        "# All data"
      ]
    },
    {
      "cell_type": "code",
      "metadata": {
        "colab": {
          "base_uri": "https://localhost:8080/"
        },
        "id": "s51rNB-mzflo",
        "outputId": "1b6fefcf-4f60-4348-c574-932d52818a60"
      },
      "source": [
        "import os\n",
        "os.listdir()"
      ],
      "execution_count": null,
      "outputs": [
        {
          "output_type": "execute_result",
          "data": {
            "text/plain": [
              "['.config',\n",
              " 'Glossary_Principles of Corporate Finance.html',\n",
              " 'prin_data.csv',\n",
              " '.ipynb_checkpoints',\n",
              " 'ncert_data.csv',\n",
              " 'zvi_data.csv',\n",
              " 'Glossary_Principles_of_Corporate_Finance_extracted_text_ssg.txt',\n",
              " 'sam_data.csv',\n",
              " 'ofod_data.csv',\n",
              " 'inv_data.csv',\n",
              " 'fmi_data.csv',\n",
              " 'sample_data']"
            ]
          },
          "metadata": {},
          "execution_count": 127
        }
      ]
    },
    {
      "cell_type": "code",
      "metadata": {
        "id": "2zrQJ1JZzMvx"
      },
      "source": [
        "all_data = pd.DataFrame({})\n",
        "for fil in os.listdir():\n",
        "  if '.csv' in fil:\n",
        "    all_data = all_data.append(pd.read_csv(fil))"
      ],
      "execution_count": null,
      "outputs": []
    },
    {
      "cell_type": "code",
      "metadata": {
        "colab": {
          "base_uri": "https://localhost:8080/",
          "height": 424
        },
        "id": "9ppnY6-Uz2cc",
        "outputId": "ece02dcc-86d2-4f07-a906-d6bdc1968641"
      },
      "source": [
        "all_data"
      ],
      "execution_count": null,
      "outputs": [
        {
          "output_type": "execute_result",
          "data": {
            "text/html": [
              "<div>\n",
              "<style scoped>\n",
              "    .dataframe tbody tr th:only-of-type {\n",
              "        vertical-align: middle;\n",
              "    }\n",
              "\n",
              "    .dataframe tbody tr th {\n",
              "        vertical-align: top;\n",
              "    }\n",
              "\n",
              "    .dataframe thead th {\n",
              "        text-align: right;\n",
              "    }\n",
              "</style>\n",
              "<table border=\"1\" class=\"dataframe\">\n",
              "  <thead>\n",
              "    <tr style=\"text-align: right;\">\n",
              "      <th></th>\n",
              "      <th>terms</th>\n",
              "      <th>definitions</th>\n",
              "      <th>source</th>\n",
              "      <th>assigned_readibility</th>\n",
              "    </tr>\n",
              "  </thead>\n",
              "  <tbody>\n",
              "    <tr>\n",
              "      <th>0</th>\n",
              "      <td>adjusted present value (apv)</td>\n",
              "      <td>net present value of an asset if financed so...</td>\n",
              "      <td>prin</td>\n",
              "      <td>0.0</td>\n",
              "    </tr>\n",
              "    <tr>\n",
              "      <th>1</th>\n",
              "      <td>agency costs</td>\n",
              "      <td>costs that arise when an agent (e.g., a mana...</td>\n",
              "      <td>prin</td>\n",
              "      <td>0.0</td>\n",
              "    </tr>\n",
              "    <tr>\n",
              "      <th>2</th>\n",
              "      <td>annual percentage rate (apr)</td>\n",
              "      <td>the interest rate per period (e.g., per mont...</td>\n",
              "      <td>prin</td>\n",
              "      <td>0.0</td>\n",
              "    </tr>\n",
              "    <tr>\n",
              "      <th>3</th>\n",
              "      <td>annuity</td>\n",
              "      <td>investment that produces a level stream of c...</td>\n",
              "      <td>prin</td>\n",
              "      <td>0.0</td>\n",
              "    </tr>\n",
              "    <tr>\n",
              "      <th>4</th>\n",
              "      <td>annuity due</td>\n",
              "      <td>annuity whose payments occur at the start of...</td>\n",
              "      <td>prin</td>\n",
              "      <td>0.0</td>\n",
              "    </tr>\n",
              "    <tr>\n",
              "      <th>...</th>\n",
              "      <td>...</td>\n",
              "      <td>...</td>\n",
              "      <td>...</td>\n",
              "      <td>...</td>\n",
              "    </tr>\n",
              "    <tr>\n",
              "      <th>460</th>\n",
              "      <td>yield curve</td>\n",
              "      <td>A plot of the interest rates for par-ticular t...</td>\n",
              "      <td>fmi</td>\n",
              "      <td>0.0</td>\n",
              "    </tr>\n",
              "    <tr>\n",
              "      <th>461</th>\n",
              "      <td>yield to maturity</td>\n",
              "      <td>The interest rate that equates the present val...</td>\n",
              "      <td>fmi</td>\n",
              "      <td>0.0</td>\n",
              "    </tr>\n",
              "    <tr>\n",
              "      <th>462</th>\n",
              "      <td>zero-coupon bond</td>\n",
              "      <td>See discount bond.</td>\n",
              "      <td>fmi</td>\n",
              "      <td>0.0</td>\n",
              "    </tr>\n",
              "    <tr>\n",
              "      <th>463</th>\n",
              "      <td>zero-coupon securities</td>\n",
              "      <td>See Separate Trading of Registered Interest an...</td>\n",
              "      <td>fmi</td>\n",
              "      <td>0.0</td>\n",
              "    </tr>\n",
              "    <tr>\n",
              "      <th>464</th>\n",
              "      <td>zero-lower-bound problem</td>\n",
              "      <td>Situation in which the central bank is unable ...</td>\n",
              "      <td>fmi</td>\n",
              "      <td>0.0</td>\n",
              "    </tr>\n",
              "  </tbody>\n",
              "</table>\n",
              "<p>8408 rows × 4 columns</p>\n",
              "</div>"
            ],
            "text/plain": [
              "                            terms                                        definitions source  assigned_readibility\n",
              "0    adjusted present value (apv)    net present value of an asset if financed so...   prin                   0.0\n",
              "1                    agency costs    costs that arise when an agent (e.g., a mana...   prin                   0.0\n",
              "2    annual percentage rate (apr)    the interest rate per period (e.g., per mont...   prin                   0.0\n",
              "3                         annuity    investment that produces a level stream of c...   prin                   0.0\n",
              "4                     annuity due    annuity whose payments occur at the start of...   prin                   0.0\n",
              "..                            ...                                                ...    ...                   ...\n",
              "460                   yield curve  A plot of the interest rates for par-ticular t...    fmi                   0.0\n",
              "461             yield to maturity  The interest rate that equates the present val...    fmi                   0.0\n",
              "462              zero-coupon bond                                 See discount bond.    fmi                   0.0\n",
              "463        zero-coupon securities  See Separate Trading of Registered Interest an...    fmi                   0.0\n",
              "464      zero-lower-bound problem  Situation in which the central bank is unable ...    fmi                   0.0\n",
              "\n",
              "[8408 rows x 4 columns]"
            ]
          },
          "metadata": {},
          "execution_count": 129
        }
      ]
    },
    {
      "cell_type": "code",
      "metadata": {
        "colab": {
          "base_uri": "https://localhost:8080/"
        },
        "id": "gdlbmb4_0hIK",
        "outputId": "df15a1df-ba43-4c15-e4b0-1e496edb96bb"
      },
      "source": [
        "pd.isnull(all_data['definitions']).value_counts()"
      ],
      "execution_count": null,
      "outputs": [
        {
          "output_type": "execute_result",
          "data": {
            "text/plain": [
              "False    8408\n",
              "Name: definitions, dtype: int64"
            ]
          },
          "metadata": {},
          "execution_count": 131
        }
      ]
    },
    {
      "cell_type": "code",
      "metadata": {
        "colab": {
          "base_uri": "https://localhost:8080/"
        },
        "id": "ESLTRNwU0rdX",
        "outputId": "f717b584-c623-41c1-9b79-ca69b5d5eecd"
      },
      "source": [
        "all_data[all_data['definitions']==''].value_counts()"
      ],
      "execution_count": null,
      "outputs": [
        {
          "output_type": "execute_result",
          "data": {
            "text/plain": [
              "Series([], dtype: int64)"
            ]
          },
          "metadata": {},
          "execution_count": 132
        }
      ]
    },
    {
      "cell_type": "markdown",
      "metadata": {
        "id": "F-ZNU9HOyDOK"
      },
      "source": [
        "# Extracting Readibility"
      ]
    },
    {
      "cell_type": "code",
      "metadata": {
        "colab": {
          "base_uri": "https://localhost:8080/"
        },
        "id": "RAmlW7BGxX2v",
        "outputId": "9b5c1173-57fd-4802-a996-fb04ed0769c8"
      },
      "source": [
        "!pip install textstat"
      ],
      "execution_count": null,
      "outputs": [
        {
          "output_type": "stream",
          "name": "stdout",
          "text": [
            "Collecting textstat\n",
            "  Downloading textstat-0.7.2-py3-none-any.whl (101 kB)\n",
            "\u001b[K     |████████████████████████████████| 101 kB 3.8 MB/s \n",
            "\u001b[?25hCollecting pyphen\n",
            "  Downloading pyphen-0.11.0-py3-none-any.whl (2.0 MB)\n",
            "\u001b[K     |████████████████████████████████| 2.0 MB 13.9 MB/s \n",
            "\u001b[?25hInstalling collected packages: pyphen, textstat\n",
            "Successfully installed pyphen-0.11.0 textstat-0.7.2\n"
          ]
        }
      ]
    },
    {
      "cell_type": "code",
      "metadata": {
        "id": "FTmxCQLjzD7H"
      },
      "source": [
        "import textstat"
      ],
      "execution_count": null,
      "outputs": []
    },
    {
      "cell_type": "code",
      "metadata": {
        "id": "q11nuyQYyF5t"
      },
      "source": [
        "def extract_scores(test_data):\n",
        "  try:\n",
        "    scores = [textstat.flesch_reading_ease(test_data),textstat.flesch_kincaid_grade(test_data),textstat.smog_index(test_data),textstat.coleman_liau_index(test_data), textstat.automated_readability_index(test_data),textstat.dale_chall_readability_score(test_data), textstat.difficult_words(test_data), textstat.linsear_write_formula(test_data), textstat.gunning_fog(test_data), textstat.text_standard(test_data), textstat.fernandez_huerta(test_data), textstat.szigriszt_pazos(test_data), textstat.gutierrez_polini(test_data), textstat.crawford(test_data), textstat.gulpease_index(test_data), textstat.osman(test_data)]\n",
        "  except:\n",
        "    scores = [0.0]*9 + ['NOT USE'] + [0.0]*6\n",
        "  return scores"
      ],
      "execution_count": null,
      "outputs": []
    },
    {
      "cell_type": "code",
      "metadata": {
        "colab": {
          "base_uri": "https://localhost:8080/"
        },
        "id": "1gz3fZhqy_5r",
        "outputId": "e043bc3f-d83f-4c97-edf0-a4a19c717f65"
      },
      "source": [
        "test_data = (\n",
        "    \"Playing games has always been thought to be important to \"\n",
        "    \"the development of well-balanced and creative children; \"\n",
        "    \"however, what part, if any, they should play in the lives \"\n",
        "    \"of adults has never been researched that deeply. I believe \"\n",
        "    \"that playing games is every bit as important for adults \"\n",
        "    \"as for children. Not only is taking time out to play games \"\n",
        "    \"with our children and other adults valuable to building \"\n",
        "    \"interpersonal relationships but is also a wonderful way \"\n",
        "    \"to release built up tension.\"\n",
        ")\n",
        "extract_scores(test_data)"
      ],
      "execution_count": null,
      "outputs": [
        {
          "output_type": "execute_result",
          "data": {
            "text/plain": [
              "[52.23,\n",
              " 12.8,\n",
              " 12.5,\n",
              " 11.03,\n",
              " 15.5,\n",
              " 7.3,\n",
              " 9,\n",
              " 16.333333333333332,\n",
              " 12.38,\n",
              " '12th and 13th grade',\n",
              " 89.0,\n",
              " 87.57,\n",
              " 38.79,\n",
              " 3.1,\n",
              " 50.707317073170735,\n",
              " 48.01]"
            ]
          },
          "metadata": {},
          "execution_count": 138
        }
      ]
    },
    {
      "cell_type": "code",
      "metadata": {
        "id": "SqfhcIZEz8n6"
      },
      "source": [
        "scores = all_data['definitions'].apply(lambda x: extract_scores(str(x)))"
      ],
      "execution_count": null,
      "outputs": []
    },
    {
      "cell_type": "code",
      "metadata": {
        "colab": {
          "base_uri": "https://localhost:8080/"
        },
        "id": "HW6n4uzT2kzM",
        "outputId": "189b454b-89d5-412f-acb5-03bbf41daa5c"
      },
      "source": [
        "len(scores)"
      ],
      "execution_count": null,
      "outputs": [
        {
          "output_type": "execute_result",
          "data": {
            "text/plain": [
              "8408"
            ]
          },
          "metadata": {},
          "execution_count": 144
        }
      ]
    },
    {
      "cell_type": "code",
      "metadata": {
        "colab": {
          "base_uri": "https://localhost:8080/",
          "height": 600
        },
        "id": "nWiUBiYA2yvI",
        "outputId": "e5f34414-162f-4181-e36d-3038264c02d8"
      },
      "source": [
        "scores_df = pd.DataFrame(list(scores))\n",
        "scores_df.columns = ['flesch_reading_ease','flesch_kincaid_grade','smog_index','coleman_liau_index','automated_readability_index','dale_chall_readability_score','difficult_words','linsear_write_formula','gunning_fog','text_standard','fernandez_huerta','szigriszt_pazos','gutierrez_polini','crawford','gulpease_index','osman']\n",
        "scores_df"
      ],
      "execution_count": null,
      "outputs": [
        {
          "output_type": "execute_result",
          "data": {
            "text/html": [
              "<div>\n",
              "<style scoped>\n",
              "    .dataframe tbody tr th:only-of-type {\n",
              "        vertical-align: middle;\n",
              "    }\n",
              "\n",
              "    .dataframe tbody tr th {\n",
              "        vertical-align: top;\n",
              "    }\n",
              "\n",
              "    .dataframe thead th {\n",
              "        text-align: right;\n",
              "    }\n",
              "</style>\n",
              "<table border=\"1\" class=\"dataframe\">\n",
              "  <thead>\n",
              "    <tr style=\"text-align: right;\">\n",
              "      <th></th>\n",
              "      <th>flesch_reading_ease</th>\n",
              "      <th>flesch_kincaid_grade</th>\n",
              "      <th>smog_index</th>\n",
              "      <th>coleman_liau_index</th>\n",
              "      <th>automated_readability_index</th>\n",
              "      <th>dale_chall_readability_score</th>\n",
              "      <th>difficult_words</th>\n",
              "      <th>linsear_write_formula</th>\n",
              "      <th>gunning_fog</th>\n",
              "      <th>text_standard</th>\n",
              "      <th>fernandez_huerta</th>\n",
              "      <th>szigriszt_pazos</th>\n",
              "      <th>gutierrez_polini</th>\n",
              "      <th>crawford</th>\n",
              "      <th>gulpease_index</th>\n",
              "      <th>osman</th>\n",
              "    </tr>\n",
              "  </thead>\n",
              "  <tbody>\n",
              "    <tr>\n",
              "      <th>0</th>\n",
              "      <td>51.18</td>\n",
              "      <td>11.1</td>\n",
              "      <td>0.0</td>\n",
              "      <td>9.40</td>\n",
              "      <td>10.5</td>\n",
              "      <td>10.16</td>\n",
              "      <td>6.0</td>\n",
              "      <td>12.0</td>\n",
              "      <td>12.00</td>\n",
              "      <td>11th and 12th grade</td>\n",
              "      <td>90.4</td>\n",
              "      <td>87.16</td>\n",
              "      <td>43.58</td>\n",
              "      <td>3.4</td>\n",
              "      <td>57.500000</td>\n",
              "      <td>63.21</td>\n",
              "    </tr>\n",
              "    <tr>\n",
              "      <th>1</th>\n",
              "      <td>57.61</td>\n",
              "      <td>10.7</td>\n",
              "      <td>0.0</td>\n",
              "      <td>7.78</td>\n",
              "      <td>12.3</td>\n",
              "      <td>10.47</td>\n",
              "      <td>4.0</td>\n",
              "      <td>15.0</td>\n",
              "      <td>14.25</td>\n",
              "      <td>10th and 11th grade</td>\n",
              "      <td>94.4</td>\n",
              "      <td>91.39</td>\n",
              "      <td>45.61</td>\n",
              "      <td>3.0</td>\n",
              "      <td>54.454545</td>\n",
              "      <td>66.35</td>\n",
              "    </tr>\n",
              "    <tr>\n",
              "      <th>2</th>\n",
              "      <td>54.22</td>\n",
              "      <td>9.9</td>\n",
              "      <td>0.0</td>\n",
              "      <td>6.67</td>\n",
              "      <td>8.4</td>\n",
              "      <td>10.98</td>\n",
              "      <td>4.0</td>\n",
              "      <td>12.5</td>\n",
              "      <td>16.21</td>\n",
              "      <td>9th and 10th grade</td>\n",
              "      <td>93.5</td>\n",
              "      <td>87.22</td>\n",
              "      <td>48.74</td>\n",
              "      <td>3.5</td>\n",
              "      <td>61.352941</td>\n",
              "      <td>75.43</td>\n",
              "    </tr>\n",
              "    <tr>\n",
              "      <th>3</th>\n",
              "      <td>47.79</td>\n",
              "      <td>10.3</td>\n",
              "      <td>0.0</td>\n",
              "      <td>9.56</td>\n",
              "      <td>8.7</td>\n",
              "      <td>9.64</td>\n",
              "      <td>4.0</td>\n",
              "      <td>10.5</td>\n",
              "      <td>14.00</td>\n",
              "      <td>9th and 10th grade</td>\n",
              "      <td>89.6</td>\n",
              "      <td>83.85</td>\n",
              "      <td>44.04</td>\n",
              "      <td>3.7</td>\n",
              "      <td>61.000000</td>\n",
              "      <td>64.66</td>\n",
              "    </tr>\n",
              "    <tr>\n",
              "      <th>4</th>\n",
              "      <td>44.41</td>\n",
              "      <td>9.6</td>\n",
              "      <td>0.0</td>\n",
              "      <td>8.50</td>\n",
              "      <td>6.2</td>\n",
              "      <td>10.45</td>\n",
              "      <td>4.0</td>\n",
              "      <td>6.0</td>\n",
              "      <td>12.00</td>\n",
              "      <td>9th and 10th grade</td>\n",
              "      <td>88.6</td>\n",
              "      <td>84.70</td>\n",
              "      <td>46.11</td>\n",
              "      <td>3.4</td>\n",
              "      <td>71.000000</td>\n",
              "      <td>74.57</td>\n",
              "    </tr>\n",
              "    <tr>\n",
              "      <th>...</th>\n",
              "      <td>...</td>\n",
              "      <td>...</td>\n",
              "      <td>...</td>\n",
              "      <td>...</td>\n",
              "      <td>...</td>\n",
              "      <td>...</td>\n",
              "      <td>...</td>\n",
              "      <td>...</td>\n",
              "      <td>...</td>\n",
              "      <td>...</td>\n",
              "      <td>...</td>\n",
              "      <td>...</td>\n",
              "      <td>...</td>\n",
              "      <td>...</td>\n",
              "      <td>...</td>\n",
              "      <td>...</td>\n",
              "    </tr>\n",
              "    <tr>\n",
              "      <th>8403</th>\n",
              "      <td>55.24</td>\n",
              "      <td>9.5</td>\n",
              "      <td>0.0</td>\n",
              "      <td>9.97</td>\n",
              "      <td>9.6</td>\n",
              "      <td>13.31</td>\n",
              "      <td>3.0</td>\n",
              "      <td>12.0</td>\n",
              "      <td>13.90</td>\n",
              "      <td>9th and 10th grade</td>\n",
              "      <td>94.5</td>\n",
              "      <td>89.60</td>\n",
              "      <td>43.53</td>\n",
              "      <td>3.3</td>\n",
              "      <td>59.000000</td>\n",
              "      <td>65.16</td>\n",
              "    </tr>\n",
              "    <tr>\n",
              "      <th>8404</th>\n",
              "      <td>51.18</td>\n",
              "      <td>11.1</td>\n",
              "      <td>0.0</td>\n",
              "      <td>12.59</td>\n",
              "      <td>13.1</td>\n",
              "      <td>9.37</td>\n",
              "      <td>5.0</td>\n",
              "      <td>12.0</td>\n",
              "      <td>12.00</td>\n",
              "      <td>11th and 12th grade</td>\n",
              "      <td>90.4</td>\n",
              "      <td>90.27</td>\n",
              "      <td>38.25</td>\n",
              "      <td>3.2</td>\n",
              "      <td>52.000000</td>\n",
              "      <td>48.70</td>\n",
              "    </tr>\n",
              "    <tr>\n",
              "      <th>8405</th>\n",
              "      <td>93.81</td>\n",
              "      <td>0.9</td>\n",
              "      <td>0.0</td>\n",
              "      <td>3.43</td>\n",
              "      <td>5.2</td>\n",
              "      <td>14.31</td>\n",
              "      <td>1.0</td>\n",
              "      <td>0.5</td>\n",
              "      <td>1.20</td>\n",
              "      <td>0th and 1st grade</td>\n",
              "      <td>125.8</td>\n",
              "      <td>120.77</td>\n",
              "      <td>45.65</td>\n",
              "      <td>-3.8</td>\n",
              "      <td>135.666667</td>\n",
              "      <td>84.90</td>\n",
              "    </tr>\n",
              "    <tr>\n",
              "      <th>8406</th>\n",
              "      <td>10.56</td>\n",
              "      <td>14.3</td>\n",
              "      <td>0.0</td>\n",
              "      <td>19.52</td>\n",
              "      <td>16.1</td>\n",
              "      <td>13.61</td>\n",
              "      <td>5.0</td>\n",
              "      <td>9.0</td>\n",
              "      <td>20.00</td>\n",
              "      <td>19th and 20th grade</td>\n",
              "      <td>64.6</td>\n",
              "      <td>59.78</td>\n",
              "      <td>27.68</td>\n",
              "      <td>5.3</td>\n",
              "      <td>50.000000</td>\n",
              "      <td>14.12</td>\n",
              "    </tr>\n",
              "    <tr>\n",
              "      <th>8407</th>\n",
              "      <td>36.63</td>\n",
              "      <td>14.6</td>\n",
              "      <td>0.0</td>\n",
              "      <td>12.89</td>\n",
              "      <td>17.3</td>\n",
              "      <td>13.43</td>\n",
              "      <td>9.0</td>\n",
              "      <td>16.0</td>\n",
              "      <td>16.55</td>\n",
              "      <td>12th and 13th grade</td>\n",
              "      <td>78.3</td>\n",
              "      <td>75.40</td>\n",
              "      <td>36.11</td>\n",
              "      <td>4.1</td>\n",
              "      <td>45.923077</td>\n",
              "      <td>37.69</td>\n",
              "    </tr>\n",
              "  </tbody>\n",
              "</table>\n",
              "<p>8408 rows × 16 columns</p>\n",
              "</div>"
            ],
            "text/plain": [
              "      flesch_reading_ease  flesch_kincaid_grade  smog_index  coleman_liau_index  automated_readability_index  dale_chall_readability_score  difficult_words  linsear_write_formula  gunning_fog        text_standard  fernandez_huerta  szigriszt_pazos  gutierrez_polini  crawford  gulpease_index  osman\n",
              "0                   51.18                  11.1         0.0                9.40                         10.5                         10.16              6.0                   12.0        12.00  11th and 12th grade              90.4            87.16             43.58       3.4       57.500000  63.21\n",
              "1                   57.61                  10.7         0.0                7.78                         12.3                         10.47              4.0                   15.0        14.25  10th and 11th grade              94.4            91.39             45.61       3.0       54.454545  66.35\n",
              "2                   54.22                   9.9         0.0                6.67                          8.4                         10.98              4.0                   12.5        16.21   9th and 10th grade              93.5            87.22             48.74       3.5       61.352941  75.43\n",
              "3                   47.79                  10.3         0.0                9.56                          8.7                          9.64              4.0                   10.5        14.00   9th and 10th grade              89.6            83.85             44.04       3.7       61.000000  64.66\n",
              "4                   44.41                   9.6         0.0                8.50                          6.2                         10.45              4.0                    6.0        12.00   9th and 10th grade              88.6            84.70             46.11       3.4       71.000000  74.57\n",
              "...                   ...                   ...         ...                 ...                          ...                           ...              ...                    ...          ...                  ...               ...              ...               ...       ...             ...    ...\n",
              "8403                55.24                   9.5         0.0                9.97                          9.6                         13.31              3.0                   12.0        13.90   9th and 10th grade              94.5            89.60             43.53       3.3       59.000000  65.16\n",
              "8404                51.18                  11.1         0.0               12.59                         13.1                          9.37              5.0                   12.0        12.00  11th and 12th grade              90.4            90.27             38.25       3.2       52.000000  48.70\n",
              "8405                93.81                   0.9         0.0                3.43                          5.2                         14.31              1.0                    0.5         1.20    0th and 1st grade             125.8           120.77             45.65      -3.8      135.666667  84.90\n",
              "8406                10.56                  14.3         0.0               19.52                         16.1                         13.61              5.0                    9.0        20.00  19th and 20th grade              64.6            59.78             27.68       5.3       50.000000  14.12\n",
              "8407                36.63                  14.6         0.0               12.89                         17.3                         13.43              9.0                   16.0        16.55  12th and 13th grade              78.3            75.40             36.11       4.1       45.923077  37.69\n",
              "\n",
              "[8408 rows x 16 columns]"
            ]
          },
          "metadata": {},
          "execution_count": 150
        }
      ]
    },
    {
      "cell_type": "code",
      "metadata": {
        "colab": {
          "base_uri": "https://localhost:8080/"
        },
        "id": "T9mtm0Ir1rOR",
        "outputId": "9546558f-baea-444e-9371-de186c8e8c0b"
      },
      "source": [
        "scores_df[scores_df['text_standard']!='NOT USE'].shape"
      ],
      "execution_count": null,
      "outputs": [
        {
          "output_type": "execute_result",
          "data": {
            "text/plain": [
              "(8401, 16)"
            ]
          },
          "metadata": {},
          "execution_count": 151
        }
      ]
    },
    {
      "cell_type": "code",
      "metadata": {
        "colab": {
          "base_uri": "https://localhost:8080/"
        },
        "id": "FBC0TOrp4Ef1",
        "outputId": "99b99fde-44a2-4998-f9a8-bf003e7a71b8"
      },
      "source": [
        "all_data.shape"
      ],
      "execution_count": null,
      "outputs": [
        {
          "output_type": "execute_result",
          "data": {
            "text/plain": [
              "(8408, 4)"
            ]
          },
          "metadata": {},
          "execution_count": 154
        }
      ]
    },
    {
      "cell_type": "code",
      "metadata": {
        "colab": {
          "base_uri": "https://localhost:8080/"
        },
        "id": "NNrq35dm3_2h",
        "outputId": "485f2b5f-4cc6-4399-8f1e-d5c3ef97dec0"
      },
      "source": [
        "scores_df.shape"
      ],
      "execution_count": null,
      "outputs": [
        {
          "output_type": "execute_result",
          "data": {
            "text/plain": [
              "(8408, 16)"
            ]
          },
          "metadata": {},
          "execution_count": 153
        }
      ]
    },
    {
      "cell_type": "code",
      "metadata": {
        "colab": {
          "base_uri": "https://localhost:8080/",
          "height": 946
        },
        "id": "dPrNV9Xx3lCu",
        "outputId": "07d1f6b4-25e2-416c-87eb-2b55e2b6ceb8"
      },
      "source": [
        "all_data_scores_df = pd.concat([all_data.reset_index(),scores_df.reset_index()], axis = 1)\n",
        "all_data_scores_df"
      ],
      "execution_count": null,
      "outputs": [
        {
          "output_type": "execute_result",
          "data": {
            "text/html": [
              "<div>\n",
              "<style scoped>\n",
              "    .dataframe tbody tr th:only-of-type {\n",
              "        vertical-align: middle;\n",
              "    }\n",
              "\n",
              "    .dataframe tbody tr th {\n",
              "        vertical-align: top;\n",
              "    }\n",
              "\n",
              "    .dataframe thead th {\n",
              "        text-align: right;\n",
              "    }\n",
              "</style>\n",
              "<table border=\"1\" class=\"dataframe\">\n",
              "  <thead>\n",
              "    <tr style=\"text-align: right;\">\n",
              "      <th></th>\n",
              "      <th>index</th>\n",
              "      <th>terms</th>\n",
              "      <th>definitions</th>\n",
              "      <th>source</th>\n",
              "      <th>assigned_readibility</th>\n",
              "      <th>index</th>\n",
              "      <th>flesch_reading_ease</th>\n",
              "      <th>flesch_kincaid_grade</th>\n",
              "      <th>smog_index</th>\n",
              "      <th>coleman_liau_index</th>\n",
              "      <th>automated_readability_index</th>\n",
              "      <th>dale_chall_readability_score</th>\n",
              "      <th>difficult_words</th>\n",
              "      <th>linsear_write_formula</th>\n",
              "      <th>gunning_fog</th>\n",
              "      <th>text_standard</th>\n",
              "      <th>fernandez_huerta</th>\n",
              "      <th>szigriszt_pazos</th>\n",
              "      <th>gutierrez_polini</th>\n",
              "      <th>crawford</th>\n",
              "      <th>gulpease_index</th>\n",
              "      <th>osman</th>\n",
              "    </tr>\n",
              "  </thead>\n",
              "  <tbody>\n",
              "    <tr>\n",
              "      <th>0</th>\n",
              "      <td>0</td>\n",
              "      <td>adjusted present value (apv)</td>\n",
              "      <td>net present value of an asset if financed so...</td>\n",
              "      <td>prin</td>\n",
              "      <td>0.0</td>\n",
              "      <td>0</td>\n",
              "      <td>51.18</td>\n",
              "      <td>11.1</td>\n",
              "      <td>0.0</td>\n",
              "      <td>9.40</td>\n",
              "      <td>10.5</td>\n",
              "      <td>10.16</td>\n",
              "      <td>6.0</td>\n",
              "      <td>12.0</td>\n",
              "      <td>12.00</td>\n",
              "      <td>11th and 12th grade</td>\n",
              "      <td>90.4</td>\n",
              "      <td>87.16</td>\n",
              "      <td>43.58</td>\n",
              "      <td>3.4</td>\n",
              "      <td>57.500000</td>\n",
              "      <td>63.21</td>\n",
              "    </tr>\n",
              "    <tr>\n",
              "      <th>1</th>\n",
              "      <td>1</td>\n",
              "      <td>agency costs</td>\n",
              "      <td>costs that arise when an agent (e.g., a mana...</td>\n",
              "      <td>prin</td>\n",
              "      <td>0.0</td>\n",
              "      <td>1</td>\n",
              "      <td>57.61</td>\n",
              "      <td>10.7</td>\n",
              "      <td>0.0</td>\n",
              "      <td>7.78</td>\n",
              "      <td>12.3</td>\n",
              "      <td>10.47</td>\n",
              "      <td>4.0</td>\n",
              "      <td>15.0</td>\n",
              "      <td>14.25</td>\n",
              "      <td>10th and 11th grade</td>\n",
              "      <td>94.4</td>\n",
              "      <td>91.39</td>\n",
              "      <td>45.61</td>\n",
              "      <td>3.0</td>\n",
              "      <td>54.454545</td>\n",
              "      <td>66.35</td>\n",
              "    </tr>\n",
              "    <tr>\n",
              "      <th>2</th>\n",
              "      <td>2</td>\n",
              "      <td>annual percentage rate (apr)</td>\n",
              "      <td>the interest rate per period (e.g., per mont...</td>\n",
              "      <td>prin</td>\n",
              "      <td>0.0</td>\n",
              "      <td>2</td>\n",
              "      <td>54.22</td>\n",
              "      <td>9.9</td>\n",
              "      <td>0.0</td>\n",
              "      <td>6.67</td>\n",
              "      <td>8.4</td>\n",
              "      <td>10.98</td>\n",
              "      <td>4.0</td>\n",
              "      <td>12.5</td>\n",
              "      <td>16.21</td>\n",
              "      <td>9th and 10th grade</td>\n",
              "      <td>93.5</td>\n",
              "      <td>87.22</td>\n",
              "      <td>48.74</td>\n",
              "      <td>3.5</td>\n",
              "      <td>61.352941</td>\n",
              "      <td>75.43</td>\n",
              "    </tr>\n",
              "    <tr>\n",
              "      <th>3</th>\n",
              "      <td>3</td>\n",
              "      <td>annuity</td>\n",
              "      <td>investment that produces a level stream of c...</td>\n",
              "      <td>prin</td>\n",
              "      <td>0.0</td>\n",
              "      <td>3</td>\n",
              "      <td>47.79</td>\n",
              "      <td>10.3</td>\n",
              "      <td>0.0</td>\n",
              "      <td>9.56</td>\n",
              "      <td>8.7</td>\n",
              "      <td>9.64</td>\n",
              "      <td>4.0</td>\n",
              "      <td>10.5</td>\n",
              "      <td>14.00</td>\n",
              "      <td>9th and 10th grade</td>\n",
              "      <td>89.6</td>\n",
              "      <td>83.85</td>\n",
              "      <td>44.04</td>\n",
              "      <td>3.7</td>\n",
              "      <td>61.000000</td>\n",
              "      <td>64.66</td>\n",
              "    </tr>\n",
              "    <tr>\n",
              "      <th>4</th>\n",
              "      <td>4</td>\n",
              "      <td>annuity due</td>\n",
              "      <td>annuity whose payments occur at the start of...</td>\n",
              "      <td>prin</td>\n",
              "      <td>0.0</td>\n",
              "      <td>4</td>\n",
              "      <td>44.41</td>\n",
              "      <td>9.6</td>\n",
              "      <td>0.0</td>\n",
              "      <td>8.50</td>\n",
              "      <td>6.2</td>\n",
              "      <td>10.45</td>\n",
              "      <td>4.0</td>\n",
              "      <td>6.0</td>\n",
              "      <td>12.00</td>\n",
              "      <td>9th and 10th grade</td>\n",
              "      <td>88.6</td>\n",
              "      <td>84.70</td>\n",
              "      <td>46.11</td>\n",
              "      <td>3.4</td>\n",
              "      <td>71.000000</td>\n",
              "      <td>74.57</td>\n",
              "    </tr>\n",
              "    <tr>\n",
              "      <th>...</th>\n",
              "      <td>...</td>\n",
              "      <td>...</td>\n",
              "      <td>...</td>\n",
              "      <td>...</td>\n",
              "      <td>...</td>\n",
              "      <td>...</td>\n",
              "      <td>...</td>\n",
              "      <td>...</td>\n",
              "      <td>...</td>\n",
              "      <td>...</td>\n",
              "      <td>...</td>\n",
              "      <td>...</td>\n",
              "      <td>...</td>\n",
              "      <td>...</td>\n",
              "      <td>...</td>\n",
              "      <td>...</td>\n",
              "      <td>...</td>\n",
              "      <td>...</td>\n",
              "      <td>...</td>\n",
              "      <td>...</td>\n",
              "      <td>...</td>\n",
              "      <td>...</td>\n",
              "    </tr>\n",
              "    <tr>\n",
              "      <th>8403</th>\n",
              "      <td>460</td>\n",
              "      <td>yield curve</td>\n",
              "      <td>A plot of the interest rates for par-ticular t...</td>\n",
              "      <td>fmi</td>\n",
              "      <td>0.0</td>\n",
              "      <td>8403</td>\n",
              "      <td>55.24</td>\n",
              "      <td>9.5</td>\n",
              "      <td>0.0</td>\n",
              "      <td>9.97</td>\n",
              "      <td>9.6</td>\n",
              "      <td>13.31</td>\n",
              "      <td>3.0</td>\n",
              "      <td>12.0</td>\n",
              "      <td>13.90</td>\n",
              "      <td>9th and 10th grade</td>\n",
              "      <td>94.5</td>\n",
              "      <td>89.60</td>\n",
              "      <td>43.53</td>\n",
              "      <td>3.3</td>\n",
              "      <td>59.000000</td>\n",
              "      <td>65.16</td>\n",
              "    </tr>\n",
              "    <tr>\n",
              "      <th>8404</th>\n",
              "      <td>461</td>\n",
              "      <td>yield to maturity</td>\n",
              "      <td>The interest rate that equates the present val...</td>\n",
              "      <td>fmi</td>\n",
              "      <td>0.0</td>\n",
              "      <td>8404</td>\n",
              "      <td>51.18</td>\n",
              "      <td>11.1</td>\n",
              "      <td>0.0</td>\n",
              "      <td>12.59</td>\n",
              "      <td>13.1</td>\n",
              "      <td>9.37</td>\n",
              "      <td>5.0</td>\n",
              "      <td>12.0</td>\n",
              "      <td>12.00</td>\n",
              "      <td>11th and 12th grade</td>\n",
              "      <td>90.4</td>\n",
              "      <td>90.27</td>\n",
              "      <td>38.25</td>\n",
              "      <td>3.2</td>\n",
              "      <td>52.000000</td>\n",
              "      <td>48.70</td>\n",
              "    </tr>\n",
              "    <tr>\n",
              "      <th>8405</th>\n",
              "      <td>462</td>\n",
              "      <td>zero-coupon bond</td>\n",
              "      <td>See discount bond.</td>\n",
              "      <td>fmi</td>\n",
              "      <td>0.0</td>\n",
              "      <td>8405</td>\n",
              "      <td>93.81</td>\n",
              "      <td>0.9</td>\n",
              "      <td>0.0</td>\n",
              "      <td>3.43</td>\n",
              "      <td>5.2</td>\n",
              "      <td>14.31</td>\n",
              "      <td>1.0</td>\n",
              "      <td>0.5</td>\n",
              "      <td>1.20</td>\n",
              "      <td>0th and 1st grade</td>\n",
              "      <td>125.8</td>\n",
              "      <td>120.77</td>\n",
              "      <td>45.65</td>\n",
              "      <td>-3.8</td>\n",
              "      <td>135.666667</td>\n",
              "      <td>84.90</td>\n",
              "    </tr>\n",
              "    <tr>\n",
              "      <th>8406</th>\n",
              "      <td>463</td>\n",
              "      <td>zero-coupon securities</td>\n",
              "      <td>See Separate Trading of Registered Interest an...</td>\n",
              "      <td>fmi</td>\n",
              "      <td>0.0</td>\n",
              "      <td>8406</td>\n",
              "      <td>10.56</td>\n",
              "      <td>14.3</td>\n",
              "      <td>0.0</td>\n",
              "      <td>19.52</td>\n",
              "      <td>16.1</td>\n",
              "      <td>13.61</td>\n",
              "      <td>5.0</td>\n",
              "      <td>9.0</td>\n",
              "      <td>20.00</td>\n",
              "      <td>19th and 20th grade</td>\n",
              "      <td>64.6</td>\n",
              "      <td>59.78</td>\n",
              "      <td>27.68</td>\n",
              "      <td>5.3</td>\n",
              "      <td>50.000000</td>\n",
              "      <td>14.12</td>\n",
              "    </tr>\n",
              "    <tr>\n",
              "      <th>8407</th>\n",
              "      <td>464</td>\n",
              "      <td>zero-lower-bound problem</td>\n",
              "      <td>Situation in which the central bank is unable ...</td>\n",
              "      <td>fmi</td>\n",
              "      <td>0.0</td>\n",
              "      <td>8407</td>\n",
              "      <td>36.63</td>\n",
              "      <td>14.6</td>\n",
              "      <td>0.0</td>\n",
              "      <td>12.89</td>\n",
              "      <td>17.3</td>\n",
              "      <td>13.43</td>\n",
              "      <td>9.0</td>\n",
              "      <td>16.0</td>\n",
              "      <td>16.55</td>\n",
              "      <td>12th and 13th grade</td>\n",
              "      <td>78.3</td>\n",
              "      <td>75.40</td>\n",
              "      <td>36.11</td>\n",
              "      <td>4.1</td>\n",
              "      <td>45.923077</td>\n",
              "      <td>37.69</td>\n",
              "    </tr>\n",
              "  </tbody>\n",
              "</table>\n",
              "<p>8408 rows × 22 columns</p>\n",
              "</div>"
            ],
            "text/plain": [
              "      index                         terms                                        definitions source  assigned_readibility  index  flesch_reading_ease  flesch_kincaid_grade  smog_index  coleman_liau_index  automated_readability_index  dale_chall_readability_score  difficult_words  linsear_write_formula  gunning_fog        text_standard  fernandez_huerta  szigriszt_pazos  gutierrez_polini  crawford  gulpease_index  osman\n",
              "0         0  adjusted present value (apv)    net present value of an asset if financed so...   prin                   0.0      0                51.18                  11.1         0.0                9.40                         10.5                         10.16              6.0                   12.0        12.00  11th and 12th grade              90.4            87.16             43.58       3.4       57.500000  63.21\n",
              "1         1                  agency costs    costs that arise when an agent (e.g., a mana...   prin                   0.0      1                57.61                  10.7         0.0                7.78                         12.3                         10.47              4.0                   15.0        14.25  10th and 11th grade              94.4            91.39             45.61       3.0       54.454545  66.35\n",
              "2         2  annual percentage rate (apr)    the interest rate per period (e.g., per mont...   prin                   0.0      2                54.22                   9.9         0.0                6.67                          8.4                         10.98              4.0                   12.5        16.21   9th and 10th grade              93.5            87.22             48.74       3.5       61.352941  75.43\n",
              "3         3                       annuity    investment that produces a level stream of c...   prin                   0.0      3                47.79                  10.3         0.0                9.56                          8.7                          9.64              4.0                   10.5        14.00   9th and 10th grade              89.6            83.85             44.04       3.7       61.000000  64.66\n",
              "4         4                   annuity due    annuity whose payments occur at the start of...   prin                   0.0      4                44.41                   9.6         0.0                8.50                          6.2                         10.45              4.0                    6.0        12.00   9th and 10th grade              88.6            84.70             46.11       3.4       71.000000  74.57\n",
              "...     ...                           ...                                                ...    ...                   ...    ...                  ...                   ...         ...                 ...                          ...                           ...              ...                    ...          ...                  ...               ...              ...               ...       ...             ...    ...\n",
              "8403    460                   yield curve  A plot of the interest rates for par-ticular t...    fmi                   0.0   8403                55.24                   9.5         0.0                9.97                          9.6                         13.31              3.0                   12.0        13.90   9th and 10th grade              94.5            89.60             43.53       3.3       59.000000  65.16\n",
              "8404    461             yield to maturity  The interest rate that equates the present val...    fmi                   0.0   8404                51.18                  11.1         0.0               12.59                         13.1                          9.37              5.0                   12.0        12.00  11th and 12th grade              90.4            90.27             38.25       3.2       52.000000  48.70\n",
              "8405    462              zero-coupon bond                                 See discount bond.    fmi                   0.0   8405                93.81                   0.9         0.0                3.43                          5.2                         14.31              1.0                    0.5         1.20    0th and 1st grade             125.8           120.77             45.65      -3.8      135.666667  84.90\n",
              "8406    463        zero-coupon securities  See Separate Trading of Registered Interest an...    fmi                   0.0   8406                10.56                  14.3         0.0               19.52                         16.1                         13.61              5.0                    9.0        20.00  19th and 20th grade              64.6            59.78             27.68       5.3       50.000000  14.12\n",
              "8407    464      zero-lower-bound problem  Situation in which the central bank is unable ...    fmi                   0.0   8407                36.63                  14.6         0.0               12.89                         17.3                         13.43              9.0                   16.0        16.55  12th and 13th grade              78.3            75.40             36.11       4.1       45.923077  37.69\n",
              "\n",
              "[8408 rows x 22 columns]"
            ]
          },
          "metadata": {},
          "execution_count": 157
        }
      ]
    },
    {
      "cell_type": "code",
      "metadata": {
        "colab": {
          "base_uri": "https://localhost:8080/"
        },
        "id": "bJTJteEE4kOB",
        "outputId": "5b9466e4-afef-4929-fe61-1a6024d899b6"
      },
      "source": [
        "sorted(all_data_scores_df.columns)"
      ],
      "execution_count": null,
      "outputs": [
        {
          "output_type": "execute_result",
          "data": {
            "text/plain": [
              "['assigned_readibility',\n",
              " 'automated_readability_index',\n",
              " 'coleman_liau_index',\n",
              " 'crawford',\n",
              " 'dale_chall_readability_score',\n",
              " 'definitions',\n",
              " 'difficult_words',\n",
              " 'fernandez_huerta',\n",
              " 'flesch_kincaid_grade',\n",
              " 'flesch_reading_ease',\n",
              " 'gulpease_index',\n",
              " 'gunning_fog',\n",
              " 'gutierrez_polini',\n",
              " 'index',\n",
              " 'index',\n",
              " 'linsear_write_formula',\n",
              " 'osman',\n",
              " 'smog_index',\n",
              " 'source',\n",
              " 'szigriszt_pazos',\n",
              " 'terms',\n",
              " 'text_standard']"
            ]
          },
          "metadata": {},
          "execution_count": 160
        }
      ]
    },
    {
      "cell_type": "code",
      "metadata": {
        "id": "otxBY_KO3gOz"
      },
      "source": [
        "all_data_scores_df[all_data_scores_df['text_standard']!='NOT USE'].drop('index', axis = 1).to_csv('data_with_scores.csv', index = False)"
      ],
      "execution_count": null,
      "outputs": []
    }
  ]
}